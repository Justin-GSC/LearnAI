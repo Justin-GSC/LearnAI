{
 "cells": [
  {
   "cell_type": "markdown",
   "metadata": {
    "collapsed": true
   },
   "source": [
    "***\n",
    "\n",
    "## Pandas第二课作业\n",
    "\n",
    "####  作业提交说明：\n",
    "- 位置：作业文件统一放置于/0.Teacher/Exercise/Pandas2/下\n",
    "- 文件名：请先复制该notebook文件，并重新命名为(课程名)+(您姓名的全拼)，并按要求完成后保存\n",
    "- 时间：课程结束后的第二天前提交。\n",
    "- 注意：请勿抄袭，移动，修改，删除其他同学和原始空白的练习文件。\n"
   ]
  },
  {
   "cell_type": "markdown",
   "metadata": {},
   "source": [
    "## 作业\n",
    "- 作业所需数据文件位于0.Teacher/data目录下\n",
    "***"
   ]
  },
  {
   "cell_type": "code",
   "execution_count": 2,
   "metadata": {
    "ExecuteTime": {
     "end_time": "2019-05-16T06:24:00.369388Z",
     "start_time": "2019-05-16T06:24:00.354989Z"
    }
   },
   "outputs": [],
   "source": [
    "%config ZMQInteractiveShell.ast_node_interactivity=\"all\""
   ]
  },
  {
   "cell_type": "code",
   "execution_count": 1,
   "metadata": {
    "ExecuteTime": {
     "end_time": "2019-05-16T06:23:45.564496Z",
     "start_time": "2019-05-16T06:23:42.920646Z"
    }
   },
   "outputs": [],
   "source": [
    "import numpy as np\n",
    "import pandas as pd \n",
    "%matplotlib inline"
   ]
  },
  {
   "cell_type": "markdown",
   "metadata": {},
   "source": [
    "\n",
    "#### 1.读入0.Teacher/Data/下NVDA.csv中的数据\n"
   ]
  },
  {
   "cell_type": "code",
   "execution_count": 65,
   "metadata": {
    "ExecuteTime": {
     "end_time": "2019-05-16T09:06:08.606597Z",
     "start_time": "2019-05-16T09:06:08.567470Z"
    }
   },
   "outputs": [
    {
     "data": {
      "text/html": [
       "<div>\n",
       "<style scoped>\n",
       "    .dataframe tbody tr th:only-of-type {\n",
       "        vertical-align: middle;\n",
       "    }\n",
       "\n",
       "    .dataframe tbody tr th {\n",
       "        vertical-align: top;\n",
       "    }\n",
       "\n",
       "    .dataframe thead th {\n",
       "        text-align: right;\n",
       "    }\n",
       "</style>\n",
       "<table border=\"1\" class=\"dataframe\">\n",
       "  <thead>\n",
       "    <tr style=\"text-align: right;\">\n",
       "      <th></th>\n",
       "      <th>Open</th>\n",
       "      <th>High</th>\n",
       "      <th>Low</th>\n",
       "      <th>Close</th>\n",
       "      <th>Adj Close</th>\n",
       "      <th>Volume</th>\n",
       "    </tr>\n",
       "    <tr>\n",
       "      <th>Date</th>\n",
       "      <th></th>\n",
       "      <th></th>\n",
       "      <th></th>\n",
       "      <th></th>\n",
       "      <th></th>\n",
       "      <th></th>\n",
       "    </tr>\n",
       "  </thead>\n",
       "  <tbody>\n",
       "    <tr>\n",
       "      <th>1999-01-22</th>\n",
       "      <td>1.750000</td>\n",
       "      <td>1.953125</td>\n",
       "      <td>1.552083</td>\n",
       "      <td>1.640625</td>\n",
       "      <td>1.523430</td>\n",
       "      <td>67867200</td>\n",
       "    </tr>\n",
       "    <tr>\n",
       "      <th>1999-01-25</th>\n",
       "      <td>1.770833</td>\n",
       "      <td>1.833333</td>\n",
       "      <td>1.640625</td>\n",
       "      <td>1.812500</td>\n",
       "      <td>1.683028</td>\n",
       "      <td>12762000</td>\n",
       "    </tr>\n",
       "    <tr>\n",
       "      <th>1999-01-26</th>\n",
       "      <td>1.833333</td>\n",
       "      <td>1.869792</td>\n",
       "      <td>1.645833</td>\n",
       "      <td>1.671875</td>\n",
       "      <td>1.552448</td>\n",
       "      <td>8580000</td>\n",
       "    </tr>\n",
       "    <tr>\n",
       "      <th>1999-01-27</th>\n",
       "      <td>1.677083</td>\n",
       "      <td>1.718750</td>\n",
       "      <td>1.583333</td>\n",
       "      <td>1.666667</td>\n",
       "      <td>1.547611</td>\n",
       "      <td>6109200</td>\n",
       "    </tr>\n",
       "    <tr>\n",
       "      <th>1999-01-28</th>\n",
       "      <td>1.666667</td>\n",
       "      <td>1.677083</td>\n",
       "      <td>1.651042</td>\n",
       "      <td>1.661458</td>\n",
       "      <td>1.542776</td>\n",
       "      <td>5688000</td>\n",
       "    </tr>\n",
       "  </tbody>\n",
       "</table>\n",
       "</div>"
      ],
      "text/plain": [
       "                Open      High       Low     Close  Adj Close    Volume\n",
       "Date                                                                   \n",
       "1999-01-22  1.750000  1.953125  1.552083  1.640625   1.523430  67867200\n",
       "1999-01-25  1.770833  1.833333  1.640625  1.812500   1.683028  12762000\n",
       "1999-01-26  1.833333  1.869792  1.645833  1.671875   1.552448   8580000\n",
       "1999-01-27  1.677083  1.718750  1.583333  1.666667   1.547611   6109200\n",
       "1999-01-28  1.666667  1.677083  1.651042  1.661458   1.542776   5688000"
      ]
     },
     "execution_count": 65,
     "metadata": {},
     "output_type": "execute_result"
    }
   ],
   "source": [
    "nvda = pd.read_csv(\"data/NVDA.csv\",index_col=\"Date\",parse_dates=[\"Date\"])\n",
    "nvda.head()"
   ]
  },
  {
   "cell_type": "markdown",
   "metadata": {
    "collapsed": true
   },
   "source": [
    "#### 2.请计算nvda股票Adj Close每天的log return"
   ]
  },
  {
   "cell_type": "code",
   "execution_count": 66,
   "metadata": {
    "ExecuteTime": {
     "end_time": "2019-05-16T09:06:09.372268Z",
     "start_time": "2019-05-16T09:06:09.368253Z"
    }
   },
   "outputs": [],
   "source": [
    "# log return就是今天的价格除以昨天的，然后取log"
   ]
  },
  {
   "cell_type": "code",
   "execution_count": 67,
   "metadata": {
    "ExecuteTime": {
     "end_time": "2019-05-16T09:06:10.121134Z",
     "start_time": "2019-05-16T09:06:10.112808Z"
    }
   },
   "outputs": [],
   "source": [
    "import math\n",
    "\n",
    "def func(x):\n",
    "    a = []\n",
    "    for i in range(len(x)):\n",
    "        if i == 0:\n",
    "            a.append(None)\n",
    "        else:\n",
    "            a.append(math.log(x[i]/x[i-1]))\n",
    "            \n",
    "    return a"
   ]
  },
  {
   "cell_type": "code",
   "execution_count": 68,
   "metadata": {
    "ExecuteTime": {
     "end_time": "2019-05-16T09:06:11.676422Z",
     "start_time": "2019-05-16T09:06:11.450997Z"
    }
   },
   "outputs": [
    {
     "data": {
      "text/html": [
       "<div>\n",
       "<style scoped>\n",
       "    .dataframe tbody tr th:only-of-type {\n",
       "        vertical-align: middle;\n",
       "    }\n",
       "\n",
       "    .dataframe tbody tr th {\n",
       "        vertical-align: top;\n",
       "    }\n",
       "\n",
       "    .dataframe thead th {\n",
       "        text-align: right;\n",
       "    }\n",
       "</style>\n",
       "<table border=\"1\" class=\"dataframe\">\n",
       "  <thead>\n",
       "    <tr style=\"text-align: right;\">\n",
       "      <th></th>\n",
       "      <th>Open</th>\n",
       "      <th>High</th>\n",
       "      <th>Low</th>\n",
       "      <th>Close</th>\n",
       "      <th>Adj Close</th>\n",
       "      <th>Volume</th>\n",
       "      <th>log return</th>\n",
       "    </tr>\n",
       "    <tr>\n",
       "      <th>Date</th>\n",
       "      <th></th>\n",
       "      <th></th>\n",
       "      <th></th>\n",
       "      <th></th>\n",
       "      <th></th>\n",
       "      <th></th>\n",
       "      <th></th>\n",
       "    </tr>\n",
       "  </thead>\n",
       "  <tbody>\n",
       "    <tr>\n",
       "      <th>1999-01-22</th>\n",
       "      <td>1.750000</td>\n",
       "      <td>1.953125</td>\n",
       "      <td>1.552083</td>\n",
       "      <td>1.640625</td>\n",
       "      <td>1.523430</td>\n",
       "      <td>67867200</td>\n",
       "      <td>NaN</td>\n",
       "    </tr>\n",
       "    <tr>\n",
       "      <th>1999-01-25</th>\n",
       "      <td>1.770833</td>\n",
       "      <td>1.833333</td>\n",
       "      <td>1.640625</td>\n",
       "      <td>1.812500</td>\n",
       "      <td>1.683028</td>\n",
       "      <td>12762000</td>\n",
       "      <td>0.099630</td>\n",
       "    </tr>\n",
       "    <tr>\n",
       "      <th>1999-01-26</th>\n",
       "      <td>1.833333</td>\n",
       "      <td>1.869792</td>\n",
       "      <td>1.645833</td>\n",
       "      <td>1.671875</td>\n",
       "      <td>1.552448</td>\n",
       "      <td>8580000</td>\n",
       "      <td>-0.080762</td>\n",
       "    </tr>\n",
       "    <tr>\n",
       "      <th>1999-01-27</th>\n",
       "      <td>1.677083</td>\n",
       "      <td>1.718750</td>\n",
       "      <td>1.583333</td>\n",
       "      <td>1.666667</td>\n",
       "      <td>1.547611</td>\n",
       "      <td>6109200</td>\n",
       "      <td>-0.003121</td>\n",
       "    </tr>\n",
       "    <tr>\n",
       "      <th>1999-01-28</th>\n",
       "      <td>1.666667</td>\n",
       "      <td>1.677083</td>\n",
       "      <td>1.651042</td>\n",
       "      <td>1.661458</td>\n",
       "      <td>1.542776</td>\n",
       "      <td>5688000</td>\n",
       "      <td>-0.003129</td>\n",
       "    </tr>\n",
       "  </tbody>\n",
       "</table>\n",
       "</div>"
      ],
      "text/plain": [
       "                Open      High       Low     Close  Adj Close    Volume  \\\n",
       "Date                                                                      \n",
       "1999-01-22  1.750000  1.953125  1.552083  1.640625   1.523430  67867200   \n",
       "1999-01-25  1.770833  1.833333  1.640625  1.812500   1.683028  12762000   \n",
       "1999-01-26  1.833333  1.869792  1.645833  1.671875   1.552448   8580000   \n",
       "1999-01-27  1.677083  1.718750  1.583333  1.666667   1.547611   6109200   \n",
       "1999-01-28  1.666667  1.677083  1.651042  1.661458   1.542776   5688000   \n",
       "\n",
       "            log return  \n",
       "Date                    \n",
       "1999-01-22         NaN  \n",
       "1999-01-25    0.099630  \n",
       "1999-01-26   -0.080762  \n",
       "1999-01-27   -0.003121  \n",
       "1999-01-28   -0.003129  "
      ]
     },
     "execution_count": 68,
     "metadata": {},
     "output_type": "execute_result"
    }
   ],
   "source": [
    "nvda[\"log return\"] = func(nvda[\"Adj Close\"])\n",
    "nvda.head()"
   ]
  },
  {
   "cell_type": "markdown",
   "metadata": {},
   "source": [
    "#### 3.请找出nvda股票涨幅最大的10天"
   ]
  },
  {
   "cell_type": "code",
   "execution_count": 69,
   "metadata": {
    "ExecuteTime": {
     "end_time": "2019-05-16T09:06:13.202023Z",
     "start_time": "2019-05-16T09:06:13.193315Z"
    }
   },
   "outputs": [],
   "source": [
    "# 涨跌幅是 今天的（收盘价 - 昨天的收盘价）/ 昨天的收盘价\n",
    "\n",
    "def func1(x):\n",
    "    a = []\n",
    "    for i in range(len(x)):\n",
    "        if i == 0:\n",
    "            a.append(None)\n",
    "        else:\n",
    "            a.append((x[i] - x[i-1]) / x[i-1] )\n",
    "            \n",
    "    return a"
   ]
  },
  {
   "cell_type": "code",
   "execution_count": 85,
   "metadata": {
    "ExecuteTime": {
     "end_time": "2019-05-16T09:13:10.275566Z",
     "start_time": "2019-05-16T09:13:09.970048Z"
    },
    "scrolled": true
   },
   "outputs": [
    {
     "data": {
      "text/plain": [
       "DatetimeIndex(['2000-03-07', '2003-05-09', '2001-01-03', '2016-11-11',\n",
       "               '2000-03-13', '2000-12-22', '2000-12-08', '2000-04-05',\n",
       "               '2003-02-14', '1999-08-19'],\n",
       "              dtype='datetime64[ns]', name='Date', freq=None)"
      ]
     },
     "execution_count": 85,
     "metadata": {},
     "output_type": "execute_result"
    }
   ],
   "source": [
    "nvda[\"jump\"] = func1(nvda[\"Close\"])\n",
    "nvda.sort_values(by=\"jump\",ascending=False)[:10].index"
   ]
  },
  {
   "cell_type": "markdown",
   "metadata": {},
   "source": [
    "#### 4. 将这十天的股票信息都输出来"
   ]
  },
  {
   "cell_type": "code",
   "execution_count": 86,
   "metadata": {
    "ExecuteTime": {
     "end_time": "2019-05-16T09:13:17.982983Z",
     "start_time": "2019-05-16T09:13:17.952074Z"
    }
   },
   "outputs": [
    {
     "data": {
      "text/html": [
       "<div>\n",
       "<style scoped>\n",
       "    .dataframe tbody tr th:only-of-type {\n",
       "        vertical-align: middle;\n",
       "    }\n",
       "\n",
       "    .dataframe tbody tr th {\n",
       "        vertical-align: top;\n",
       "    }\n",
       "\n",
       "    .dataframe thead th {\n",
       "        text-align: right;\n",
       "    }\n",
       "</style>\n",
       "<table border=\"1\" class=\"dataframe\">\n",
       "  <thead>\n",
       "    <tr style=\"text-align: right;\">\n",
       "      <th></th>\n",
       "      <th>Open</th>\n",
       "      <th>High</th>\n",
       "      <th>Low</th>\n",
       "      <th>Close</th>\n",
       "      <th>Adj Close</th>\n",
       "      <th>Volume</th>\n",
       "      <th>log return</th>\n",
       "      <th>jump</th>\n",
       "    </tr>\n",
       "    <tr>\n",
       "      <th>Date</th>\n",
       "      <th></th>\n",
       "      <th></th>\n",
       "      <th></th>\n",
       "      <th></th>\n",
       "      <th></th>\n",
       "      <th></th>\n",
       "      <th></th>\n",
       "      <th></th>\n",
       "    </tr>\n",
       "  </thead>\n",
       "  <tbody>\n",
       "    <tr>\n",
       "      <th>2000-03-07</th>\n",
       "      <td>6.250000</td>\n",
       "      <td>7.270833</td>\n",
       "      <td>5.979167</td>\n",
       "      <td>6.942708</td>\n",
       "      <td>6.446771</td>\n",
       "      <td>48805200</td>\n",
       "      <td>0.353572</td>\n",
       "      <td>0.424145</td>\n",
       "    </tr>\n",
       "    <tr>\n",
       "      <th>2003-05-09</th>\n",
       "      <td>6.276667</td>\n",
       "      <td>7.176667</td>\n",
       "      <td>6.100000</td>\n",
       "      <td>7.123333</td>\n",
       "      <td>6.614493</td>\n",
       "      <td>230771400</td>\n",
       "      <td>0.285656</td>\n",
       "      <td>0.330635</td>\n",
       "    </tr>\n",
       "    <tr>\n",
       "      <th>2001-01-03</th>\n",
       "      <td>4.833333</td>\n",
       "      <td>6.572917</td>\n",
       "      <td>4.708333</td>\n",
       "      <td>6.520833</td>\n",
       "      <td>6.055031</td>\n",
       "      <td>22759200</td>\n",
       "      <td>0.267650</td>\n",
       "      <td>0.306889</td>\n",
       "    </tr>\n",
       "    <tr>\n",
       "      <th>2016-11-11</th>\n",
       "      <td>79.510002</td>\n",
       "      <td>88.769997</td>\n",
       "      <td>78.500000</td>\n",
       "      <td>87.970001</td>\n",
       "      <td>87.635475</td>\n",
       "      <td>54335100</td>\n",
       "      <td>0.260876</td>\n",
       "      <td>0.298067</td>\n",
       "    </tr>\n",
       "    <tr>\n",
       "      <th>2000-03-13</th>\n",
       "      <td>8.916667</td>\n",
       "      <td>12.500000</td>\n",
       "      <td>8.833333</td>\n",
       "      <td>12.437500</td>\n",
       "      <td>11.549053</td>\n",
       "      <td>60379200</td>\n",
       "      <td>0.234938</td>\n",
       "      <td>0.264831</td>\n",
       "    </tr>\n",
       "    <tr>\n",
       "      <th>2000-12-22</th>\n",
       "      <td>5.020833</td>\n",
       "      <td>6.375000</td>\n",
       "      <td>5.020833</td>\n",
       "      <td>5.843750</td>\n",
       "      <td>5.426314</td>\n",
       "      <td>23727000</td>\n",
       "      <td>0.229402</td>\n",
       "      <td>0.257848</td>\n",
       "    </tr>\n",
       "    <tr>\n",
       "      <th>2000-12-08</th>\n",
       "      <td>7.447917</td>\n",
       "      <td>8.333333</td>\n",
       "      <td>6.752600</td>\n",
       "      <td>8.291667</td>\n",
       "      <td>7.699371</td>\n",
       "      <td>21334800</td>\n",
       "      <td>0.205709</td>\n",
       "      <td>0.228395</td>\n",
       "    </tr>\n",
       "    <tr>\n",
       "      <th>2000-04-05</th>\n",
       "      <td>6.312500</td>\n",
       "      <td>8.125000</td>\n",
       "      <td>5.989583</td>\n",
       "      <td>7.640625</td>\n",
       "      <td>7.094833</td>\n",
       "      <td>15990000</td>\n",
       "      <td>0.200898</td>\n",
       "      <td>0.222500</td>\n",
       "    </tr>\n",
       "    <tr>\n",
       "      <th>2003-02-14</th>\n",
       "      <td>3.740000</td>\n",
       "      <td>4.016667</td>\n",
       "      <td>3.650000</td>\n",
       "      <td>4.013333</td>\n",
       "      <td>3.726649</td>\n",
       "      <td>88721100</td>\n",
       "      <td>0.198735</td>\n",
       "      <td>0.219858</td>\n",
       "    </tr>\n",
       "    <tr>\n",
       "      <th>1999-08-19</th>\n",
       "      <td>1.994792</td>\n",
       "      <td>2.364583</td>\n",
       "      <td>1.927083</td>\n",
       "      <td>2.260417</td>\n",
       "      <td>2.098948</td>\n",
       "      <td>49174800</td>\n",
       "      <td>0.192511</td>\n",
       "      <td>0.212291</td>\n",
       "    </tr>\n",
       "  </tbody>\n",
       "</table>\n",
       "</div>"
      ],
      "text/plain": [
       "                 Open       High        Low      Close  Adj Close     Volume  \\\n",
       "Date                                                                           \n",
       "2000-03-07   6.250000   7.270833   5.979167   6.942708   6.446771   48805200   \n",
       "2003-05-09   6.276667   7.176667   6.100000   7.123333   6.614493  230771400   \n",
       "2001-01-03   4.833333   6.572917   4.708333   6.520833   6.055031   22759200   \n",
       "2016-11-11  79.510002  88.769997  78.500000  87.970001  87.635475   54335100   \n",
       "2000-03-13   8.916667  12.500000   8.833333  12.437500  11.549053   60379200   \n",
       "2000-12-22   5.020833   6.375000   5.020833   5.843750   5.426314   23727000   \n",
       "2000-12-08   7.447917   8.333333   6.752600   8.291667   7.699371   21334800   \n",
       "2000-04-05   6.312500   8.125000   5.989583   7.640625   7.094833   15990000   \n",
       "2003-02-14   3.740000   4.016667   3.650000   4.013333   3.726649   88721100   \n",
       "1999-08-19   1.994792   2.364583   1.927083   2.260417   2.098948   49174800   \n",
       "\n",
       "            log return      jump  \n",
       "Date                              \n",
       "2000-03-07    0.353572  0.424145  \n",
       "2003-05-09    0.285656  0.330635  \n",
       "2001-01-03    0.267650  0.306889  \n",
       "2016-11-11    0.260876  0.298067  \n",
       "2000-03-13    0.234938  0.264831  \n",
       "2000-12-22    0.229402  0.257848  \n",
       "2000-12-08    0.205709  0.228395  \n",
       "2000-04-05    0.200898  0.222500  \n",
       "2003-02-14    0.198735  0.219858  \n",
       "1999-08-19    0.192511  0.212291  "
      ]
     },
     "execution_count": 86,
     "metadata": {},
     "output_type": "execute_result"
    }
   ],
   "source": [
    "nvda.sort_values(by=\"jump\",ascending=False)[:10]"
   ]
  },
  {
   "cell_type": "markdown",
   "metadata": {},
   "source": [
    "#### 5把英伟达每个月最后一天的股价记录下来，做成一张新的月线图，然后把Adj Close画成一张图"
   ]
  },
  {
   "cell_type": "code",
   "execution_count": 23,
   "metadata": {
    "ExecuteTime": {
     "end_time": "2019-05-16T08:42:48.529132Z",
     "start_time": "2019-05-16T08:42:48.149171Z"
    }
   },
   "outputs": [
    {
     "data": {
      "text/plain": [
       "<matplotlib.axes._subplots.AxesSubplot at 0x12a7904e0>"
      ]
     },
     "execution_count": 23,
     "metadata": {},
     "output_type": "execute_result"
    },
    {
     "data": {
      "image/png": "[encoded data removed]",
      "text/plain": [
       "<Figure size 432x288 with 1 Axes>"
      ]
     },
     "metadata": {
      "needs_background": "light"
     },
     "output_type": "display_data"
    }
   ],
   "source": [
    "nvda.loc[nvda.index.is_month_end,[\"Adj Close\"]].plot()"
   ]
  },
  {
   "cell_type": "markdown",
   "metadata": {},
   "source": [
    "#### 6.使用concat方法把英伟达的Adj Close与其他三只股票拼接在一起"
   ]
  },
  {
   "cell_type": "code",
   "execution_count": 91,
   "metadata": {
    "ExecuteTime": {
     "end_time": "2019-05-16T09:16:49.429827Z",
     "start_time": "2019-05-16T09:16:49.343370Z"
    }
   },
   "outputs": [],
   "source": [
    "goog = pd.read_csv(\"data/GOOG.csv\",index_col=\"Date\",parse_dates=[\"Date\"])\n",
    "\n",
    "aapl = pd.read_csv(\"data/AAPL.csv\",index_col=\"Date\",parse_dates=[\"Date\"])\n",
    "\n",
    "msft = pd.read_csv(\"data/MSFT.csv\",index_col=\"Date\",parse_dates=[\"Date\"])"
   ]
  },
  {
   "cell_type": "code",
   "execution_count": 99,
   "metadata": {
    "ExecuteTime": {
     "end_time": "2019-05-16T09:23:58.434932Z",
     "start_time": "2019-05-16T09:23:58.417912Z"
    }
   },
   "outputs": [],
   "source": [
    "Adj_Close = pd.concat([nvda[\"Adj Close\"].rename(\"NVDA\"),goog[\"Adj Close\"].rename(\"GOOG\"),\\\n",
    "           aapl[\"Adj Close\"].rename(\"AAPL\"),msft[\"Adj Close\"].rename(\"MSFT\")],sort=False,axis=1)"
   ]
  },
  {
   "cell_type": "code",
   "execution_count": 100,
   "metadata": {
    "ExecuteTime": {
     "end_time": "2019-05-16T09:24:10.197358Z",
     "start_time": "2019-05-16T09:24:10.179672Z"
    }
   },
   "outputs": [
    {
     "data": {
      "text/html": [
       "<div>\n",
       "<style scoped>\n",
       "    .dataframe tbody tr th:only-of-type {\n",
       "        vertical-align: middle;\n",
       "    }\n",
       "\n",
       "    .dataframe tbody tr th {\n",
       "        vertical-align: top;\n",
       "    }\n",
       "\n",
       "    .dataframe thead th {\n",
       "        text-align: right;\n",
       "    }\n",
       "</style>\n",
       "<table border=\"1\" class=\"dataframe\">\n",
       "  <thead>\n",
       "    <tr style=\"text-align: right;\">\n",
       "      <th></th>\n",
       "      <th>NVDA</th>\n",
       "      <th>GOOG</th>\n",
       "      <th>AAPL</th>\n",
       "      <th>MSFT</th>\n",
       "    </tr>\n",
       "    <tr>\n",
       "      <th>Date</th>\n",
       "      <th></th>\n",
       "      <th></th>\n",
       "      <th></th>\n",
       "      <th></th>\n",
       "    </tr>\n",
       "  </thead>\n",
       "  <tbody>\n",
       "    <tr>\n",
       "      <th>1980-12-12</th>\n",
       "      <td>NaN</td>\n",
       "      <td>NaN</td>\n",
       "      <td>0.423252</td>\n",
       "      <td>NaN</td>\n",
       "    </tr>\n",
       "    <tr>\n",
       "      <th>1980-12-15</th>\n",
       "      <td>NaN</td>\n",
       "      <td>NaN</td>\n",
       "      <td>0.401170</td>\n",
       "      <td>NaN</td>\n",
       "    </tr>\n",
       "    <tr>\n",
       "      <th>1980-12-16</th>\n",
       "      <td>NaN</td>\n",
       "      <td>NaN</td>\n",
       "      <td>0.371726</td>\n",
       "      <td>NaN</td>\n",
       "    </tr>\n",
       "    <tr>\n",
       "      <th>1980-12-17</th>\n",
       "      <td>NaN</td>\n",
       "      <td>NaN</td>\n",
       "      <td>0.380927</td>\n",
       "      <td>NaN</td>\n",
       "    </tr>\n",
       "    <tr>\n",
       "      <th>1980-12-18</th>\n",
       "      <td>NaN</td>\n",
       "      <td>NaN</td>\n",
       "      <td>0.391969</td>\n",
       "      <td>NaN</td>\n",
       "    </tr>\n",
       "  </tbody>\n",
       "</table>\n",
       "</div>"
      ],
      "text/plain": [
       "            NVDA  GOOG      AAPL  MSFT\n",
       "Date                                  \n",
       "1980-12-12   NaN   NaN  0.423252   NaN\n",
       "1980-12-15   NaN   NaN  0.401170   NaN\n",
       "1980-12-16   NaN   NaN  0.371726   NaN\n",
       "1980-12-17   NaN   NaN  0.380927   NaN\n",
       "1980-12-18   NaN   NaN  0.391969   NaN"
      ]
     },
     "execution_count": 100,
     "metadata": {},
     "output_type": "execute_result"
    }
   ],
   "source": [
    "Adj_Close.head()"
   ]
  },
  {
   "cell_type": "markdown",
   "metadata": {},
   "source": [
    "#### 7.从Google有数据的那一天起开始画出四只股票的Adj Close折线图\n"
   ]
  },
  {
   "cell_type": "code",
   "execution_count": 104,
   "metadata": {
    "ExecuteTime": {
     "end_time": "2019-05-16T09:26:51.530635Z",
     "start_time": "2019-05-16T09:26:51.164310Z"
    }
   },
   "outputs": [
    {
     "data": {
      "text/plain": [
       "<matplotlib.axes._subplots.AxesSubplot at 0x12e8a5390>"
      ]
     },
     "execution_count": 104,
     "metadata": {},
     "output_type": "execute_result"
    },
    {
     "data": {
      "image/png": "[encoded data removed]",
      "text/plain": [
       "<Figure size 432x288 with 1 Axes>"
      ]
     },
     "metadata": {
      "needs_background": "light"
     },
     "output_type": "display_data"
    }
   ],
   "source": [
    "Adj_Close[Adj_Close[\"GOOG\"].notnull()].plot()"
   ]
  }
 ],
 "metadata": {
  "kernelspec": {
   "display_name": "Python 3",
   "language": "python",
   "name": "python3"
  },
  "language_info": {
   "codemirror_mode": {
    "name": "ipython",
    "version": 3
   },
   "file_extension": ".py",
   "mimetype": "text/x-python",
   "name": "python",
   "nbconvert_exporter": "python",
   "pygments_lexer": "ipython3",
   "version": "3.7.2"
  },
  "toc": {
   "base_numbering": 1,
   "nav_menu": {},
   "number_sections": true,
   "sideBar": true,
   "skip_h1_title": false,
   "title_cell": "Table of Contents",
   "title_sidebar": "Contents",
   "toc_cell": false,
   "toc_position": {},
   "toc_section_display": true,
   "toc_window_display": false
  }
 },
 "nbformat": 4,
 "nbformat_minor": 2
}
