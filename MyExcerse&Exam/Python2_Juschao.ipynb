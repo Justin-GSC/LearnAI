{
 "cells": [
  {
   "cell_type": "markdown",
   "metadata": {},
   "source": [
    "## Python第二课作业\n",
    "\n",
    "####  作业提交说明：\n",
    "- 位置：作业文件统一放置于/0.Teacher/Exercise/Python/python2下面\n",
    "- 文件名：请先下载该notebook文件到本地，并重新命名为(课程名)+(您姓名的全拼)，并按要求完成后保存\n",
    "- 时间：课程结束后的第二天前提交。\n",
    "- 注意：请勿抄袭，移动，修改，删除其他同学和原始空白的练习文件。\n",
    "***"
   ]
  },
  {
   "cell_type": "markdown",
   "metadata": {},
   "source": [
    "## 作业"
   ]
  },
  {
   "cell_type": "markdown",
   "metadata": {},
   "source": [
    "#### 简答题"
   ]
  },
  {
   "cell_type": "markdown",
   "metadata": {},
   "source": [
    "- 1.简述继承的理解，继承的方式以及注意事项?"
   ]
  },
  {
   "cell_type": "markdown",
   "metadata": {},
   "source": [
    "继承是新的类继承了旧类的属性和方法；\n",
    "在创建新类的时候在（）中写旧的类名；\n",
    "新类中的调用属性和方法时，就近原则，先从最近的属性和方法开始调用，若不存在则忘远处查找，调用，但私有属性和私有方法在继承后依然是私有。"
   ]
  },
  {
   "cell_type": "markdown",
   "metadata": {
    "collapsed": true
   },
   "source": [
    "- 2.简述类对象和实例对象？"
   ]
  },
  {
   "cell_type": "markdown",
   "metadata": {},
   "source": [
    "类对象就是指\n",
    "实例对象是由类创建的实例"
   ]
  },
  {
   "cell_type": "markdown",
   "metadata": {},
   "source": [
    "- 3.如何理解闭包？"
   ]
  },
  {
   "cell_type": "markdown",
   "metadata": {},
   "source": [
    "闭包也就是将一个函数作为参数传入，返回另外的一个函数"
   ]
  },
  {
   "cell_type": "code",
   "execution_count": 109,
   "metadata": {
    "ExecuteTime": {
     "end_time": "2019-05-09T02:23:22.691742Z",
     "start_time": "2019-05-09T02:23:22.683369Z"
    }
   },
   "outputs": [],
   "source": [
    "def f():\n",
    "    print(\"Hello World!\")\n",
    "\n",
    "def F(func):\n",
    "    def inner():\n",
    "        print(\"即将开始转换！\")\n",
    "        func()\n",
    "        print(\"转换完成！\")\n",
    "    return inner()\n",
    "    "
   ]
  },
  {
   "cell_type": "code",
   "execution_count": 110,
   "metadata": {
    "ExecuteTime": {
     "end_time": "2019-05-09T02:23:23.137836Z",
     "start_time": "2019-05-09T02:23:23.131549Z"
    }
   },
   "outputs": [
    {
     "name": "stdout",
     "output_type": "stream",
     "text": [
      "即将开始转换！\n",
      "Hello World!\n",
      "转换完成！\n"
     ]
    }
   ],
   "source": [
    "F(f)"
   ]
  },
  {
   "cell_type": "markdown",
   "metadata": {},
   "source": [
    "- 4.简述生成器和迭代器之间的关系"
   ]
  },
  {
   "cell_type": "markdown",
   "metadata": {},
   "source": [
    "生成器是在不占用过多内存时，依次生成新的元素；\n",
    "迭代器是，依次将可迭代对象输出，使用next()进行顺序输出。"
   ]
  },
  {
   "cell_type": "markdown",
   "metadata": {},
   "source": [
    "#### 编程题"
   ]
  },
  {
   "cell_type": "markdown",
   "metadata": {},
   "source": [
    "- 5.读取一个文件，显示除了以井号(#)开头的行以外的所有行"
   ]
  },
  {
   "cell_type": "code",
   "execution_count": 1,
   "metadata": {
    "ExecuteTime": {
     "end_time": "2019-05-09T01:14:45.363421Z",
     "start_time": "2019-05-09T01:14:45.355106Z"
    }
   },
   "outputs": [
    {
     "name": "stdout",
     "output_type": "stream",
     "text": [
      "Writing demo.txt\n"
     ]
    }
   ],
   "source": [
    "%%writefile demo.txt\n",
    "#test\n",
    "1\n",
    "2\n",
    "3\n",
    "4\n",
    "A\n",
    "B\n",
    "C\n",
    "D"
   ]
  },
  {
   "cell_type": "code",
   "execution_count": 2,
   "metadata": {
    "ExecuteTime": {
     "end_time": "2019-05-09T01:16:11.449771Z",
     "start_time": "2019-05-09T01:16:11.436601Z"
    },
    "collapsed": true
   },
   "outputs": [
    {
     "name": "stdout",
     "output_type": "stream",
     "text": [
      "1\n",
      "\n",
      "2\n",
      "\n",
      "3\n",
      "\n",
      "4\n",
      "\n",
      "A\n",
      "\n",
      "B\n",
      "\n",
      "C\n",
      "\n",
      "D\n",
      "\n"
     ]
    }
   ],
   "source": [
    "with open(\"demo.txt\",\"r\") as f:\n",
    "    for line in f.readlines():\n",
    "        if line[0] == \"#\":\n",
    "            pass\n",
    "        else:\n",
    "            print(line)"
   ]
  },
  {
   "cell_type": "markdown",
   "metadata": {},
   "source": [
    "- 6.模拟斗地主，有3个玩家，一付扑克牌，留3张底牌，\n",
    "将扑克牌随机分配给3个玩家并显示（注意有四种花色和两个王）"
   ]
  },
  {
   "cell_type": "code",
   "execution_count": 94,
   "metadata": {
    "ExecuteTime": {
     "end_time": "2019-05-09T02:17:05.260066Z",
     "start_time": "2019-05-09T02:17:05.246520Z"
    }
   },
   "outputs": [],
   "source": [
    "N = [\"1\",\"2\",\"3\",\"4\",\"5\",\"6\",\"7\",\"8\",\"9\",\"10\",\"J\",\"Q\",\"K\"]\n",
    "n = [\"♣️\",\"♥️\",\"♦️\",\"♠️\"]\n",
    "\n",
    "poker = [x+y for x in N for y in n]\n",
    "poker.append(\"KING\")\n",
    "poker.append(\"king\")\n",
    "\n",
    "class Poker():\n",
    "    def __init__(self):\n",
    "        self.poker = poker\n",
    "        \n",
    "        print(\"初始化完成！\".center(30,\"*\"))\n",
    "        print('''\n",
    "        * 洗牌：xipai\n",
    "        * 发牌：fapai\n",
    "        * 查看底牌：dipai\n",
    "        ''')\n",
    "        \n",
    "    def xipai(self):\n",
    "        import random\n",
    "        random.shuffle(self.poker)\n",
    "        print(\"洗牌完成！\")\n",
    "        \n",
    "    def fapai(self):\n",
    "        print(\"P_1:\",self.poker[0:17], \"\\n\")\n",
    "        print(\"P_2:\",self.poker[17:34], \"\\n\")\n",
    "        print(\"P_3:\",self.poker[34:51], \"\\n\")\n",
    "        print(\"发牌完成！\")\n",
    "    \n",
    "    def dipai(self):   \n",
    "        print(\"底牌：\",self.poker[51:],\"\\n\")\n",
    "        \n",
    "        "
   ]
  },
  {
   "cell_type": "code",
   "execution_count": 95,
   "metadata": {
    "ExecuteTime": {
     "end_time": "2019-05-09T02:17:05.753928Z",
     "start_time": "2019-05-09T02:17:05.748503Z"
    }
   },
   "outputs": [
    {
     "name": "stdout",
     "output_type": "stream",
     "text": [
      "************初始化完成！************\n",
      "\n",
      "        * 洗牌：xipai\n",
      "        * 发牌：fapai\n",
      "        * 查看底牌：dipai\n",
      "        \n"
     ]
    }
   ],
   "source": [
    "P = Poker()"
   ]
  },
  {
   "cell_type": "code",
   "execution_count": 96,
   "metadata": {
    "ExecuteTime": {
     "end_time": "2019-05-09T02:17:09.039613Z",
     "start_time": "2019-05-09T02:17:09.034081Z"
    }
   },
   "outputs": [
    {
     "name": "stdout",
     "output_type": "stream",
     "text": [
      "洗牌完成！\n"
     ]
    }
   ],
   "source": [
    "P.xipai()"
   ]
  },
  {
   "cell_type": "code",
   "execution_count": 97,
   "metadata": {
    "ExecuteTime": {
     "end_time": "2019-05-09T02:17:11.527470Z",
     "start_time": "2019-05-09T02:17:11.518471Z"
    }
   },
   "outputs": [
    {
     "name": "stdout",
     "output_type": "stream",
     "text": [
      "P_1: ['5♦️', '9♠️', 'KING', '4♦️', 'Q♠️', 'Q♥️', '5♠️', '1♥️', '1♣️', '8♦️', 'J♦️', '8♥️', '2♥️', '6♠️', '3♥️', '10♦️', '1♦️'] \n",
      "\n",
      "P_2: ['J♠️', '7♥️', 'J♥️', '6♦️', '8♣️', '3♣️', 'K♦️', '5♥️', 'Q♦️', '8♠️', '2♦️', '3♠️', '4♠️', '7♠️', '7♣️', 'K♣️', '2♣️'] \n",
      "\n",
      "P_3: ['7♦️', '2♠️', '6♥️', 'J♣️', '9♦️', '9♣️', '3♦️', '9♥️', 'king', 'K♠️', '10♣️', '10♥️', 'K♥️', '6♣️', '5♣️', '4♣️', '10♠️'] \n",
      "\n",
      "发牌完成！\n"
     ]
    }
   ],
   "source": [
    "P.fapai()"
   ]
  },
  {
   "cell_type": "code",
   "execution_count": 98,
   "metadata": {
    "ExecuteTime": {
     "end_time": "2019-05-09T02:17:16.280943Z",
     "start_time": "2019-05-09T02:17:16.273494Z"
    }
   },
   "outputs": [
    {
     "name": "stdout",
     "output_type": "stream",
     "text": [
      "底牌： ['Q♣️', '4♥️', '1♠️'] \n",
      "\n"
     ]
    }
   ],
   "source": [
    "P.dipai()"
   ]
  },
  {
   "cell_type": "code",
   "execution_count": null,
   "metadata": {},
   "outputs": [],
   "source": []
  }
 ],
 "metadata": {
  "kernelspec": {
   "display_name": "Python 3",
   "language": "python",
   "name": "python3"
  },
  "language_info": {
   "codemirror_mode": {
    "name": "ipython",
    "version": 3
   },
   "file_extension": ".py",
   "mimetype": "text/x-python",
   "name": "python",
   "nbconvert_exporter": "python",
   "pygments_lexer": "ipython3",
   "version": "3.7.2"
  },
  "toc": {
   "base_numbering": 1,
   "nav_menu": {},
   "number_sections": true,
   "sideBar": true,
   "skip_h1_title": false,
   "title_cell": "Table of Contents",
   "title_sidebar": "Contents",
   "toc_cell": false,
   "toc_position": {},
   "toc_section_display": true,
   "toc_window_display": false
  }
 },
 "nbformat": 4,
 "nbformat_minor": 2
}
