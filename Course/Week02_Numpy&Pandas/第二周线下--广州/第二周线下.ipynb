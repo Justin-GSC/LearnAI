{
 "cells": [
  {
   "cell_type": "markdown",
   "metadata": {},
   "source": [
    "虚拟环境和包\n",
    "\n",
    "transform transpose\n",
    "\n",
    "转换columns的数据类型 例如去除列表字符串元素的前几个子串\n",
    "\n",
    "\n",
    "df.iterrows  遍历行\n",
    "\n",
    "df.itercol?\n",
    "\n",
    "熟悉使用pycharm\n",
    "\n",
    "~ .pip 的pip.conf,修改镜像来源\n",
    "\n",
    "\n",
    "套路操作，导入，整理清洗，导出\n",
    "\n",
    "data.applymap()\n",
    "\n",
    "Etoys (app)\n",
    "\n",
    "worrydream.com\n",
    "\n",
    "kill math (page)\n",
    "\n",
    "\n",
    "pd.hist()\n",
    "\n",
    "开始看kaggle的比赛中的kernel\n",
    "\n",
    "日期格式化的to_datetime  使用dt.year等返回日期的年月日周等\n",
    "\n",
    "& parser_data= ?\n",
    "\n",
    "brook / docker shadowsocks\n",
    "\n",
    "\n",
    "bwh1.net   bandwagon\n",
    "hostus.us "
   ]
  }
 ],
 "metadata": {
  "kernelspec": {
   "display_name": "Python 3",
   "language": "python",
   "name": "python3"
  },
  "language_info": {
   "codemirror_mode": {
    "name": "ipython",
    "version": 3
   },
   "file_extension": ".py",
   "mimetype": "text/x-python",
   "name": "python",
   "nbconvert_exporter": "python",
   "pygments_lexer": "ipython3",
   "version": "3.7.2"
  },
  "toc": {
   "base_numbering": 1,
   "nav_menu": {},
   "number_sections": true,
   "sideBar": true,
   "skip_h1_title": false,
   "title_cell": "Table of Contents",
   "title_sidebar": "Contents",
   "toc_cell": false,
   "toc_position": {},
   "toc_section_display": true,
   "toc_window_display": false
  }
 },
 "nbformat": 4,
 "nbformat_minor": 2
}
