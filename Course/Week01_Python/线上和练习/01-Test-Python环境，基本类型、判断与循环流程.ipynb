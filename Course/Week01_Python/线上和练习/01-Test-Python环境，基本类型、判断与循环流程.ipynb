{
 "cells": [
  {
   "cell_type": "markdown",
   "metadata": {},
   "source": [
    "## Python第一课作业\n",
    "\n",
    "####  作业提交说明：\n",
    "- 位置：作业文件统一放置于/0.Teacher/Exercise/Python/python1下面\n",
    "- 文件名：请先复制该notebook文件，并重新命名为(课程名)+(您姓名的全拼)，并按要求完成后保存\n",
    "- 时间：课程结束后的第二天前提交。\n",
    "- 注意：请勿抄袭，移动，修改，删除其他同学和原始空白的练习文件。\n",
    "***"
   ]
  },
  {
   "cell_type": "markdown",
   "metadata": {},
   "source": [
    "## 作业"
   ]
  },
  {
   "cell_type": "markdown",
   "metadata": {},
   "source": [
    "#### 简答题"
   ]
  },
  {
   "cell_type": "markdown",
   "metadata": {},
   "source": [
    "- 1.你常用Jupyter notebook中的magic函数都有哪些？"
   ]
  },
  {
   "cell_type": "markdown",
   "metadata": {},
   "source": [
    "%who 内存中的变量\n",
    "\n",
    "%whos 查看内存中的所有变量\n",
    "\n",
    "%time 单行运行时间\n",
    "\n",
    "%%time cell运行时间\n",
    "\n",
    "%%html html\n",
    " \n",
    "%%writefile 写入文件\n",
    " \n",
    "%%javascript 创建javescript"
   ]
  },
  {
   "cell_type": "markdown",
   "metadata": {
    "collapsed": true
   },
   "source": [
    "- 2.简述Python文件运行的流程"
   ]
  },
  {
   "cell_type": "markdown",
   "metadata": {},
   "source": [
    ".py->解释器->.pyc->虚拟机执行->结果"
   ]
  },
  {
   "cell_type": "markdown",
   "metadata": {
    "collapsed": true
   },
   "source": [
    "- 3.从控制台输入一个年份，判断是否是闰年"
   ]
  },
  {
   "cell_type": "code",
   "execution_count": 30,
   "metadata": {
    "ExecuteTime": {
     "end_time": "2019-05-07T08:07:49.420801Z",
     "start_time": "2019-05-07T08:07:48.373558Z"
    }
   },
   "outputs": [
    {
     "name": "stdout",
     "output_type": "stream",
     "text": [
      "Please input a year:12\n",
      "Yes!\n"
     ]
    }
   ],
   "source": [
    "year = eval(input(\"Please input a year:\"))\n",
    "while type(year) is not int:\n",
    "    year = eval(input(\"Wrong! Try again! Please input a year:\")) \n",
    "    \n",
    "if year % 4 == 0 and year % 100 != 0:\n",
    "    print(\"Yes!\")\n",
    "elif year % 400 == 0:\n",
    "    print(\"Yes!\")\n",
    "elif year % 3200 and year % 172800 == 0:\n",
    "    print(\"Yes!\")\n",
    "else:\n",
    "    print(\"No!\")"
   ]
  },
  {
   "cell_type": "markdown",
   "metadata": {},
   "source": [
    "- 4.简单说说Python中的垃圾回收"
   ]
  },
  {
   "cell_type": "markdown",
   "metadata": {},
   "source": [
    "Python中的是以引用次数为0时进行回收，当对象的引用次数为0是，其会被销毁\n",
    "\n",
    "在内部变量中，当跳出内部时，内部的变量会被销毁"
   ]
  },
  {
   "cell_type": "markdown",
   "metadata": {},
   "source": [
    "- 5.迭代器与生成器有什么相似与不同的地方？"
   ]
  },
  {
   "cell_type": "markdown",
   "metadata": {},
   "source": [
    "迭代器是将内存中已有的序列进行依次的读取输出\n",
    "生成器是依次将序列写入内存中，"
   ]
  },
  {
   "cell_type": "markdown",
   "metadata": {},
   "source": [
    "- 6.简述您对Python语言中的名字空间的认识？"
   ]
  },
  {
   "cell_type": "markdown",
   "metadata": {},
   "source": [
    "Python 的变量有全局变量，Local ，以及内置电池的变量，优先级为内部电池 > 内部变量 > 全局变量"
   ]
  },
  {
   "cell_type": "markdown",
   "metadata": {},
   "source": [
    "#### 编程题"
   ]
  },
  {
   "cell_type": "markdown",
   "metadata": {},
   "source": [
    "- 6.从控制台输入一个年份，判断是否是闰年"
   ]
  },
  {
   "cell_type": "code",
   "execution_count": 7,
   "metadata": {
    "ExecuteTime": {
     "end_time": "2019-05-07T03:13:28.741383Z",
     "start_time": "2019-05-07T03:13:23.357658Z"
    }
   },
   "outputs": [
    {
     "name": "stdout",
     "output_type": "stream",
     "text": [
      "Please input a year:1904\n",
      "Yes!\n"
     ]
    }
   ],
   "source": [
    "year = eval(input(\"Please input a year:\"))\n",
    "while type(year) is not int:\n",
    "    year = eval(input(\"Wrong! Try again! Please input a year:\")) \n",
    "    \n",
    "if year % 4 == 0 and year % 100 != 0:\n",
    "    print(\"Yes!\")\n",
    "elif year % 400 == 0:\n",
    "    print(\"Yes!\")\n",
    "elif year % 3200 and year % 172800 == 0:\n",
    "    print(\"Yes!\")\n",
    "else:\n",
    "    print(\"No!\")"
   ]
  },
  {
   "cell_type": "markdown",
   "metadata": {},
   "source": [
    "- 7.请对输入三个整数a,b,c,判断能否以它们为三个边长构成三角形。若能，输出YES和面积，否则输出NO"
   ]
  },
  {
   "cell_type": "code",
   "execution_count": 33,
   "metadata": {
    "ExecuteTime": {
     "end_time": "2019-05-07T03:35:29.191738Z",
     "start_time": "2019-05-07T03:35:24.462139Z"
    }
   },
   "outputs": [
    {
     "name": "stdout",
     "output_type": "stream",
     "text": [
      "a:1\n",
      "b:2\n",
      "c:8\n",
      "No\n"
     ]
    }
   ],
   "source": [
    "# 判断三角形 最小两边之和大于最大边长\n",
    "\n",
    "ls = []\n",
    "\n",
    "a = eval(input(\"a:\"))\n",
    "while a <= 0:\n",
    "    a = eval(input(\"Wrong! Try again! a:\"))\n",
    "ls.append(a)   \n",
    "\n",
    "b = eval(input(\"b:\"))\n",
    "while b <= 0:\n",
    "    b = eval(input(\"Wrong! Try again! b:\"))\n",
    "ls.append(b)\n",
    "    \n",
    "c = eval(input(\"c:\"))\n",
    "while c <= 0:\n",
    "    c = eval(input(\"Wrong! Try again! c:\"))\n",
    "ls.append(c)\n",
    "\n",
    "ls.sort()\n",
    "\n",
    "if ls[0] + ls[1] > ls[2]:\n",
    "    print(\"Yes\")\n",
    "else:\n",
    "    print(\"No\")"
   ]
  },
  {
   "cell_type": "markdown",
   "metadata": {},
   "source": [
    "- 8.可逆素数是将某素数的各位数字顺序颠倒后仍为素数的数，请编程并输出200以内的可逆素数"
   ]
  },
  {
   "cell_type": "code",
   "execution_count": 63,
   "metadata": {
    "ExecuteTime": {
     "end_time": "2019-05-07T07:44:25.866905Z",
     "start_time": "2019-05-07T07:44:25.853010Z"
    },
    "scrolled": true
   },
   "outputs": [
    {
     "name": "stdout",
     "output_type": "stream",
     "text": [
      "[2, 3, 5, 7, 11, 13, 17, 31, 37, 71, 73, 79, 97, 101, 107, 113, 131, 149, 151, 157, 167, 179, 181, 191, 199]\n"
     ]
    }
   ],
   "source": [
    "#第一步找到所有200以内的素数\n",
    "ls_n = []\n",
    "\n",
    "for i in range(2,201):\n",
    "    for j in range(2,i):\n",
    "        if i % j == 0 :\n",
    "            ls_n.append(i)\n",
    "            break\n",
    "            \n",
    "ls = [x for x in range(2,201) if x not in ls_n]\n",
    "#print(ls)\n",
    "#第二步 颠倒顺序后判断是否仍为素数\n",
    "\n",
    "ls_op = [eval(str(x)[::-1]) for x in ls]\n",
    "\n",
    "#print(ls_op)\n",
    "for item in [eval(str(x)[::-1]) for x in ls]:\n",
    "    for k in range(2,item):\n",
    "        if item % k == 0:\n",
    "            ls_op.remove(item)\n",
    "            break\n",
    "\n",
    "ls_e = [eval(str(x)[::-1]) for x in ls_op]\n",
    "print(ls_e)"
   ]
  },
  {
   "cell_type": "markdown",
   "metadata": {},
   "source": [
    "- 9.使用while，完成以下图形的输出\n",
    "*\n",
    "\\* *\n",
    "\\* * *\n",
    "\\* * * *\n",
    "\\* * * * *\n",
    "\\* * * *\n",
    "\\* * *\n",
    "\\* *\n",
    "*"
   ]
  },
  {
   "cell_type": "code",
   "execution_count": 10,
   "metadata": {
    "ExecuteTime": {
     "end_time": "2019-05-07T07:58:14.956617Z",
     "start_time": "2019-05-07T07:58:14.949512Z"
    }
   },
   "outputs": [
    {
     "name": "stdout",
     "output_type": "stream",
     "text": [
      "\n",
      "*\n",
      "**\n",
      "***\n",
      "****\n",
      "*****\n",
      "****\n",
      "***\n",
      "**\n",
      "*\n"
     ]
    }
   ],
   "source": [
    "i = 0\n",
    "while i < 10:\n",
    "    if i < 5:\n",
    "        print(\"*\" * i)\n",
    "    else:\n",
    "        print(\"*\" * (10-i))\n",
    "    i += 1"
   ]
  }
 ],
 "metadata": {
  "kernelspec": {
   "display_name": "Python 3",
   "language": "python",
   "name": "python3"
  },
  "language_info": {
   "codemirror_mode": {
    "name": "ipython",
    "version": 3
   },
   "file_extension": ".py",
   "mimetype": "text/x-python",
   "name": "python",
   "nbconvert_exporter": "python",
   "pygments_lexer": "ipython3",
   "version": "3.7.2"
  },
  "toc": {
   "base_numbering": 1,
   "nav_menu": {},
   "number_sections": true,
   "sideBar": true,
   "skip_h1_title": false,
   "title_cell": "Table of Contents",
   "title_sidebar": "Contents",
   "toc_cell": false,
   "toc_position": {},
   "toc_section_display": true,
   "toc_window_display": false
  }
 },
 "nbformat": 4,
 "nbformat_minor": 2
}
