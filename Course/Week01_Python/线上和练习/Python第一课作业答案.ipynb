{
 "cells": [
  {
   "cell_type": "markdown",
   "metadata": {},
   "source": [
    "## Python第一课作业\n",
    "\n",
    "####  作业提交说明：\n",
    "- 位置：作业文件统一放置于/0.Teacher/Exercise/Python/python1下面\n",
    "- 文件名：请先复制该notebook文件，并重新命名为(课程名)+(您姓名的全拼)，并按要求完成后保存\n",
    "- 时间：课程结束后的第二天前提交。\n",
    "- 注意：请勿抄袭，移动，修改，删除其他同学和原始空白的练习文件。\n",
    "***"
   ]
  },
  {
   "cell_type": "markdown",
   "metadata": {},
   "source": [
    "## 作业"
   ]
  },
  {
   "cell_type": "markdown",
   "metadata": {},
   "source": [
    "#### 简答题"
   ]
  },
  {
   "cell_type": "markdown",
   "metadata": {},
   "source": [
    "- 1.你常用Jupyter notebook中的magic函数都有哪些？\n",
    "\n",
    "【答案】\n",
    "\n",
    "- %lsmagic #查看magic里面所有的魔法指令\n",
    "- %config ZMQInteractiveShell.ast_node_interactivity='all'  #修改内核选项ast_node_interactivity,使得jupyter对独占一行的所有变量都自动显示\n",
    "- 查看代码运行时间\n",
    "    - %time  #一行代码运行时间\n",
    "    - %%time  #多行代码运行时间\n",
    "    - %%timeit #多行代码运行的平均时间\n",
    "- %pwd 显示当前目录\n",
    "- %whos #查看当前变量,类型,信息"
   ]
  },
  {
   "cell_type": "markdown",
   "metadata": {
    "collapsed": true
   },
   "source": [
    "- 2.简述Python文件运行的流程\n",
    "\n",
    "【答案】\n",
    "\n",
    "- Python源文件（.py）先由编译器产生字节码文件（.pyc）,然后由解释器执行该文件得到程序运行结果。"
   ]
  },
  {
   "cell_type": "markdown",
   "metadata": {},
   "source": [
    "- 3.简述标识符的定义和规则？\n",
    "\n",
    "【答案】\n",
    "- 定义：标识符是用来给变量、常量、函数等命名的符号\n",
    "- 规则：标志符可由字母、下划线、数字组成，但开头不能是数字"
   ]
  },
  {
   "cell_type": "markdown",
   "metadata": {},
   "source": [
    "- 4.定义两个变量 a = 50 b = 30  求 :\n",
    "\n",
    "     1.a & b\n",
    "     \n",
    "     2.a | b\n",
    "     \n",
    "     3.a ^ b\n",
    "\n",
    "【答案】\n",
    "\n",
    "    1. a & b = 18\n",
    "    2. a | b = 62\n",
    "    3. a ^ b = 44"
   ]
  },
  {
   "cell_type": "markdown",
   "metadata": {},
   "source": [
    "#### 编程题"
   ]
  },
  {
   "cell_type": "markdown",
   "metadata": {},
   "source": [
    "- 5.从控制台输入一个年份，判断是否是闰年"
   ]
  },
  {
   "cell_type": "code",
   "execution_count": 12,
   "metadata": {},
   "outputs": [
    {
     "name": "stdout",
     "output_type": "stream",
     "text": [
      "please enter a year: 2019\n",
      "no\n"
     ]
    }
   ],
   "source": [
    "# 代码\n",
    "year = int(input('please enter a year: '))\n",
    "if year % 4 ==0 and year % 100 !=0:\n",
    "    print(\"yes\")\n",
    "elif year % 400 == 0:\n",
    "    print(\"yes\")\n",
    "else:\n",
    "    print(\"no\")"
   ]
  },
  {
   "cell_type": "markdown",
   "metadata": {},
   "source": [
    "- 6.请对输入三个整数a,b,c,判断能否以它们为三个边长构成三角形。若能，输出YES和面积，否则输出NO"
   ]
  },
  {
   "cell_type": "code",
   "execution_count": 13,
   "metadata": {},
   "outputs": [
    {
     "name": "stdout",
     "output_type": "stream",
     "text": [
      "a = 3\n",
      "b = 4\n",
      "c = 5\n",
      "YES 面积为6.000000\n"
     ]
    }
   ],
   "source": [
    "# 代码\n",
    "import math\n",
    "a = float(input('a = '))\n",
    "b = float(input('b = '))\n",
    "c = float(input('c = '))\n",
    "if a + b > c and a + c > b and b + c > a:\n",
    "    p = (a + b + c) / 2\n",
    "    area = math.sqrt(p * (p - a) * (p - b) * (p - c))\n",
    "    print('YES','面积为%f' % (area))\n",
    "else:\n",
    "    print('NO')"
   ]
  },
  {
   "cell_type": "markdown",
   "metadata": {},
   "source": [
    "- 7.可逆素数是将某素数的各位数字顺序颠倒后仍为素数的数，请编程并输出200以内的可逆素数"
   ]
  },
  {
   "cell_type": "code",
   "execution_count": 1,
   "metadata": {},
   "outputs": [
    {
     "name": "stdout",
     "output_type": "stream",
     "text": [
      "2\n",
      "3\n",
      "4\n",
      "5\n",
      "7\n",
      "11\n",
      "13\n",
      "17\n",
      "31\n",
      "37\n",
      "71\n",
      "73\n",
      "79\n",
      "97\n",
      "101\n",
      "107\n",
      "113\n",
      "131\n",
      "149\n",
      "151\n",
      "157\n",
      "167\n",
      "179\n",
      "181\n",
      "191\n",
      "199\n"
     ]
    }
   ],
   "source": [
    "# 代码\n",
    "def judge(i): #判断i是否为素数\n",
    "    for j in range (2,i//2):  # j 的取值范围不包含1和它本身；若[2，i//2）内无约数，则[i//2,i)一定没有；i//2 缩小了搜索范围，可以减小计算量\n",
    "        if i%j==0:  # i除了1和它本身还有其他的约数\n",
    "            return 0  # i 不是素数\n",
    "    return 1   # i 是素数\n",
    "print(2) # 2是素数，且满足题意\n",
    "for i in range(3,201):  # 在[3,201)内搜素\n",
    "    if i<10 and judge(i)==1 :  #个位素数本身就是可逆素数\n",
    "            print(i)\n",
    "    if i>10 and i<100 and judge(i)==1:  #两位数为可逆素数的条件：1. 本身是素数 \n",
    "        if judge(i%10*10+i//10%10)==1:  # 2. 各位数字逆置后还是素数\n",
    "            print(i)\n",
    "    if i>100 and judge(i)==1:           # 同上\n",
    "        if judge(i%10*100+((i//10)%10)*10+((i//10)//10))==1:\n",
    "            print(i)"
   ]
  },
  {
   "cell_type": "markdown",
   "metadata": {},
   "source": [
    "- 8.编写程序，完成以下要求：\n",
    "\n",
    "    统计字符串中，各个字符的个数\n",
    "    \n",
    "    比如：\"hello world\" 字符串统计的结果为： h:1 e:1 l:3 o:2 d:1 r:1 w:1"
   ]
  },
  {
   "cell_type": "code",
   "execution_count": 1,
   "metadata": {},
   "outputs": [
    {
     "name": "stdout",
     "output_type": "stream",
     "text": [
      "please input a string : aaabbc\n",
      "{'a': 3, 'b': 2, 'c': 1}\n"
     ]
    }
   ],
   "source": [
    "# 代码\n",
    "ss = input(\"please input a string : \")\n",
    "dict = {}\n",
    "for s in ss:\n",
    "    if s in dict:\n",
    "        dict[s] += 1\n",
    "    else:\n",
    "        dict[s] = 1\n",
    "print(dict)"
   ]
  },
  {
   "cell_type": "code",
   "execution_count": null,
   "metadata": {
    "collapsed": true
   },
   "outputs": [],
   "source": []
  }
 ],
 "metadata": {
  "kernelspec": {
   "display_name": "Python 3",
   "language": "python",
   "name": "python3"
  },
  "language_info": {
   "codemirror_mode": {
    "name": "ipython",
    "version": 3
   },
   "file_extension": ".py",
   "mimetype": "text/x-python",
   "name": "python",
   "nbconvert_exporter": "python",
   "pygments_lexer": "ipython3",
   "version": "3.5.2"
  },
  "toc": {
   "base_numbering": 1,
   "nav_menu": {},
   "number_sections": true,
   "sideBar": true,
   "skip_h1_title": false,
   "title_cell": "Table of Contents",
   "title_sidebar": "Contents",
   "toc_cell": false,
   "toc_position": {},
   "toc_section_display": true,
   "toc_window_display": false
  }
 },
 "nbformat": 4,
 "nbformat_minor": 2
}
