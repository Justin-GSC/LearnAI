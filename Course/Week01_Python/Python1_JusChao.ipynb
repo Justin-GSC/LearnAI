{
 "cells": [
  {
   "cell_type": "markdown",
   "metadata": {},
   "source": [
    "## Python第一课作业\n",
    "\n",
    "####  作业提交说明：\n",
    "- 位置：作业文件统一放置于/0.Teacher/Exercise/Python/python1下面\n",
    "- 文件名：请先复制该notebook文件，并重新命名为(课程名)+(您姓名的全拼)，并按要求完成后保存\n",
    "- 时间：课程结束后的第二天前提交。\n",
    "- 注意：请勿抄袭，移动，修改，删除其他同学和原始空白的练习文件。\n",
    "***"
   ]
  },
  {
   "cell_type": "markdown",
   "metadata": {},
   "source": [
    "## 作业"
   ]
  },
  {
   "cell_type": "markdown",
   "metadata": {},
   "source": [
    "#### 简答题"
   ]
  },
  {
   "cell_type": "markdown",
   "metadata": {},
   "source": [
    "- 1.你常用Jupyter notebook中的magic函数都有哪些？"
   ]
  },
  {
   "cell_type": "markdown",
   "metadata": {},
   "source": [
    "%time\n",
    "\n",
    "%%timeit\n",
    "\n",
    "%writefile\n",
    "\n",
    "%html\n",
    "\n",
    "%matplotlib\n",
    "\n",
    "%who\n",
    "\n",
    "%whos\n",
    "\n"
   ]
  },
  {
   "cell_type": "markdown",
   "metadata": {
    "collapsed": true
   },
   "source": [
    "- 2.简述Python文件运行的流程"
   ]
  },
  {
   "cell_type": "markdown",
   "metadata": {},
   "source": [
    ".py->解释器->.pyc->虚拟机执行->结果"
   ]
  },
  {
   "cell_type": "markdown",
   "metadata": {},
   "source": [
    "- 3.简述标识符的定义和规则？"
   ]
  },
  {
   "cell_type": "markdown",
   "metadata": {},
   "source": [
    "Python 的标识符不能以数字开头，只能是字母，下划线，数字作为标识符，且大小写敏感\n",
    "\n",
    "规则：\n",
    "进可能使用有含义的单词，标识符可读性强\n",
    "* 大驼峰式 StudentName 每个单词首字母大写\n",
    "* 小驼峰 studentName 除第一个词外，后面的词首字母大写\n",
    "* 下划线式 student_name 以下划线连接单词"
   ]
  },
  {
   "cell_type": "markdown",
   "metadata": {},
   "source": [
    "- 4.定义两个变量 a = 50 b = 30  求 :\n",
    "\n",
    "     1.a & b\n",
    "     \n",
    "     2.a | b\n",
    "     \n",
    "     3.a ^ b"
   ]
  },
  {
   "cell_type": "code",
   "execution_count": 12,
   "metadata": {
    "ExecuteTime": {
     "end_time": "2019-05-07T11:42:42.443110Z",
     "start_time": "2019-05-07T11:42:42.430686Z"
    }
   },
   "outputs": [],
   "source": [
    "%config ZMQInteractiveShell.ast_node_interactivity=\"all\""
   ]
  },
  {
   "cell_type": "code",
   "execution_count": 13,
   "metadata": {
    "ExecuteTime": {
     "end_time": "2019-05-07T11:42:44.451465Z",
     "start_time": "2019-05-07T11:42:44.436062Z"
    }
   },
   "outputs": [
    {
     "data": {
      "text/plain": [
       "18"
      ]
     },
     "execution_count": 13,
     "metadata": {},
     "output_type": "execute_result"
    },
    {
     "data": {
      "text/plain": [
       "62"
      ]
     },
     "execution_count": 13,
     "metadata": {},
     "output_type": "execute_result"
    },
    {
     "data": {
      "text/plain": [
       "44"
      ]
     },
     "execution_count": 13,
     "metadata": {},
     "output_type": "execute_result"
    }
   ],
   "source": [
    "a = 50\n",
    "b = 30\n",
    "\n",
    "a & b\n",
    "a | b\n",
    "a ^ b"
   ]
  },
  {
   "cell_type": "markdown",
   "metadata": {},
   "source": [
    "#### 编程题"
   ]
  },
  {
   "cell_type": "markdown",
   "metadata": {},
   "source": [
    "- 5.从控制台输入一个年份，判断是否是闰年"
   ]
  },
  {
   "cell_type": "code",
   "execution_count": 1,
   "metadata": {
    "ExecuteTime": {
     "end_time": "2019-05-07T11:31:27.624534Z",
     "start_time": "2019-05-07T11:31:23.019775Z"
    }
   },
   "outputs": [
    {
     "name": "stdout",
     "output_type": "stream",
     "text": [
      "Please input a year:2018\n",
      "No!\n"
     ]
    }
   ],
   "source": [
    "year = eval(input(\"Please input a year:\"))\n",
    "while type(year) is not int:\n",
    "    year = eval(input(\"Wrong! Try again! Please input a year:\")) \n",
    "    \n",
    "if year % 4 == 0 and year % 100 != 0:\n",
    "    print(\"Yes!\")\n",
    "elif year % 400 == 0:\n",
    "    print(\"Yes!\")\n",
    "elif year % 3200 and year % 172800 == 0:\n",
    "    print(\"Yes!\")\n",
    "else:\n",
    "    print(\"No!\")"
   ]
  },
  {
   "cell_type": "markdown",
   "metadata": {},
   "source": [
    "- 6.请对输入三个整数a,b,c,判断能否以它们为三个边长构成三角形。若能，输出YES和面积，否则输出NO"
   ]
  },
  {
   "cell_type": "code",
   "execution_count": 5,
   "metadata": {
    "ExecuteTime": {
     "end_time": "2019-05-07T12:21:55.989217Z",
     "start_time": "2019-05-07T12:21:53.248157Z"
    }
   },
   "outputs": [
    {
     "name": "stdout",
     "output_type": "stream",
     "text": [
      "a:4\n",
      "b:3\n",
      "c:5\n",
      "Yes\n",
      "the area is: 6.0\n"
     ]
    }
   ],
   "source": [
    "# 判断三角形 最小两边之和大于最大边长\n",
    "import math\n",
    "\n",
    "ls = []\n",
    "\n",
    "a = eval(input(\"a:\"))\n",
    "while a <= 0:\n",
    "    a = eval(input(\"Wrong! Try again! a:\"))\n",
    "ls.append(a)   \n",
    "\n",
    "b = eval(input(\"b:\"))\n",
    "while b <= 0:\n",
    "    b = eval(input(\"Wrong! Try again! b:\"))\n",
    "ls.append(b)\n",
    "    \n",
    "c = eval(input(\"c:\"))\n",
    "while c <= 0:\n",
    "    c = eval(input(\"Wrong! Try again! c:\"))\n",
    "ls.append(c)\n",
    "\n",
    "ls.sort()\n",
    "\n",
    "if ls[0] + ls[1] > ls[2]:\n",
    "    print(\"Yes\")\n",
    "    p = (float(a)+float(b)+float(c))/2\n",
    "    s = math.sqrt(p*(p-a)*(p-b)*(p-c))\n",
    "    print(\"the area is:\",s)\n",
    "else:\n",
    "    print(\"No\")"
   ]
  },
  {
   "cell_type": "markdown",
   "metadata": {},
   "source": [
    "- 7.可逆素数是将某素数的各位数字顺序颠倒后仍为素数的数，请编程并输出200以内的可逆素数"
   ]
  },
  {
   "cell_type": "code",
   "execution_count": 3,
   "metadata": {
    "ExecuteTime": {
     "end_time": "2019-05-07T11:32:12.974006Z",
     "start_time": "2019-05-07T11:32:12.961652Z"
    }
   },
   "outputs": [
    {
     "name": "stdout",
     "output_type": "stream",
     "text": [
      "[2, 3, 5, 7, 11, 13, 17, 31, 37, 71, 73, 79, 97, 101, 107, 113, 131, 149, 151, 157, 167, 179, 181, 191, 199]\n"
     ]
    }
   ],
   "source": [
    "#第一步找到所有200以内的素数\n",
    "ls_n = []\n",
    "\n",
    "for i in range(2,201):\n",
    "    for j in range(2,i):\n",
    "        if i % j == 0 :\n",
    "            ls_n.append(i)\n",
    "            break\n",
    "            \n",
    "ls = [x for x in range(2,201) if x not in ls_n]\n",
    "#print(ls)\n",
    "#第二步 颠倒顺序后判断是否仍为素数\n",
    "\n",
    "ls_op = [eval(str(x)[::-1]) for x in ls]\n",
    "\n",
    "#print(ls_op)\n",
    "for item in [eval(str(x)[::-1]) for x in ls]:\n",
    "    for k in range(2,item):\n",
    "        if item % k == 0:\n",
    "            ls_op.remove(item)\n",
    "            break\n",
    "\n",
    "ls_e = [eval(str(x)[::-1]) for x in ls_op]\n",
    "print(ls_e)"
   ]
  },
  {
   "cell_type": "markdown",
   "metadata": {},
   "source": [
    "- 8.编写程序，完成以下要求：\n",
    "\n",
    "    统计字符串中，各个字符的个数\n",
    "    \n",
    "    比如：\"hello world\" 字符串统计的结果为： h:1 e:1 l:3 o:2 d:1 r:1 w:1"
   ]
  },
  {
   "cell_type": "code",
   "execution_count": 9,
   "metadata": {
    "ExecuteTime": {
     "end_time": "2019-05-07T11:37:10.561371Z",
     "start_time": "2019-05-07T11:37:10.554232Z"
    }
   },
   "outputs": [
    {
     "name": "stdout",
     "output_type": "stream",
     "text": [
      "h:1\n",
      "e:1\n",
      "l:3\n",
      "o:2\n",
      "w:1\n",
      "r:1\n",
      "d:1\n"
     ]
    }
   ],
   "source": [
    "StrWords = \"hello world\"\n",
    "\n",
    "DicWords = {}\n",
    "\n",
    "for item in StrWords:\n",
    "    if item == \" \":\n",
    "        continue\n",
    "    DicWords[item] = DicWords.get(item,0) + 1\n",
    "    \n",
    "for key,value in DicWords.items():\n",
    "    print(\"{}:{}\".format(key,value))"
   ]
  },
  {
   "cell_type": "code",
   "execution_count": null,
   "metadata": {},
   "outputs": [],
   "source": []
  }
 ],
 "metadata": {
  "kernelspec": {
   "display_name": "Python 3",
   "language": "python",
   "name": "python3"
  },
  "language_info": {
   "codemirror_mode": {
    "name": "ipython",
    "version": 3
   },
   "file_extension": ".py",
   "mimetype": "text/x-python",
   "name": "python",
   "nbconvert_exporter": "python",
   "pygments_lexer": "ipython3",
   "version": "3.7.2"
  },
  "toc": {
   "base_numbering": 1,
   "nav_menu": {},
   "number_sections": true,
   "sideBar": true,
   "skip_h1_title": false,
   "title_cell": "Table of Contents",
   "title_sidebar": "Contents",
   "toc_cell": false,
   "toc_position": {},
   "toc_section_display": true,
   "toc_window_display": false
  }
 },
 "nbformat": 4,
 "nbformat_minor": 2
}
