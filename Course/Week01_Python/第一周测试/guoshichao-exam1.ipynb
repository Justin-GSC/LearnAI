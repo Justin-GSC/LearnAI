{
 "cells": [
  {
   "cell_type": "code",
   "execution_count": 2,
   "metadata": {
    "ExecuteTime": {
     "end_time": "2019-05-10T11:45:18.060880Z",
     "start_time": "2019-05-10T11:45:18.049070Z"
    }
   },
   "outputs": [],
   "source": [
    "%config ZMQInteractiveShell.ast_node_interactivity='all' "
   ]
  },
  {
   "cell_type": "markdown",
   "metadata": {},
   "source": [
    "## 七月在线机器学习集训营八期第一周(Python基础)考试\n",
    "#### 考试说明:\n",
    "- 起止时间：请同学在2019年05月10日至05月13日期间完成，最晚提交时间下周一（05月13日12：00时之前）结束，<b>逾期不接受补考,该考试分数计入平时成绩</b>\n",
    "- 考试提交方式：请同学<font color=red><b>拷贝</b></font>该试卷后，将文件更名为同学姓名拼音-exam1（例如wangwei-exam1）后，移动至/0.Teacher/Exam/1/目录下进行作答。\n",
    "- 注意事项：为确保同学们真正了解自身对本周课程的掌握程度，<font color=red><b>请勿翻阅，移动，更改</b></font>其它同学试卷。如发现按0分处理\n",
    "- 请同学在下方同学姓名处填写自己的姓名，批改人和最终得分处不用填写"
   ]
  },
  {
   "cell_type": "markdown",
   "metadata": {},
   "source": [
    "- 同学姓名： 郭世超-497809\n",
    "- 批改人：   \n",
    "- 最终得分:"
   ]
  },
  {
   "cell_type": "markdown",
   "metadata": {},
   "source": [
    "<center><h1>####答卷开始####</h1></center>"
   ]
  },
  {
   "cell_type": "markdown",
   "metadata": {},
   "source": [
    "***"
   ]
  },
  {
   "cell_type": "markdown",
   "metadata": {},
   "source": [
    "### 简答题 (共十题，每题4分，共40分)"
   ]
  },
  {
   "cell_type": "markdown",
   "metadata": {},
   "source": [
    "#### 1.请谈谈Python中is 和 == 的区别(代码演示)\n",
    "\n",
    "\n"
   ]
  },
  {
   "cell_type": "markdown",
   "metadata": {},
   "source": [
    "is 是内存地址是否相同\n",
    "\n",
    "\n",
    "== 是对象是否一致，也就是引用一致"
   ]
  },
  {
   "cell_type": "code",
   "execution_count": 248,
   "metadata": {
    "ExecuteTime": {
     "end_time": "2019-05-13T00:53:45.306561Z",
     "start_time": "2019-05-13T00:53:45.291379Z"
    }
   },
   "outputs": [
    {
     "data": {
      "text/plain": [
       "True"
      ]
     },
     "execution_count": 248,
     "metadata": {},
     "output_type": "execute_result"
    },
    {
     "data": {
      "text/plain": [
       "False"
      ]
     },
     "execution_count": 248,
     "metadata": {},
     "output_type": "execute_result"
    }
   ],
   "source": [
    "a = 123456789012345\n",
    "\n",
    "b = 123456789012345\n",
    "\n",
    "a == b\n",
    "\n",
    "a is b"
   ]
  },
  {
   "cell_type": "markdown",
   "metadata": {},
   "source": [
    "2.什么是Python中的自省？"
   ]
  },
  {
   "cell_type": "markdown",
   "metadata": {},
   "source": [
    "判断或者输出自身属性，包括type(),isinstance(),dir()"
   ]
  },
  {
   "cell_type": "markdown",
   "metadata": {},
   "source": [
    "#### 3.Python中的高阶函数是指什么？"
   ]
  },
  {
   "cell_type": "markdown",
   "metadata": {},
   "source": [
    "指的是 map reudce filter"
   ]
  },
  {
   "cell_type": "markdown",
   "metadata": {},
   "source": [
    "#### 4. Python类中有哪些的成员，如何分类他们，他们各自又有哪些用途？"
   ]
  },
  {
   "cell_type": "markdown",
   "metadata": {},
   "source": [
    "* 类变量\n",
    "* 类方法\n",
    "* 实例变量\n",
    "* 实例方法\n",
    "\n",
    "\n",
    "* 使用cls的为类方法，使用self的为实例方法\n",
    "\n",
    "\n",
    "类方法直接使用类名调用，操作整个类\n",
    "\n",
    "\n",
    "实例方法，需要实例类之后调用，操作对应实例\n",
    "\n",
    "\n",
    "\n",
    "* 名字前使用self.的为实例变量，没有的则是类变量\n",
    "\n",
    "\n",
    "实例变量，在实例中的变量，随着实例的消失而消失\n",
    "\n",
    "\n",
    "类变量，在整个类中的变量，不随实例变化\n",
    "\n",
    "\n"
   ]
  },
  {
   "cell_type": "markdown",
   "metadata": {},
   "source": [
    "#### 5 Python中列表，元组的相同之处及区别都有哪些？集合与字典呢？"
   ]
  },
  {
   "cell_type": "markdown",
   "metadata": {},
   "source": [
    "* 列表和元组都是有序序列，都可以被索引，但列表是可变类型，元组是不可变类型\n",
    "\n",
    "\n",
    "* 集合和字典都是无序序列，不可以被索引，字典相当于内部元素全部为元组的集合，字典内的value可以被修改，但集合内元素不能修改 "
   ]
  },
  {
   "cell_type": "markdown",
   "metadata": {},
   "source": [
    "#### 6.尝试简述一下什么是Python类中的数据封装，以及封装的意义？ "
   ]
  },
  {
   "cell_type": "markdown",
   "metadata": {},
   "source": [
    "Python 类中的数据封装是指 使用前面带“__”的实例变量或者实例方法，这样的操作使得无法在实例外部直接调用\n",
    "\n",
    "意义：能够保证私密数据不外泄"
   ]
  },
  {
   "cell_type": "markdown",
   "metadata": {},
   "source": [
    "#### 7.解释下Python中的LEGB规则 ？ "
   ]
  },
  {
   "cell_type": "markdown",
   "metadata": {},
   "source": [
    "依次从 Local--> Enclosed --> Global --> Build-in 进行访问"
   ]
  },
  {
   "cell_type": "markdown",
   "metadata": {},
   "source": [
    "#### 8.谈谈您对Python中闭包的理解？"
   ]
  },
  {
   "cell_type": "markdown",
   "metadata": {},
   "source": [
    "就是将函数当做参数传入，并能返回另外一个函数"
   ]
  },
  {
   "cell_type": "markdown",
   "metadata": {},
   "source": [
    "#### 9\t简述你理解 的Python中的数据描述符"
   ]
  },
  {
   "cell_type": "markdown",
   "metadata": {},
   "source": [
    "？？？"
   ]
  },
  {
   "cell_type": "markdown",
   "metadata": {},
   "source": [
    "#### 10.Python中的模块和包是什么，如何自定义并使用？"
   ]
  },
  {
   "cell_type": "markdown",
   "metadata": {},
   "source": [
    "Python 中的模块是一个py文件，而包是一组具有相近功能的模块的集合\n",
    "\n",
    "\n",
    "需要将写好的模块或包放置到对应路径下，使用import 模块名字 使用\n"
   ]
  },
  {
   "cell_type": "markdown",
   "metadata": {},
   "source": [
    "### 代码题(共十题，每题6分,共60分)"
   ]
  },
  {
   "cell_type": "markdown",
   "metadata": {},
   "source": [
    "#### 1. 创建一个函数，接收一个字符串参数，判断其做为Python标识符是否合法。\n",
    "\n",
    "具体要求： \n",
    "- 如果合法则输出 True，否则输出 False。\n",
    "- 如果该字符串与Python内置的关键字，或Bifs冲突，则打印'conflict'\n",
    "- 注:Python标识符的规则，关键字和Bifs可搜索得到"
   ]
  },
  {
   "cell_type": "code",
   "execution_count": 247,
   "metadata": {
    "ExecuteTime": {
     "end_time": "2019-05-12T15:58:18.294668Z",
     "start_time": "2019-05-12T15:58:18.268109Z"
    }
   },
   "outputs": [
    {
     "data": {
      "text/plain": [
       "False"
      ]
     },
     "execution_count": 247,
     "metadata": {},
     "output_type": "execute_result"
    },
    {
     "data": {
      "text/plain": [
       "True"
      ]
     },
     "execution_count": 247,
     "metadata": {},
     "output_type": "execute_result"
    },
    {
     "data": {
      "text/plain": [
       "True"
      ]
     },
     "execution_count": 247,
     "metadata": {},
     "output_type": "execute_result"
    },
    {
     "data": {
      "text/plain": [
       "'conflict'"
      ]
     },
     "execution_count": 247,
     "metadata": {},
     "output_type": "execute_result"
    }
   ],
   "source": [
    "def IsName(a):\n",
    "    import keyword\n",
    "    \n",
    "    ls = keyword.kwlist\n",
    "    \n",
    "    ls.extend(dir(__builtins__))\n",
    "    \n",
    "    ls1 = \"abcdefghijklmnopqrstuvwxyzABCDEFGHIJKLMNOPQRSTUVWXYZ_0123456789\"\n",
    "    \n",
    "    for i in a:\n",
    "        if i not in ls1:\n",
    "            return False\n",
    "    if a[0] in \"1234567890\":\n",
    "        return False\n",
    "    elif a in ls:\n",
    "        return \"conflict\"\n",
    "    \n",
    "    return True\n",
    "        \n",
    "\n",
    "IsName(\"0AWF\")\n",
    "IsName(\"AWF\")\n",
    "IsName(\"_AWF\")\n",
    "IsName(\"str\")"
   ]
  },
  {
   "cell_type": "markdown",
   "metadata": {},
   "source": [
    "#### 2.编写一个函数，能生成包含20个范围在0-999之间的随机整数的列表，然后将前10个元素升序排列，后10个元素降序排列，并分别打印输出"
   ]
  },
  {
   "cell_type": "code",
   "execution_count": 230,
   "metadata": {
    "ExecuteTime": {
     "end_time": "2019-05-12T15:40:12.915778Z",
     "start_time": "2019-05-12T15:40:12.908149Z"
    }
   },
   "outputs": [
    {
     "name": "stdout",
     "output_type": "stream",
     "text": [
      "[82, 196, 339, 350, 495, 560, 605, 697, 822, 906, 998, 897, 765, 690, 653, 515, 373, 352, 114]\n"
     ]
    }
   ],
   "source": [
    "def randlist():\n",
    "    import random \n",
    "    \n",
    "    ranlist = []\n",
    "    for i in range(20):\n",
    "        ranlist.append(random.randint(0,1000))\n",
    "    \n",
    "    List_t = ranlist[:10]\n",
    "    List_b = ranlist[11:]\n",
    "\n",
    "    List_t.sort()\n",
    "    List_b.sort(reverse=True)\n",
    "    \n",
    "    \n",
    "    List_t.extend(List_b)\n",
    "    \n",
    "    print(List_t)\n",
    "    \n",
    "randlist()"
   ]
  },
  {
   "cell_type": "markdown",
   "metadata": {},
   "source": [
    "#### 3.有一分数序列为：2/1，3/2，5/3，8/5，13/8，21/13,请使用Python代码生成这种规则的数列，并打印该数列的前30项的和"
   ]
  },
  {
   "cell_type": "code",
   "execution_count": 35,
   "metadata": {
    "ExecuteTime": {
     "end_time": "2019-05-10T12:18:09.225755Z",
     "start_time": "2019-05-10T12:18:09.214612Z"
    }
   },
   "outputs": [
    {
     "name": "stdout",
     "output_type": "stream",
     "text": [
      "48.84060068717216\n"
     ]
    }
   ],
   "source": [
    "# 分子，分母为斐波那契数列 \n",
    "\n",
    "def fibo(x):\n",
    "    ls = []\n",
    "    for i in range(x):\n",
    "        if i == 0 :\n",
    "            a = 2\n",
    "            b = 1\n",
    "            ls.append(a/b)\n",
    "        if i > 0:\n",
    "            a,b = a + b,a\n",
    "            ls.append(a/b)\n",
    "    return ls\n",
    "\n",
    "print(sum(fibo(30)))      "
   ]
  },
  {
   "cell_type": "markdown",
   "metadata": {},
   "source": [
    "#### 4. BMI编写\n",
    "身体质量指数（BMI）是根据人的体重和身高计算得出的一个数字，BMI是可靠的身体肥胖指标，其计算公式：BMI=Weight/High2，其中体重单位为公斤，身高单位为米。\n",
    "\n",
    "- 计算公式为：$BMI=体重（kg）÷身高^2（m）$\n",
    "\n",
    "- 提示用户输入体重（kg）和身高的数字(m)(注意单位），然后计算BMI。\n",
    "\n",
    "- 根据BMI指数范围，定义当前健康状态。BMI指数在18至25之间定义为健康的标准体重,小于该范围定义为偏瘦，超过该范围定义为偏重。\n",
    "\n",
    "- 将BMI指数和其所代表状态输出 \n",
    "\n",
    "\n"
   ]
  },
  {
   "cell_type": "code",
   "execution_count": 38,
   "metadata": {
    "ExecuteTime": {
     "end_time": "2019-05-10T12:25:21.594914Z",
     "start_time": "2019-05-10T12:25:16.451600Z"
    }
   },
   "outputs": [
    {
     "name": "stdout",
     "output_type": "stream",
     "text": [
      "请输入您的体重（单位KG）:55\n",
      "请输入您的身高（单位M):1.78\n",
      "偏瘦，您的BMI数值是: 17.35891932836763\n"
     ]
    }
   ],
   "source": [
    "weight = eval(input(\"请输入您的体重（单位KG）:\"))\n",
    "hight = eval(input(\"请输入您的身高（单位M):\"))\n",
    "\n",
    "BMI = weight / (hight**2)\n",
    "\n",
    "if BMI < 18:\n",
    "    print(\"偏瘦，您的BMI数值是:\",BMI)\n",
    "elif BMI > 25:\n",
    "    print(\"偏胖，您的BMI数值是:\",BMI)\n",
    "elif BMI >18 or BMI < 25:\n",
    "    print(\"标准，您的BMI数值是:\",BMI)\n",
    "else:\n",
    "    print(\"Something Wrong,Try Again!\")"
   ]
  },
  {
   "cell_type": "markdown",
   "metadata": {},
   "source": [
    "#### 5.字符统计\n",
    "- 创建一个函数，接收字符串输入，分别统计出其中英文字母、空格、数字和其它字符的个数后打印。\n",
    "- 提示：\n",
    "  - ord('a') 能将字符 'a' 转化为 ASCII 码表上对应的数值，\n",
    "  - 例如，空格为32  \n",
    "  - 数字 0-9 对应的码值为 48-57\n",
    "  - 大写字母 A-Z 对应 65-90\n",
    "  - 小写字母 a-z 对应 97-122\n",
    "  - 比122高的都是其它。"
   ]
  },
  {
   "cell_type": "code",
   "execution_count": 179,
   "metadata": {
    "ExecuteTime": {
     "end_time": "2019-05-12T15:06:57.756804Z",
     "start_time": "2019-05-12T15:06:50.894104Z"
    }
   },
   "outputs": [
    {
     "name": "stdout",
     "output_type": "stream",
     "text": [
      "请输入字符串：asdff\n",
      "英文字母个数为:5个\n",
      "空格个数为:0个\n",
      "数字个数为:0个\n",
      "其他字符个数为:0个\n",
      "\n"
     ]
    }
   ],
   "source": [
    "def func1():\n",
    "    \n",
    "    String = input(\"请输入字符串：\")\n",
    "    letter,space,number,others = 0,0,0,0\n",
    "    \n",
    "    for i in String:\n",
    "        if ord(i) == 32:\n",
    "            space += 1\n",
    "        if ord(i) >= 48 and ord(i) <= 57:\n",
    "            number += 1\n",
    "        if ord(i) >= 65 and ord(i) <= 90:\n",
    "            letter += 1\n",
    "        if ord(i) >= 97 and ord(i) <= 122:\n",
    "            letter += 1\n",
    "        if ord(i) > 122:\n",
    "            others += 1\n",
    "    print(\"英文字母个数为:{}个\\n空格个数为:{}个\\n数字个数为:{}个\\n其他字符个数为:{}个\\n\".format(letter,space,number,others))\n",
    "\n",
    "func1()"
   ]
  },
  {
   "cell_type": "markdown",
   "metadata": {
    "collapsed": true
   },
   "source": [
    "#### 6.创建一个函数，可以将去除给定列表中中相邻且重复的元素(只保留一个)后，打印输出结果。\n",
    "- 说明\n",
    "  - 输入参数为 l1=[1,2,3,4,4,4,4,4,4,5,6,6,8,8,12,12,12,12,13]\n",
    "  - 操作后，保证原有整体排序不变，仅处理相邻且重复的元素\n",
    "  - 请勿使用set，否则该题不计分。"
   ]
  },
  {
   "cell_type": "code",
   "execution_count": 59,
   "metadata": {
    "ExecuteTime": {
     "end_time": "2019-05-10T13:01:38.802814Z",
     "start_time": "2019-05-10T13:01:38.794764Z"
    }
   },
   "outputs": [
    {
     "name": "stdout",
     "output_type": "stream",
     "text": [
      "[1, 2, 3, 4, 5, 6, 8, 12, 6, 12, 13]\n"
     ]
    }
   ],
   "source": [
    "l1=[1,2,3,4,4,4,4,4,4,5,6,6,8,8,12,12,12,6,12,13]\n",
    "L = len(l1) - 1\n",
    "ls = []\n",
    "\n",
    "#判 断前n-1个 相邻 且重复\n",
    "for x in range(L):\n",
    "    if x != L and l1[x] != l1[x+1]:\n",
    "        ls.append(l1[x])\n",
    "\n",
    "# 判断最后一个        \n",
    "if l1[-1] != l1[-2]:\n",
    "    ls.append(l1[-1])\n",
    "        \n",
    "print(ls)"
   ]
  },
  {
   "cell_type": "markdown",
   "metadata": {},
   "source": [
    "#### 7 \t创建一个函数，接收一个由整数组成的列表（需对输入列表做检查，长度最少为2,数据类型为整型），并检验后下列条件后输出：\n",
    "- 如列表是升序排列的,则输出\"ASC\";   \n",
    "- 如列表是降序排列的,则输出\"DESC\";   \n",
    "- 如列表无序或对象全部相等，则输出\"WRONG\""
   ]
  },
  {
   "cell_type": "code",
   "execution_count": 112,
   "metadata": {
    "ExecuteTime": {
     "end_time": "2019-05-10T13:25:39.734265Z",
     "start_time": "2019-05-10T13:25:35.567109Z"
    }
   },
   "outputs": [
    {
     "name": "stdout",
     "output_type": "stream",
     "text": [
      "请输入一个列表：1,25,3\n",
      "WRONG\n"
     ]
    }
   ],
   "source": [
    "ls_input = list(eval(input(\"请输入一个列表：\")))\n",
    "\n",
    "ls = ls_input.copy()\n",
    "\n",
    "ls.sort()\n",
    "if ls_input == ls:\n",
    "    print(\"ASC\")\n",
    "elif ls_input == ls[::-1]:\n",
    "    print(\"DESC\")\n",
    "else:\n",
    "    print('WRONG')"
   ]
  },
  {
   "cell_type": "markdown",
   "metadata": {},
   "source": [
    "#### 8.高阶函数综合运用\n",
    "\n",
    "l1=[1,3,6,8,10,11,17]\n",
    "\n",
    "请仅使用map,reduce,filter对上方数组依次进行如下三次操作：\n",
    "\n",
    "\n",
    "- 剔除掉所有的偶数后打印\n",
    "\n",
    "- 对剩下的数字每个数字进行平方后打印\n",
    "\n",
    "- 对数组求和后打印"
   ]
  },
  {
   "cell_type": "code",
   "execution_count": 200,
   "metadata": {
    "ExecuteTime": {
     "end_time": "2019-05-12T15:17:53.422875Z",
     "start_time": "2019-05-12T15:17:53.412696Z"
    },
    "scrolled": true
   },
   "outputs": [
    {
     "name": "stdout",
     "output_type": "stream",
     "text": [
      "[1, 3, 11, 17]\n"
     ]
    }
   ],
   "source": [
    "#剔除掉所有的偶数后打印\n",
    "l1=[1,3,6,8,10,11,17]\n",
    "\n",
    "l2 = list(filter(lambda x : x%2 != 0,l1 ))\n",
    "\n",
    "print(l2)"
   ]
  },
  {
   "cell_type": "code",
   "execution_count": 201,
   "metadata": {
    "ExecuteTime": {
     "end_time": "2019-05-12T15:17:53.876494Z",
     "start_time": "2019-05-12T15:17:53.868685Z"
    }
   },
   "outputs": [
    {
     "name": "stdout",
     "output_type": "stream",
     "text": [
      "[1, 9, 121, 289]\n"
     ]
    }
   ],
   "source": [
    "#对剩下的数字每个数字进行平方后打印\n",
    "\n",
    "l3 = list(map(lambda x : x**2,l2))\n",
    "\n",
    "print(l3)"
   ]
  },
  {
   "cell_type": "code",
   "execution_count": 207,
   "metadata": {
    "ExecuteTime": {
     "end_time": "2019-05-12T15:18:54.170529Z",
     "start_time": "2019-05-12T15:18:54.164618Z"
    }
   },
   "outputs": [
    {
     "name": "stdout",
     "output_type": "stream",
     "text": [
      "56\n"
     ]
    }
   ],
   "source": [
    "#对数组求和后打印\n",
    "from functools import reduce\n",
    "\n",
    "l4 = reduce(lambda x, y: x+y, l1)\n",
    "print(l4)"
   ]
  },
  {
   "cell_type": "markdown",
   "metadata": {},
   "source": [
    "#### 9.Python类设计\n",
    "设计一个公司类，完成以下要求，<font color=red>并实例化不同对象进行验证</font>\n",
    "\n",
    "类变量\n",
    " - 类下公司的总个数，类下实例的名称列表\n",
    "\n",
    "类方法\n",
    " - 返回公司类共有多少个公司实例\n",
    " - 返回公司类的公司实例有名称列表\n",
    "\n",
    "实例变量\n",
    "- 公司名，简介，利润，销售额，总成本，雇员姓名\n",
    "\n",
    "实例方法：\n",
    "- 招聘人才（每招一个人会有成本产生，影响该实例雇员列表，人数，总成本）\n",
    "- 解雇人员（每解雇一个人会有成本产生，影响该实例雇员列表，人数 ，总成本）\n",
    "- 公司广告推广(影响该实例总成本)\n",
    "- 交社保(按公司雇员总人数计算，影响该实例总成本)\n",
    "- 交税(按公司雇员总人数计算，影响该实例总成本)\n",
    "- 销售（按销售件数*价格计算销售额，利润按销售额*利润率进行计算利润。）\n",
    "- 获取公司雇员列表\n",
    "- 获取公司净利润"
   ]
  },
  {
   "cell_type": "code",
   "execution_count": 138,
   "metadata": {
    "ExecuteTime": {
     "end_time": "2019-05-10T13:59:37.629552Z",
     "start_time": "2019-05-10T13:59:37.607368Z"
    }
   },
   "outputs": [],
   "source": [
    "class Company():\n",
    "    \n",
    "    name_list = []\n",
    "    num = 0\n",
    "    \n",
    "    @classmethod\n",
    "    def get_company_num(cls):\n",
    "        return len(Company.name_list)\n",
    "    \n",
    "    \n",
    "    @classmethod\n",
    "    def get_company_name(cls):\n",
    "        return Company.name_list\n",
    "    \n",
    "    def __init__(self,company_name,intro,*employee_name):\n",
    "        Company.name_list.append(company_name)\n",
    "        Company.num += 1\n",
    "        self.company_name = company_name\n",
    "        self.intro = intro\n",
    "        self.profit = 0\n",
    "        self.sale = 0\n",
    "        self.cost = 0\n",
    "        self.employee_name = list(employee_name)\n",
    "        \n",
    "        print('''\n",
    "        公司名称{}\n",
    "        公司简介{}\n",
    "        雇员姓名{}\n",
    "        '''.format(self.company_name,self.intro,self.employee_name))\n",
    "        \n",
    "    def recruit(self,new_name):\n",
    "        self.employee_name.append(new_name)\n",
    "        self.cost += 1\n",
    "        \n",
    "    def fire(self,old_name):\n",
    "        self.employee_name.remove(old_name)\n",
    "        self.cost += 1\n",
    "              \n",
    "    def AD(self): # 广告每次 10\n",
    "        self.cost += 10      \n",
    "    \n",
    "    def insur(self): #基础社保 1.5\n",
    "        self.cost += len(self.employee_name)*1.5\n",
    "              \n",
    "    def tax(self): #基础税点1.2\n",
    "        self.cost += len(self.employee_name)*1.2\n",
    "              \n",
    "    def sell(self,n): # 利润为每件20\n",
    "        self.sale += n*20\n",
    "              \n",
    "    def get_employee_name(self):\n",
    "        return self.employee_name\n",
    "              \n",
    "    def get_profit(self): #0.8是利润率\n",
    "        return self.sell*0.8 - self.cost"
   ]
  },
  {
   "cell_type": "code",
   "execution_count": 139,
   "metadata": {
    "ExecuteTime": {
     "end_time": "2019-05-10T13:59:38.255108Z",
     "start_time": "2019-05-10T13:59:38.247024Z"
    }
   },
   "outputs": [
    {
     "name": "stdout",
     "output_type": "stream",
     "text": [
      "\n",
      "        公司名称JD\n",
      "        公司简介电商\n",
      "        雇员姓名['东哥', '奶茶']\n",
      "        \n",
      "\n",
      "        公司名称TAOBAO\n",
      "        公司简介电商\n",
      "        雇员姓名['Jack Ma', '马云']\n",
      "        \n",
      "\n",
      "        公司名称TENCENT\n",
      "        公司简介游戏\n",
      "        雇员姓名['马化腾']\n",
      "        \n"
     ]
    }
   ],
   "source": [
    "JD = Company(\"JD\",\"电商\",\"东哥\",\"奶茶\")\n",
    "\n",
    "TB = Company(\"TAOBAO\",\"电商\",\"Jack Ma\",\"马云\")\n",
    "\n",
    "TX = Company(\"TENCENT\",\"游戏\",\"马化腾\")"
   ]
  },
  {
   "cell_type": "code",
   "execution_count": 144,
   "metadata": {
    "ExecuteTime": {
     "end_time": "2019-05-10T14:02:08.503790Z",
     "start_time": "2019-05-10T14:02:08.482048Z"
    }
   },
   "outputs": [
    {
     "data": {
      "text/plain": [
       "['JD', 'TAOBAO', 'TENCENT']"
      ]
     },
     "execution_count": 144,
     "metadata": {},
     "output_type": "execute_result"
    },
    {
     "data": {
      "text/plain": [
       "3"
      ]
     },
     "execution_count": 144,
     "metadata": {},
     "output_type": "execute_result"
    },
    {
     "data": {
      "text/plain": [
       "['JD', 'TAOBAO', 'TENCENT']"
      ]
     },
     "execution_count": 144,
     "metadata": {},
     "output_type": "execute_result"
    },
    {
     "data": {
      "text/plain": [
       "3"
      ]
     },
     "execution_count": 144,
     "metadata": {},
     "output_type": "execute_result"
    },
    {
     "data": {
      "text/plain": [
       "'JD'"
      ]
     },
     "execution_count": 144,
     "metadata": {},
     "output_type": "execute_result"
    }
   ],
   "source": [
    "# 类变量\n",
    "Company.name_list\n",
    "Company.num\n",
    "\n",
    "# 类方法\n",
    "Company.get_company_name()\n",
    "Company.get_company_num()\n",
    "\n",
    "#实例变量\n",
    "JD.company_name\n",
    "\n",
    "#实例方法\n",
    "JD.AD()"
   ]
  },
  {
   "cell_type": "markdown",
   "metadata": {
    "collapsed": true
   },
   "source": [
    "#### 10.结合PIL库，制作一个能生成4位随机数验证码图片的函数。"
   ]
  },
  {
   "cell_type": "code",
   "execution_count": 270,
   "metadata": {
    "ExecuteTime": {
     "end_time": "2019-05-13T01:30:38.144312Z",
     "start_time": "2019-05-13T01:30:38.103493Z"
    }
   },
   "outputs": [],
   "source": [
    "from PIL import Image,ImageDraw,ImageFont\n",
    "import random\n",
    "\n",
    "def get_random_color():\n",
    "    c1 = random.randint(0,255)\n",
    "    c2 = random.randint(0,255)\n",
    "    c3 = random.randint(0,255)\n",
    "    \n",
    "    return (c1,c2,c3)\n",
    "\n",
    "def get_random_str():\n",
    "    random_num_1 = str(random.randint(0,9))\n",
    "    random_num_2 = str(random.randint(0,9))\n",
    "    random_num_3 = str(random.randint(0,9))\n",
    "    random_num_4 = str(random.randint(0,9))\n",
    "    \n",
    "    random_num = random_num_1 + random_num_2 + random_num_3 + random_num_4\n",
    "    \n",
    "    return random_num\n",
    "\n",
    "image = Image.new(\"RGB\",(80,30),get_random_color())\n",
    "\n",
    "draw = ImageDraw.Draw(image)\n",
    "\n",
    "font = ImageFont.truetype(\"PingFang.ttc\",size=25)\n",
    "\n",
    "draw.text((10,0),get_random_str(),get_random_color(),font = font)\n",
    "\n",
    "image.save(open(\"demo.png\",\"wb\"),\"png\")\n",
    "\n",
    "f = Image.open(\"demo.png\")\n",
    "f.show()"
   ]
  },
  {
   "cell_type": "markdown",
   "metadata": {},
   "source": [
    "***\n",
    "<center><h1>####答卷结束####</h1></center>"
   ]
  },
  {
   "cell_type": "markdown",
   "metadata": {
    "collapsed": true
   },
   "source": [
    "### 本周课程意见反馈(非必答)\n",
    "请同学围绕以下两点进行回答：\n",
    "- 自身总结：您自己在本周课程的学习，收获，技能掌握等方面进行总结，包括自身在哪些方面存在哪些不足，欠缺，困惑。作为将来回顾学习路径时的依据。\n",
    "- 课程反馈：也可以就知识点，进度，难易度，教学方式，考试方式等等进行意见反馈，督促我们进行更有效的改进，为大家提供更优质的服务。\n"
   ]
  },
  {
   "cell_type": "code",
   "execution_count": null,
   "metadata": {},
   "outputs": [],
   "source": []
  },
  {
   "cell_type": "code",
   "execution_count": null,
   "metadata": {},
   "outputs": [],
   "source": []
  }
 ],
 "metadata": {
  "kernelspec": {
   "display_name": "Python 3",
   "language": "python",
   "name": "python3"
  },
  "language_info": {
   "codemirror_mode": {
    "name": "ipython",
    "version": 3
   },
   "file_extension": ".py",
   "mimetype": "text/x-python",
   "name": "python",
   "nbconvert_exporter": "python",
   "pygments_lexer": "ipython3",
   "version": "3.7.2"
  },
  "toc": {
   "base_numbering": 1,
   "nav_menu": {},
   "number_sections": true,
   "sideBar": true,
   "skip_h1_title": false,
   "title_cell": "Table of Contents",
   "title_sidebar": "Contents",
   "toc_cell": false,
   "toc_position": {},
   "toc_section_display": true,
   "toc_window_display": false
  }
 },
 "nbformat": 4,
 "nbformat_minor": 2
}
