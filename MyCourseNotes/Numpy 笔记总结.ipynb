{
 "cells": [
  {
   "cell_type": "code",
   "execution_count": 3,
   "metadata": {
    "ExecuteTime": {
     "end_time": "2019-05-15T05:47:29.696056Z",
     "start_time": "2019-05-15T05:47:29.683995Z"
    }
   },
   "outputs": [],
   "source": [
    "%config ZMQInteractiveShell.ast_node_interactivity = \"all\""
   ]
  },
  {
   "cell_type": "markdown",
   "metadata": {},
   "source": [
    "# Numpy"
   ]
  },
  {
   "cell_type": "code",
   "execution_count": 5,
   "metadata": {
    "ExecuteTime": {
     "end_time": "2019-06-13T09:23:14.461812Z",
     "start_time": "2019-06-13T09:23:14.445614Z"
    }
   },
   "outputs": [],
   "source": [
    "pd.read_csv?"
   ]
  },
  {
   "cell_type": "code",
   "execution_count": 4,
   "metadata": {
    "ExecuteTime": {
     "end_time": "2019-06-13T09:23:06.195710Z",
     "start_time": "2019-06-13T09:23:04.961091Z"
    }
   },
   "outputs": [],
   "source": [
    "import numpy as np\n",
    "import pandas as pd "
   ]
  },
  {
   "cell_type": "markdown",
   "metadata": {},
   "source": [
    "## Numpy 数据类型"
   ]
  },
  {
   "cell_type": "markdown",
   "metadata": {},
   "source": [
    "|类型|类型代码|说明|\n",
    "|----|------|----|\n",
    "|int8、uint8|i1、u1|有符号和无符号的8位（1个字节）整型|\n",
    "|int16、uint16|i2、u2|有符号和无符号的16位（2个字节）整型|\n",
    "|int32、uint32|i4、u4|有符号和无符号的32位（4个字节）整型|\n",
    "|int64、uint64|i8、u8|有符号和无符号的64位（8个字节）整型|\n",
    "|float16|f2|半精度浮点数|\n",
    "|float32|f4或f|标准的单精度浮点数。与C的float兼容|\n",
    "|float64|f8或d|标准的双精度浮点数。与C的double 和 python的float对象兼容|\n",
    "|float128|f16或g|扩展精度浮点数|\n",
    "|complex64、complex128、complex256|c8、c16、c32|分别用两个32位，64位，128位的浮点数表示复数|\n",
    "|bool|?|储存True和False值得布尔类型|\n",
    "|object|O|Python对象类型|\n",
    "|string|S|固定长度的字符串类型（每个字符1个字节）。创建长度为10的字符串，使用S10|\n",
    "|unicode|U|固定长度的unicode类型，和字符串定义方式一样|\n"
   ]
  },
  {
   "cell_type": "code",
   "execution_count": 24,
   "metadata": {
    "ExecuteTime": {
     "end_time": "2019-05-15T06:06:50.701124Z",
     "start_time": "2019-05-15T06:06:50.690938Z"
    }
   },
   "outputs": [
    {
     "data": {
      "text/plain": [
       "array([[0.23706923, 0.96483428, 0.89969721],\n",
       "       [0.48569829, 0.13948142, 0.80485564],\n",
       "       [0.60299866, 0.88519904, 0.93543622]])"
      ]
     },
     "execution_count": 24,
     "metadata": {},
     "output_type": "execute_result"
    },
    {
     "data": {
      "text/plain": [
       "array([[0, 0, 0],\n",
       "       [0, 0, 0],\n",
       "       [0, 0, 0]], dtype=int8)"
      ]
     },
     "execution_count": 24,
     "metadata": {},
     "output_type": "execute_result"
    }
   ],
   "source": [
    "# 使用astype 转换类型\n",
    "\n",
    "a = np.random.random((3,3))\n",
    "a\n",
    "a.astype(np.int8)"
   ]
  },
  {
   "cell_type": "markdown",
   "metadata": {},
   "source": [
    "## ndArray / 数组"
   ]
  },
  {
   "cell_type": "markdown",
   "metadata": {},
   "source": [
    "> array 函数接受一切序列型的对象，然后产生一个新的含有传入数据的NumPy数组。\n",
    "\n",
    "> np.array(data,dtype=)"
   ]
  },
  {
   "cell_type": "markdown",
   "metadata": {},
   "source": [
    "### 创建自定义数组"
   ]
  },
  {
   "cell_type": "code",
   "execution_count": 223,
   "metadata": {
    "ExecuteTime": {
     "end_time": "2019-05-14T08:04:22.504989Z",
     "start_time": "2019-05-14T08:04:22.495374Z"
    }
   },
   "outputs": [
    {
     "data": {
      "text/plain": [
       "array([[1, 2, 3],\n",
       "       [4, 5, 6],\n",
       "       [7, 8, 9]])"
      ]
     },
     "execution_count": 223,
     "metadata": {},
     "output_type": "execute_result"
    }
   ],
   "source": [
    "a = np.array([[1,2,3],[4,5,6],[7,8,9]])\n",
    "a"
   ]
  },
  {
   "cell_type": "code",
   "execution_count": 12,
   "metadata": {
    "ExecuteTime": {
     "end_time": "2019-05-15T05:51:10.393212Z",
     "start_time": "2019-05-15T05:51:10.382116Z"
    }
   },
   "outputs": [
    {
     "data": {
      "text/plain": [
       "array(['a', 'b', 'c', 'd'], dtype='<U1')"
      ]
     },
     "execution_count": 12,
     "metadata": {},
     "output_type": "execute_result"
    }
   ],
   "source": [
    "a = np.asarray(list(\"abcd\")\n",
    "a"
   ]
  },
  {
   "cell_type": "code",
   "execution_count": 16,
   "metadata": {
    "ExecuteTime": {
     "end_time": "2019-05-15T05:52:23.076331Z",
     "start_time": "2019-05-15T05:52:23.070993Z"
    }
   },
   "outputs": [
    {
     "data": {
      "text/plain": [
       "array([0, 1, 2, 3, 4, 5, 6, 7, 8, 9])"
      ]
     },
     "execution_count": 16,
     "metadata": {},
     "output_type": "execute_result"
    }
   ],
   "source": [
    "a = np.arange(10)\n",
    "a"
   ]
  },
  {
   "cell_type": "markdown",
   "metadata": {},
   "source": [
    "### 创建随机数组"
   ]
  },
  {
   "cell_type": "markdown",
   "metadata": {},
   "source": [
    "* np.random的函数\n",
    "\n",
    "| 函数 | 说明|\n",
    "|------|----|\n",
    "|seed|确定随机数生成器的种子|\n",
    "|RandomState|创建一个与其他隔离的随机数生成器|\n",
    "|permutation|返回一个序列的随机排列或返回一个随机排列的范围|\n",
    "|shuffle|对一个序列就地随机排列|\n",
    "|rand|产生均匀分布的样本值|\n",
    "|randint|从给定的上下范围内随机选取整数|\n",
    "|randn|产生正态分布（平均值为0 ，标准差为1）的样本值|\n",
    "|binomial|产生二项分布的样本值|\n",
    "|normal|产生正态（高斯）分布的样本值|\n",
    "|beta|产生Beta分布的样本值|\n",
    "|chisquare|产生卡方分布的样本值|\n",
    "|gamma|产生Gamma分布的样本值|\n",
    "|uniform|产生在\\[0,1)中均匀分布的样本值|"
   ]
  },
  {
   "cell_type": "code",
   "execution_count": 272,
   "metadata": {
    "ExecuteTime": {
     "end_time": "2019-05-17T01:28:35.119255Z",
     "start_time": "2019-05-17T01:28:35.062155Z"
    },
    "scrolled": true
   },
   "outputs": [
    {
     "data": {
      "text/plain": [
       "array([[0.1936884 , 0.85229747, 0.35449419],\n",
       "       [0.75415766, 0.94313638, 0.98546006],\n",
       "       [0.751958  , 0.19507326, 0.95708248]])"
      ]
     },
     "execution_count": 272,
     "metadata": {},
     "output_type": "execute_result"
    },
    {
     "data": {
      "text/plain": [
       "5"
      ]
     },
     "execution_count": 272,
     "metadata": {},
     "output_type": "execute_result"
    },
    {
     "data": {
      "text/plain": [
       "array([[-0.5257566 ,  0.78276694,  0.20469277],\n",
       "       [-0.27198662,  1.43133696, -1.00322319]])"
      ]
     },
     "execution_count": 272,
     "metadata": {},
     "output_type": "execute_result"
    },
    {
     "data": {
      "text/plain": [
       "array([1, 2, 3, 4, 5, 6, 7, 8, 9])"
      ]
     },
     "execution_count": 272,
     "metadata": {},
     "output_type": "execute_result"
    },
    {
     "data": {
      "text/plain": [
       "array([[ 1.40948083, -1.97514641,  1.36659741],\n",
       "       [ 0.41493499,  1.00362193,  0.55672602],\n",
       "       [-0.07238933, -1.29613765, -2.03169302]])"
      ]
     },
     "execution_count": 272,
     "metadata": {},
     "output_type": "execute_result"
    },
    {
     "data": {
      "text/plain": [
       "array([[2, 3, 3, 3],\n",
       "       [3, 3, 2, 2],\n",
       "       [4, 2, 3, 4]])"
      ]
     },
     "execution_count": 272,
     "metadata": {},
     "output_type": "execute_result"
    },
    {
     "data": {
      "text/plain": [
       "-0.6240052334654114"
      ]
     },
     "execution_count": 272,
     "metadata": {},
     "output_type": "execute_result"
    }
   ],
   "source": [
    "b = np.random.random((3,3))\n",
    "c = np.random.randint(3,6)\n",
    "d = np.random.randn(2,3)\n",
    "e = np.arange(1,10)\n",
    "f = np.random.normal(size=(3,3))\n",
    "g = np.random.randint(2,5,size=(3,4))\n",
    "\n",
    "b\n",
    "c\n",
    "d\n",
    "e\n",
    "f\n",
    "g\n",
    "\n",
    "np.sum(f)"
   ]
  },
  {
   "cell_type": "markdown",
   "metadata": {},
   "source": [
    "### 创建特殊数组"
   ]
  },
  {
   "cell_type": "markdown",
   "metadata": {},
   "source": [
    "#### np.ones()   &  np.ones_like()"
   ]
  },
  {
   "cell_type": "code",
   "execution_count": 389,
   "metadata": {
    "ExecuteTime": {
     "end_time": "2019-05-15T03:30:11.159542Z",
     "start_time": "2019-05-15T03:30:11.149277Z"
    }
   },
   "outputs": [
    {
     "data": {
      "text/plain": [
       "array([1., 1., 1.])"
      ]
     },
     "execution_count": 389,
     "metadata": {},
     "output_type": "execute_result"
    },
    {
     "data": {
      "text/plain": [
       "array([[1., 1.],\n",
       "       [1., 1.]])"
      ]
     },
     "execution_count": 389,
     "metadata": {},
     "output_type": "execute_result"
    }
   ],
   "source": [
    "np.ones(3)\n",
    "np.ones((2,2))"
   ]
  },
  {
   "cell_type": "code",
   "execution_count": 7,
   "metadata": {
    "ExecuteTime": {
     "end_time": "2019-05-15T05:49:02.821880Z",
     "start_time": "2019-05-15T05:49:02.811509Z"
    }
   },
   "outputs": [
    {
     "data": {
      "text/plain": [
       "array([[1., 1., 1.],\n",
       "       [1., 1., 1.],\n",
       "       [1., 1., 1.]])"
      ]
     },
     "execution_count": 7,
     "metadata": {},
     "output_type": "execute_result"
    }
   ],
   "source": [
    "a = np.random.random((3,3))\n",
    "np.ones_like(a)"
   ]
  },
  {
   "cell_type": "markdown",
   "metadata": {},
   "source": [
    "#### np.zeros()  & np.zeros_like()"
   ]
  },
  {
   "cell_type": "code",
   "execution_count": 388,
   "metadata": {
    "ExecuteTime": {
     "end_time": "2019-05-15T03:29:51.648534Z",
     "start_time": "2019-05-15T03:29:51.638315Z"
    }
   },
   "outputs": [
    {
     "data": {
      "text/plain": [
       "array([0., 0., 0.])"
      ]
     },
     "execution_count": 388,
     "metadata": {},
     "output_type": "execute_result"
    },
    {
     "data": {
      "text/plain": [
       "array([[0., 0.],\n",
       "       [0., 0.]])"
      ]
     },
     "execution_count": 388,
     "metadata": {},
     "output_type": "execute_result"
    }
   ],
   "source": [
    "np.zeros(3)\n",
    "np.zeros((2,2))"
   ]
  },
  {
   "cell_type": "code",
   "execution_count": 8,
   "metadata": {
    "ExecuteTime": {
     "end_time": "2019-05-15T05:49:18.586739Z",
     "start_time": "2019-05-15T05:49:18.579841Z"
    }
   },
   "outputs": [
    {
     "data": {
      "text/plain": [
       "array([[0., 0., 0.],\n",
       "       [0., 0., 0.],\n",
       "       [0., 0., 0.]])"
      ]
     },
     "execution_count": 8,
     "metadata": {},
     "output_type": "execute_result"
    }
   ],
   "source": [
    "b = np.random.random((3,3))\n",
    "np.zeros_like(b)"
   ]
  },
  {
   "cell_type": "markdown",
   "metadata": {},
   "source": [
    "#### np.empty()  & np.empty_like()"
   ]
  },
  {
   "cell_type": "code",
   "execution_count": 391,
   "metadata": {
    "ExecuteTime": {
     "end_time": "2019-05-15T03:31:34.906304Z",
     "start_time": "2019-05-15T03:31:34.896670Z"
    },
    "scrolled": true
   },
   "outputs": [
    {
     "data": {
      "text/plain": [
       "array([1., 1., 1.])"
      ]
     },
     "execution_count": 391,
     "metadata": {},
     "output_type": "execute_result"
    },
    {
     "data": {
      "text/plain": [
       "array([[1., 1.],\n",
       "       [1., 1.]])"
      ]
     },
     "execution_count": 391,
     "metadata": {},
     "output_type": "execute_result"
    }
   ],
   "source": [
    "np.empty(3)\n",
    "np.empty((2,2))  #返回的数组会有内容，但是内容都是垃圾值，并非真实值"
   ]
  },
  {
   "cell_type": "code",
   "execution_count": 9,
   "metadata": {
    "ExecuteTime": {
     "end_time": "2019-05-15T05:49:42.305690Z",
     "start_time": "2019-05-15T05:49:42.297660Z"
    }
   },
   "outputs": [
    {
     "data": {
      "text/plain": [
       "array([[1., 1., 1.],\n",
       "       [1., 1., 1.],\n",
       "       [1., 1., 1.]])"
      ]
     },
     "execution_count": 9,
     "metadata": {},
     "output_type": "execute_result"
    }
   ],
   "source": [
    "c = np.random.random((3,3))\n",
    "np.empty_like(c)"
   ]
  },
  {
   "cell_type": "markdown",
   "metadata": {},
   "source": [
    "#### np.eye()  & np.identity()"
   ]
  },
  {
   "cell_type": "code",
   "execution_count": 394,
   "metadata": {
    "ExecuteTime": {
     "end_time": "2019-05-15T03:33:24.635174Z",
     "start_time": "2019-05-15T03:33:24.627266Z"
    }
   },
   "outputs": [
    {
     "data": {
      "text/plain": [
       "array([[1., 0.],\n",
       "       [0., 1.]])"
      ]
     },
     "execution_count": 394,
     "metadata": {},
     "output_type": "execute_result"
    }
   ],
   "source": [
    "np.eye(2)"
   ]
  },
  {
   "cell_type": "code",
   "execution_count": 4,
   "metadata": {
    "ExecuteTime": {
     "end_time": "2019-05-15T05:47:37.389741Z",
     "start_time": "2019-05-15T05:47:37.371076Z"
    }
   },
   "outputs": [
    {
     "data": {
      "text/plain": [
       "array([[1., 0.],\n",
       "       [0., 1.]])"
      ]
     },
     "execution_count": 4,
     "metadata": {},
     "output_type": "execute_result"
    }
   ],
   "source": [
    "np.identity(2)"
   ]
  },
  {
   "cell_type": "markdown",
   "metadata": {},
   "source": [
    "#### np.full()  & np.full_like()"
   ]
  },
  {
   "cell_type": "code",
   "execution_count": 19,
   "metadata": {
    "ExecuteTime": {
     "end_time": "2019-05-15T05:53:40.275348Z",
     "start_time": "2019-05-15T05:53:40.268917Z"
    }
   },
   "outputs": [
    {
     "data": {
      "text/plain": [
       "array([[12, 12, 12],\n",
       "       [12, 12, 12]])"
      ]
     },
     "execution_count": 19,
     "metadata": {},
     "output_type": "execute_result"
    }
   ],
   "source": [
    "e = np.full((2,3),12)\n",
    "e"
   ]
  },
  {
   "cell_type": "code",
   "execution_count": 20,
   "metadata": {
    "ExecuteTime": {
     "end_time": "2019-05-15T05:53:56.612935Z",
     "start_time": "2019-05-15T05:53:56.607024Z"
    }
   },
   "outputs": [
    {
     "data": {
      "text/plain": [
       "array([[13, 13, 13],\n",
       "       [13, 13, 13]])"
      ]
     },
     "execution_count": 20,
     "metadata": {},
     "output_type": "execute_result"
    }
   ],
   "source": [
    "np.full_like(e,13)"
   ]
  },
  {
   "cell_type": "markdown",
   "metadata": {},
   "source": [
    "### 数组操作"
   ]
  },
  {
   "cell_type": "code",
   "execution_count": 280,
   "metadata": {
    "ExecuteTime": {
     "end_time": "2019-05-17T01:46:29.030679Z",
     "start_time": "2019-05-17T01:46:29.019401Z"
    }
   },
   "outputs": [
    {
     "data": {
      "text/plain": [
       "array([[1, 2, 3, 4],\n",
       "       [1, 2, 3, 4],\n",
       "       [1, 2, 3, 4],\n",
       "       [1, 2, 3, 4]])"
      ]
     },
     "execution_count": 280,
     "metadata": {},
     "output_type": "execute_result"
    },
    {
     "data": {
      "text/plain": [
       "array([[2, 2, 2, 2],\n",
       "       [3, 3, 3, 3],\n",
       "       [4, 4, 4, 4],\n",
       "       [5, 5, 5, 5]])"
      ]
     },
     "execution_count": 280,
     "metadata": {},
     "output_type": "execute_result"
    }
   ],
   "source": [
    "import numpy as  np\n",
    "\n",
    "x,y = np.meshgrid(np.arange(1,5,1),np.arange(2,6,1))\n",
    "#np.meshgrid(arr1,arr2),返回到一个（arr，arr） 的元组\n",
    "\n",
    "x\n",
    "y "
   ]
  },
  {
   "cell_type": "code",
   "execution_count": 277,
   "metadata": {
    "ExecuteTime": {
     "end_time": "2019-05-17T01:44:55.310025Z",
     "start_time": "2019-05-17T01:44:55.285705Z"
    },
    "scrolled": true
   },
   "outputs": [
    {
     "data": {
      "text/plain": [
       "(3, 2)"
      ]
     },
     "execution_count": 277,
     "metadata": {},
     "output_type": "execute_result"
    },
    {
     "data": {
      "text/plain": [
       "2"
      ]
     },
     "execution_count": 277,
     "metadata": {},
     "output_type": "execute_result"
    },
    {
     "data": {
      "text/plain": [
       "dtype('float64')"
      ]
     },
     "execution_count": 277,
     "metadata": {},
     "output_type": "execute_result"
    },
    {
     "data": {
      "text/plain": [
       "array([[ 0.96014366, -0.34073269],\n",
       "       [ 2.56573434, -1.15968577],\n",
       "       [ 0.79200868, -1.54341854]])"
      ]
     },
     "execution_count": 277,
     "metadata": {},
     "output_type": "execute_result"
    },
    {
     "data": {
      "text/plain": [
       "array([[ 0.96014366,  2.56573434,  0.79200868],\n",
       "       [-0.34073269, -1.15968577, -1.54341854]])"
      ]
     },
     "execution_count": 277,
     "metadata": {},
     "output_type": "execute_result"
    },
    {
     "data": {
      "text/plain": [
       "array([[ 0.96014366,  2.56573434,  0.79200868],\n",
       "       [-0.34073269, -1.15968577, -1.54341854]])"
      ]
     },
     "execution_count": 277,
     "metadata": {},
     "output_type": "execute_result"
    },
    {
     "data": {
      "text/plain": [
       "array([[ 0.96014366,  2.56573434,  0.79200868],\n",
       "       [-0.34073269, -1.15968577, -1.54341854]])"
      ]
     },
     "execution_count": 277,
     "metadata": {},
     "output_type": "execute_result"
    }
   ],
   "source": [
    "a.shape # 查看形状\n",
    "a.ndim # 查看维度\n",
    "a.dtype # 查看类型\n",
    "a.astype(np.float) # 转换类型np.float,np.int\n",
    "\n",
    "a.T #转置\n",
    "a.transpose((1,0)) #转换轴\n",
    "a.swapaxes(1,0) #交换"
   ]
  },
  {
   "cell_type": "markdown",
   "metadata": {},
   "source": [
    "### 数组索引和切片  Array index and slicing"
   ]
  },
  {
   "cell_type": "code",
   "execution_count": 226,
   "metadata": {
    "ExecuteTime": {
     "end_time": "2019-05-14T08:04:22.565126Z",
     "start_time": "2019-05-14T08:04:22.555708Z"
    }
   },
   "outputs": [
    {
     "data": {
      "text/plain": [
       "array([[1, 2, 3],\n",
       "       [4, 5, 6],\n",
       "       [7, 8, 9]])"
      ]
     },
     "execution_count": 226,
     "metadata": {},
     "output_type": "execute_result"
    }
   ],
   "source": [
    "a"
   ]
  },
  {
   "cell_type": "code",
   "execution_count": 227,
   "metadata": {
    "ExecuteTime": {
     "end_time": "2019-05-14T08:04:22.577742Z",
     "start_time": "2019-05-14T08:04:22.569262Z"
    }
   },
   "outputs": [
    {
     "data": {
      "text/plain": [
       "2"
      ]
     },
     "execution_count": 227,
     "metadata": {},
     "output_type": "execute_result"
    }
   ],
   "source": [
    "a[0,1] #第0维的第1个"
   ]
  },
  {
   "cell_type": "code",
   "execution_count": 228,
   "metadata": {
    "ExecuteTime": {
     "end_time": "2019-05-14T08:04:22.592133Z",
     "start_time": "2019-05-14T08:04:22.583025Z"
    }
   },
   "outputs": [
    {
     "data": {
      "text/plain": [
       "array([[2, 3],\n",
       "       [5, 6],\n",
       "       [8, 9]])"
      ]
     },
     "execution_count": 228,
     "metadata": {},
     "output_type": "execute_result"
    }
   ],
   "source": [
    "a[:,1:3] #切片"
   ]
  },
  {
   "cell_type": "markdown",
   "metadata": {},
   "source": [
    "#### 高维索引时注意"
   ]
  },
  {
   "cell_type": "code",
   "execution_count": 26,
   "metadata": {
    "ExecuteTime": {
     "end_time": "2019-05-15T06:12:21.064705Z",
     "start_time": "2019-05-15T06:12:21.058048Z"
    }
   },
   "outputs": [
    {
     "data": {
      "text/plain": [
       "array([[[0.04721768, 0.46606795, 0.5909114 , 0.3531723 ],\n",
       "        [0.50149537, 0.08346975, 0.19186833, 0.51201819],\n",
       "        [0.97380816, 0.78063129, 0.3329698 , 0.35651616]],\n",
       "\n",
       "       [[0.53657166, 0.26159444, 0.34448508, 0.59170586],\n",
       "        [0.72156307, 0.46526821, 0.20330344, 0.9490335 ],\n",
       "        [0.99859607, 0.19510875, 0.79905074, 0.91995465]]])"
      ]
     },
     "execution_count": 26,
     "metadata": {},
     "output_type": "execute_result"
    }
   ],
   "source": [
    "x = np.random.random((2,3,4))\n",
    "x"
   ]
  },
  {
   "cell_type": "code",
   "execution_count": 32,
   "metadata": {
    "ExecuteTime": {
     "end_time": "2019-05-15T06:14:12.135028Z",
     "start_time": "2019-05-15T06:14:12.119065Z"
    }
   },
   "outputs": [
    {
     "data": {
      "text/plain": [
       "array([[0.04721768, 0.46606795, 0.5909114 , 0.3531723 ],\n",
       "       [0.50149537, 0.08346975, 0.19186833, 0.51201819],\n",
       "       [0.97380816, 0.78063129, 0.3329698 , 0.35651616]])"
      ]
     },
     "execution_count": 32,
     "metadata": {},
     "output_type": "execute_result"
    },
    {
     "data": {
      "text/plain": [
       "array([0.04721768, 0.46606795, 0.5909114 , 0.3531723 ])"
      ]
     },
     "execution_count": 32,
     "metadata": {},
     "output_type": "execute_result"
    },
    {
     "data": {
      "text/plain": [
       "0.04721767952045752"
      ]
     },
     "execution_count": 32,
     "metadata": {},
     "output_type": "execute_result"
    },
    {
     "data": {
      "text/plain": [
       "0.9199546468712282"
      ]
     },
     "execution_count": 32,
     "metadata": {},
     "output_type": "execute_result"
    }
   ],
   "source": [
    "x[0]\n",
    "x[0][0]\n",
    "x[0][0][0]\n",
    "x[1,2,3]"
   ]
  },
  {
   "cell_type": "markdown",
   "metadata": {},
   "source": [
    "#### 布尔索引  boolean indexing"
   ]
  },
  {
   "cell_type": "code",
   "execution_count": 229,
   "metadata": {
    "ExecuteTime": {
     "end_time": "2019-05-14T08:04:22.603490Z",
     "start_time": "2019-05-14T08:04:22.595961Z"
    }
   },
   "outputs": [
    {
     "data": {
      "text/plain": [
       "array([[1, 2, 3],\n",
       "       [4, 5, 6],\n",
       "       [7, 8, 9]])"
      ]
     },
     "execution_count": 229,
     "metadata": {},
     "output_type": "execute_result"
    }
   ],
   "source": [
    "a"
   ]
  },
  {
   "cell_type": "code",
   "execution_count": 230,
   "metadata": {
    "ExecuteTime": {
     "end_time": "2019-05-14T08:04:22.614624Z",
     "start_time": "2019-05-14T08:04:22.607294Z"
    }
   },
   "outputs": [
    {
     "data": {
      "text/plain": [
       "array([[False, False,  True],\n",
       "       [ True,  True,  True],\n",
       "       [ True,  True,  True]])"
      ]
     },
     "execution_count": 230,
     "metadata": {},
     "output_type": "execute_result"
    }
   ],
   "source": [
    "a > 2"
   ]
  },
  {
   "cell_type": "code",
   "execution_count": 231,
   "metadata": {
    "ExecuteTime": {
     "end_time": "2019-05-14T08:04:22.626755Z",
     "start_time": "2019-05-14T08:04:22.618780Z"
    }
   },
   "outputs": [
    {
     "data": {
      "text/plain": [
       "array([4, 5, 6, 7, 8, 9])"
      ]
     },
     "execution_count": 231,
     "metadata": {},
     "output_type": "execute_result"
    }
   ],
   "source": [
    "a[a>3]"
   ]
  },
  {
   "cell_type": "code",
   "execution_count": 232,
   "metadata": {
    "ExecuteTime": {
     "end_time": "2019-05-14T08:04:22.640709Z",
     "start_time": "2019-05-14T08:04:22.631611Z"
    }
   },
   "outputs": [
    {
     "data": {
      "text/plain": [
       "array([[1, 2, 0],\n",
       "       [0, 0, 0],\n",
       "       [0, 0, 0]])"
      ]
     },
     "execution_count": 232,
     "metadata": {},
     "output_type": "execute_result"
    }
   ],
   "source": [
    "a[a>2] = 0\n",
    "a"
   ]
  },
  {
   "cell_type": "markdown",
   "metadata": {},
   "source": [
    "#### 花式索引"
   ]
  },
  {
   "cell_type": "code",
   "execution_count": 34,
   "metadata": {
    "ExecuteTime": {
     "end_time": "2019-05-15T06:16:25.590342Z",
     "start_time": "2019-05-15T06:16:25.583926Z"
    }
   },
   "outputs": [
    {
     "data": {
      "text/plain": [
       "array([[1., 0., 0.],\n",
       "       [0., 1., 0.],\n",
       "       [0., 0., 1.]])"
      ]
     },
     "execution_count": 34,
     "metadata": {},
     "output_type": "execute_result"
    }
   ],
   "source": [
    "y = np.eye(3)\n",
    "y"
   ]
  },
  {
   "cell_type": "code",
   "execution_count": 43,
   "metadata": {
    "ExecuteTime": {
     "end_time": "2019-05-15T06:18:28.770562Z",
     "start_time": "2019-05-15T06:18:28.760291Z"
    }
   },
   "outputs": [
    {
     "data": {
      "text/plain": [
       "array([[0., 1., 0.],\n",
       "       [0., 0., 1.]])"
      ]
     },
     "execution_count": 43,
     "metadata": {},
     "output_type": "execute_result"
    },
    {
     "data": {
      "text/plain": [
       "array([0., 0.])"
      ]
     },
     "execution_count": 43,
     "metadata": {},
     "output_type": "execute_result"
    }
   ],
   "source": [
    "y[[1,2]]\n",
    "y[[0,1],[1,2]]"
   ]
  },
  {
   "cell_type": "markdown",
   "metadata": {},
   "source": [
    "### 数学运算"
   ]
  },
  {
   "cell_type": "markdown",
   "metadata": {},
   "source": [
    "#### 基本数组统计方法"
   ]
  },
  {
   "cell_type": "markdown",
   "metadata": {},
   "source": [
    "|方法| 说明|\n",
    "|---|----|\n",
    "|sum|对某个维度或者全部元素求和|\n",
    "|mean|算术平均数，零长度的数组mean为NaN|\n",
    "|std、var|标准差和方差，自由度可调，默认为n|\n",
    "|min、max|最大，最小值|\n",
    "|argmin、argmax|最大，最小值的索引|\n",
    "|cumsum|累加|\n",
    "|cumprod|累积|"
   ]
  },
  {
   "cell_type": "markdown",
   "metadata": {},
   "source": [
    "#### 数组数学方法"
   ]
  },
  {
   "cell_type": "markdown",
   "metadata": {},
   "source": [
    "|一元函数|说明|\n",
    "|----|---|\n",
    "|abs、fabs|计算整数、浮点数或复数的绝对值，对于非复数值，可以使用更快的fabs|\n",
    "|sqrt|计算各元素的平方根|\n",
    "|square|计算各元素的平方|\n",
    "|exp|计算各元素的指数e^x|\n",
    "|log、log10、log2、log1p|分别为自然对数(底数为e），底数为10的log，底数为2的log，log(1+x)|\n",
    "|sign|计算各元素的正负号，1-整数，0-零，-1-负数|\n",
    "|ceil|计算各元素的ceiling值，即大于等于该值的最小整数|\n",
    "|floor|计算各元素的floor值，即小于等于该值的最大整数|\n",
    "|rint|将各元素值四舍五入到最接近的整数，保留dtype|\n",
    "|modf|将数组的小数和整数部分以两个独立数组的形式放回|\n",
    "|isnan|返回一个表示“NaN\"的布尔型数组|\n",
    "|isfinite、isinf|分别返回一个表示”哪些元素是有穷的（非inf，非NaN）“或”哪些元素是无穷的”的布尔型数组|\n",
    "|cos、cosh、sin、sinh、tan、tanh|普通型和双曲型三角函数|\n",
    "|arccos、arccosh、arcsin、arcsinh、arctan、arctanh|反三角函数|\n",
    "|logical——not|计算各元素not x 的真值，相当于-arr|"
   ]
  },
  {
   "cell_type": "markdown",
   "metadata": {},
   "source": [
    "|二元函数|说明|\n",
    "|-------|----|\n",
    "|add|将数组中对应的元素相加|\n",
    "|subtract|从第一个数组中减去第二个数组中的元素|\n",
    "|multiply|数组元素相乘|\n",
    "|divide、floor_divide|除法或向下圆整除法（丢弃余数）|\n",
    "|power| A^B  |\n",
    "|maximum、fmax| 元素级的最大值计算。fmax将忽略NaN|\n",
    "|minimum、fmin| 元素级的最小值计算。fmin将忽略NaN|\n",
    "|mod|元素级的求模计算，余数|\n",
    "|copysign|将第二个数组中的值得符号复制给第一个数组中的值|\n",
    "|greater、greater_equal、less、less_equal、equal、not_equal|执行元素级的比较运算，最终产生布尔型数组。相当于 > >= < <= == !=|\n",
    "|logical_and、logical_or、logical_xor|执行元素级的真值逻辑运算，相当于 & \\| ^"
   ]
  },
  {
   "cell_type": "code",
   "execution_count": 58,
   "metadata": {
    "ExecuteTime": {
     "end_time": "2019-05-15T06:48:57.713897Z",
     "start_time": "2019-05-15T06:48:57.706957Z"
    }
   },
   "outputs": [
    {
     "data": {
      "text/plain": [
       "array([[0.23706923, 0.96483428, 0.89969721],\n",
       "       [0.48569829, 0.13948142, 0.80485564],\n",
       "       [0.60299866, 0.88519904, 0.93543622]])"
      ]
     },
     "execution_count": 58,
     "metadata": {},
     "output_type": "execute_result"
    }
   ],
   "source": [
    "a"
   ]
  },
  {
   "cell_type": "code",
   "execution_count": 234,
   "metadata": {
    "ExecuteTime": {
     "end_time": "2019-05-14T08:04:22.672304Z",
     "start_time": "2019-05-14T08:04:22.658806Z"
    }
   },
   "outputs": [
    {
     "data": {
      "text/plain": [
       "array([[0.32002912, 0.56366872, 0.81669772],\n",
       "       [0.63948777, 0.57625867, 0.53752319],\n",
       "       [0.93733098, 0.21843351, 0.36244459]])"
      ]
     },
     "execution_count": 234,
     "metadata": {},
     "output_type": "execute_result"
    }
   ],
   "source": [
    "b"
   ]
  },
  {
   "cell_type": "code",
   "execution_count": 235,
   "metadata": {
    "ExecuteTime": {
     "end_time": "2019-05-14T08:04:22.690620Z",
     "start_time": "2019-05-14T08:04:22.677755Z"
    }
   },
   "outputs": [
    {
     "data": {
      "text/plain": [
       "array([[1.32002912, 2.56366872, 0.81669772],\n",
       "       [0.63948777, 0.57625867, 0.53752319],\n",
       "       [0.93733098, 0.21843351, 0.36244459]])"
      ]
     },
     "execution_count": 235,
     "metadata": {},
     "output_type": "execute_result"
    }
   ],
   "source": [
    "a + b"
   ]
  },
  {
   "cell_type": "code",
   "execution_count": 236,
   "metadata": {
    "ExecuteTime": {
     "end_time": "2019-05-14T08:04:22.715234Z",
     "start_time": "2019-05-14T08:04:22.698729Z"
    }
   },
   "outputs": [
    {
     "data": {
      "text/plain": [
       "array([[ 0.67997088,  1.43633128, -0.81669772],\n",
       "       [-0.63948777, -0.57625867, -0.53752319],\n",
       "       [-0.93733098, -0.21843351, -0.36244459]])"
      ]
     },
     "execution_count": 236,
     "metadata": {},
     "output_type": "execute_result"
    }
   ],
   "source": [
    "a - b"
   ]
  },
  {
   "cell_type": "code",
   "execution_count": 237,
   "metadata": {
    "ExecuteTime": {
     "end_time": "2019-05-14T08:04:22.747056Z",
     "start_time": "2019-05-14T08:04:22.726574Z"
    }
   },
   "outputs": [
    {
     "data": {
      "text/plain": [
       "array([[0.32002912, 1.12733744, 0.        ],\n",
       "       [0.        , 0.        , 0.        ],\n",
       "       [0.        , 0.        , 0.        ]])"
      ]
     },
     "execution_count": 237,
     "metadata": {},
     "output_type": "execute_result"
    }
   ],
   "source": [
    "a * b"
   ]
  },
  {
   "cell_type": "code",
   "execution_count": 238,
   "metadata": {
    "ExecuteTime": {
     "end_time": "2019-05-14T08:04:22.773663Z",
     "start_time": "2019-05-14T08:04:22.763138Z"
    }
   },
   "outputs": [
    {
     "data": {
      "text/plain": [
       "array([[3.12471565, 3.54818341, 0.        ],\n",
       "       [0.        , 0.        , 0.        ],\n",
       "       [0.        , 0.        , 0.        ]])"
      ]
     },
     "execution_count": 238,
     "metadata": {},
     "output_type": "execute_result"
    }
   ],
   "source": [
    "a / b"
   ]
  },
  {
   "cell_type": "code",
   "execution_count": 275,
   "metadata": {
    "ExecuteTime": {
     "end_time": "2019-05-17T01:30:10.245210Z",
     "start_time": "2019-05-17T01:30:10.234209Z"
    }
   },
   "outputs": [
    {
     "data": {
      "text/plain": [
       "array([[False, False, False],\n",
       "       [False, False, False],\n",
       "       [False, False, False]])"
      ]
     },
     "execution_count": 275,
     "metadata": {},
     "output_type": "execute_result"
    }
   ],
   "source": [
    "b == c"
   ]
  },
  {
   "cell_type": "code",
   "execution_count": 239,
   "metadata": {
    "ExecuteTime": {
     "end_time": "2019-05-14T08:04:22.798112Z",
     "start_time": "2019-05-14T08:04:22.780056Z"
    }
   },
   "outputs": [
    {
     "data": {
      "text/plain": [
       "3"
      ]
     },
     "execution_count": 239,
     "metadata": {},
     "output_type": "execute_result"
    },
    {
     "data": {
      "text/plain": [
       "array([1, 2, 0])"
      ]
     },
     "execution_count": 239,
     "metadata": {},
     "output_type": "execute_result"
    },
    {
     "data": {
      "text/plain": [
       "array([3, 0, 0])"
      ]
     },
     "execution_count": 239,
     "metadata": {},
     "output_type": "execute_result"
    }
   ],
   "source": [
    "np.sum(a)\n",
    "np.sum(a,axis=0)\n",
    "np.sum(a,axis=1)"
   ]
  },
  {
   "cell_type": "code",
   "execution_count": 73,
   "metadata": {
    "ExecuteTime": {
     "end_time": "2019-05-15T07:09:29.270412Z",
     "start_time": "2019-05-15T07:09:29.260939Z"
    }
   },
   "outputs": [
    {
     "data": {
      "text/plain": [
       "array([ 0,  1,  3,  6, 10, 15, 21, 28, 36, 45])"
      ]
     },
     "execution_count": 73,
     "metadata": {},
     "output_type": "execute_result"
    },
    {
     "data": {
      "text/plain": [
       "array([0, 0, 0, 0, 0, 0, 0, 0, 0, 0])"
      ]
     },
     "execution_count": 73,
     "metadata": {},
     "output_type": "execute_result"
    }
   ],
   "source": [
    "np.cumsum(a) #累加结果的中间值\n",
    "np.cumprod(a) #累乘结果的中间值"
   ]
  },
  {
   "cell_type": "code",
   "execution_count": 240,
   "metadata": {
    "ExecuteTime": {
     "end_time": "2019-05-14T08:04:22.820249Z",
     "start_time": "2019-05-14T08:04:22.801770Z"
    }
   },
   "outputs": [
    {
     "data": {
      "text/plain": [
       "0.3333333333333333"
      ]
     },
     "execution_count": 240,
     "metadata": {},
     "output_type": "execute_result"
    },
    {
     "data": {
      "text/plain": [
       "array([0.33333333, 0.66666667, 0.        ])"
      ]
     },
     "execution_count": 240,
     "metadata": {},
     "output_type": "execute_result"
    },
    {
     "data": {
      "text/plain": [
       "array([1., 0., 0.])"
      ]
     },
     "execution_count": 240,
     "metadata": {},
     "output_type": "execute_result"
    }
   ],
   "source": [
    "np.mean(a)\n",
    "np.mean(a,axis=0)\n",
    "np.mean(a,axis=1)"
   ]
  },
  {
   "cell_type": "code",
   "execution_count": 241,
   "metadata": {
    "ExecuteTime": {
     "end_time": "2019-05-14T08:04:22.843826Z",
     "start_time": "2019-05-14T08:04:22.824651Z"
    },
    "scrolled": true
   },
   "outputs": [
    {
     "data": {
      "text/plain": [
       "array([[1.59900465, 1.71618606, 1.8917441 ],\n",
       "       [0.        , 0.        , 0.        ],\n",
       "       [0.        , 0.        , 0.        ]])"
      ]
     },
     "execution_count": 241,
     "metadata": {},
     "output_type": "execute_result"
    },
    {
     "data": {
      "text/plain": [
       "array([[1.59900465, 1.71618606, 1.8917441 ],\n",
       "       [0.        , 0.        , 0.        ],\n",
       "       [0.        , 0.        , 0.        ]])"
      ]
     },
     "execution_count": 241,
     "metadata": {},
     "output_type": "execute_result"
    },
    {
     "data": {
      "text/plain": [
       "array([[1.59900465, 1.71618606, 1.8917441 ],\n",
       "       [0.        , 0.        , 0.        ],\n",
       "       [0.        , 0.        , 0.        ]])"
      ]
     },
     "execution_count": 241,
     "metadata": {},
     "output_type": "execute_result"
    }
   ],
   "source": [
    "a.dot(b)\n",
    "np.dot(a,b)\n",
    "np.matmul(a,b) #有特别之处，在高纬度运算时结果会不一致"
   ]
  },
  {
   "cell_type": "code",
   "execution_count": 54,
   "metadata": {
    "ExecuteTime": {
     "end_time": "2019-05-15T06:23:53.577438Z",
     "start_time": "2019-05-15T06:23:53.559200Z"
    }
   },
   "outputs": [
    {
     "data": {
      "text/plain": [
       "0.9648342801030158"
      ]
     },
     "execution_count": 54,
     "metadata": {},
     "output_type": "execute_result"
    },
    {
     "data": {
      "text/plain": [
       "0.13948141564714134"
      ]
     },
     "execution_count": 54,
     "metadata": {},
     "output_type": "execute_result"
    },
    {
     "data": {
      "text/plain": [
       "array([[0.23706923, 0.96483428, 0.89969721],\n",
       "       [0.99591064, 0.14581734, 0.80485564],\n",
       "       [0.89582214, 0.88519904, 0.93543622]])"
      ]
     },
     "execution_count": 54,
     "metadata": {},
     "output_type": "execute_result"
    },
    {
     "data": {
      "text/plain": [
       "array([[0.15889385, 0.16727726, 0.70511844],\n",
       "       [0.48569829, 0.13948142, 0.11473916],\n",
       "       [0.60299866, 0.85587406, 0.28041087]])"
      ]
     },
     "execution_count": 54,
     "metadata": {},
     "output_type": "execute_result"
    }
   ],
   "source": [
    "np.max(a)\n",
    "np.min(a)\n",
    "\n",
    "np.maximum(a,b) #计算a,b中对应于素最大的\n",
    "np.minimum(a,b)"
   ]
  },
  {
   "cell_type": "code",
   "execution_count": 57,
   "metadata": {
    "ExecuteTime": {
     "end_time": "2019-05-15T06:25:35.465266Z",
     "start_time": "2019-05-15T06:25:35.457010Z"
    }
   },
   "outputs": [
    {
     "data": {
      "text/plain": [
       "array([[0.23706923, 0.96483428, 0.89969721],\n",
       "       [0.48569829, 0.13948142, 0.80485564],\n",
       "       [0.60299866, 0.88519904, 0.93543622]])"
      ]
     },
     "execution_count": 57,
     "metadata": {},
     "output_type": "execute_result"
    },
    {
     "data": {
      "text/plain": [
       "array([[0., 0., 0.],\n",
       "       [0., 0., 0.],\n",
       "       [0., 0., 0.]])"
      ]
     },
     "execution_count": 57,
     "metadata": {},
     "output_type": "execute_result"
    }
   ],
   "source": [
    "x , y = np.modf(a) #返回小数和整数部分\n",
    "x\n",
    "y"
   ]
  },
  {
   "cell_type": "markdown",
   "metadata": {},
   "source": [
    "### 广播broadcasting"
   ]
  },
  {
   "cell_type": "code",
   "execution_count": 242,
   "metadata": {
    "ExecuteTime": {
     "end_time": "2019-05-14T08:04:22.855986Z",
     "start_time": "2019-05-14T08:04:22.847037Z"
    }
   },
   "outputs": [
    {
     "data": {
      "text/plain": [
       "array([[3, 4, 2],\n",
       "       [2, 2, 2],\n",
       "       [2, 2, 2]])"
      ]
     },
     "execution_count": 242,
     "metadata": {},
     "output_type": "execute_result"
    }
   ],
   "source": [
    "a + 2  "
   ]
  },
  {
   "cell_type": "code",
   "execution_count": 243,
   "metadata": {
    "ExecuteTime": {
     "end_time": "2019-05-14T08:04:22.872814Z",
     "start_time": "2019-05-14T08:04:22.860645Z"
    }
   },
   "outputs": [
    {
     "data": {
      "text/plain": [
       "array([[1.3690232 , 2.87602786, 0.27300495],\n",
       "       [0.3690232 , 0.87602786, 0.27300495],\n",
       "       [0.3690232 , 0.87602786, 0.27300495]])"
      ]
     },
     "execution_count": 243,
     "metadata": {},
     "output_type": "execute_result"
    }
   ],
   "source": [
    "f = np.random.random((1,3))\n",
    "\n",
    "a + f"
   ]
  },
  {
   "cell_type": "markdown",
   "metadata": {},
   "source": [
    "当操作两个array时，numpy会逐个dimension比较它们的shape，在下述情况下，两arrays会兼容和输出broadcasting结果：<br>\n",
    "\n",
    "1. 相等\n",
    "2. 其中一个为1，（进而可进行拷贝拓展已至，shape匹配）\n",
    "3. 当两个ndarray的维度不完全相同的时候，rank较小的那个ndarray会被自动在前面加上一个一维维度，直到与另一个ndarray rank相同再检查是否匹配\n",
    "\n",
    "比如求和的时候有：\n",
    "```python\n",
    "Image (3d array):  256 x 256 x 3\n",
    "Scale (1d array):              3\n",
    "Result (3d array): 256 x 256 x 3\n",
    "\n",
    "A      (4d array):  8 x 1 x 6 x 1\n",
    "B      (3d array):      7 x 1 x 5\n",
    "Result (4d array):  8 x 7 x 6 x 5\n",
    "\n",
    "A      (2d array):  5 x 4\n",
    "B      (1d array):      1\n",
    "Result (2d array):  5 x 4\n",
    "\n",
    "A      (2d array):  15 x 3 x 5\n",
    "B      (1d array):  15 x 1 x 5\n",
    "Result (2d array):  15 x 3 x 5\n",
    "```"
   ]
  },
  {
   "cell_type": "markdown",
   "metadata": {},
   "source": [
    "![](https://ws3.sinaimg.cn/large/006tNc79gy1g30ufu81a5j30c0090mxc.jpg)"
   ]
  },
  {
   "cell_type": "markdown",
   "metadata": {},
   "source": [
    "## Numpy 进阶操作"
   ]
  },
  {
   "cell_type": "markdown",
   "metadata": {},
   "source": [
    "### 随机漫步"
   ]
  },
  {
   "cell_type": "code",
   "execution_count": 297,
   "metadata": {
    "ExecuteTime": {
     "end_time": "2019-05-17T06:02:38.747862Z",
     "start_time": "2019-05-17T06:02:38.402033Z"
    },
    "scrolled": true
   },
   "outputs": [
    {
     "data": {
      "text/plain": [
       "[<matplotlib.lines.Line2D at 0x12c6b8470>]"
      ]
     },
     "execution_count": 297,
     "metadata": {},
     "output_type": "execute_result"
    },
    {
     "data": {
      "image/png": "[encoded data removed]",
      "text/plain": [
       "<Figure size 432x288 with 1 Axes>"
      ]
     },
     "metadata": {
      "needs_background": "light"
     },
     "output_type": "display_data"
    }
   ],
   "source": [
    "# 纯python 实现随机漫步\n",
    "\n",
    "import random\n",
    "import matplotlib.pyplot as plt\n",
    "%matplotlib inline \n",
    "\n",
    "position = 0\n",
    "walk = [position]\n",
    "steps = 10000 \n",
    "\n",
    "for i in range(steps):\n",
    "    step = 1 if random.randint(0,1) else -1\n",
    "    position += step\n",
    "    walk.append(position)\n",
    "    \n",
    "plt.plot(walk)"
   ]
  },
  {
   "cell_type": "code",
   "execution_count": 308,
   "metadata": {
    "ExecuteTime": {
     "end_time": "2019-05-17T06:07:41.535381Z",
     "start_time": "2019-05-17T06:07:41.306732Z"
    },
    "scrolled": true
   },
   "outputs": [
    {
     "data": {
      "text/plain": [
       "-50"
      ]
     },
     "execution_count": 308,
     "metadata": {},
     "output_type": "execute_result"
    },
    {
     "data": {
      "text/plain": [
       "130"
      ]
     },
     "execution_count": 308,
     "metadata": {},
     "output_type": "execute_result"
    },
    {
     "data": {
      "text/plain": [
       "[<matplotlib.lines.Line2D at 0x12ccc8cf8>]"
      ]
     },
     "execution_count": 308,
     "metadata": {},
     "output_type": "execute_result"
    },
    {
     "data": {
      "text/plain": [
       "63"
      ]
     },
     "execution_count": 308,
     "metadata": {},
     "output_type": "execute_result"
    },
    {
     "data": {
      "image/png": "[encoded data removed]",
      "text/plain": [
       "<Figure size 432x288 with 1 Axes>"
      ]
     },
     "metadata": {
      "needs_background": "light"
     },
     "output_type": "display_data"
    }
   ],
   "source": [
    "# 使用numpy 实现随机漫步\n",
    "\n",
    "n_steps = 10000 \n",
    "\n",
    "draws = np.random.randint(0,2,size=n_steps)\n",
    "\n",
    "steps = np.where(draws > 0,1,-1)\n",
    "\n",
    "walk = steps.cumsum()\n",
    "\n",
    "walk.min()\n",
    "walk.max()\n",
    "plt.plot(walk)\n",
    "\n",
    "(np.abs(walk) >= 10).argmax() # 首次达到某个特定值的时间"
   ]
  },
  {
   "cell_type": "markdown",
   "metadata": {},
   "source": [
    "### np.where()"
   ]
  },
  {
   "cell_type": "code",
   "execution_count": 67,
   "metadata": {
    "ExecuteTime": {
     "end_time": "2019-05-15T07:06:51.447890Z",
     "start_time": "2019-05-15T07:06:51.436647Z"
    }
   },
   "outputs": [
    {
     "data": {
      "text/plain": [
       "[0, 11, 2, 13, 4, 15, 6, 17, 8, 19]"
      ]
     },
     "execution_count": 67,
     "metadata": {},
     "output_type": "execute_result"
    },
    {
     "data": {
      "text/plain": [
       "array([ 0, 11,  2, 13,  4, 15,  6, 17,  8, 19])"
      ]
     },
     "execution_count": 67,
     "metadata": {},
     "output_type": "execute_result"
    }
   ],
   "source": [
    "a = np.arange(10)\n",
    "b = np.arange(10,20,1)\n",
    "c = [True,False,True,False,True,False,True,False,True,False]\n",
    "\n",
    "[(X if C else Y) for X,Y,C in zip(a,b,c)]\n",
    "\n",
    "\n",
    "np.where(c,a,b)"
   ]
  },
  {
   "cell_type": "code",
   "execution_count": 271,
   "metadata": {
    "ExecuteTime": {
     "end_time": "2019-05-17T01:24:01.081146Z",
     "start_time": "2019-05-17T01:24:01.063267Z"
    }
   },
   "outputs": [
    {
     "data": {
      "text/plain": [
       "array([[ 0.65637149, -0.78515344,  0.53550009],\n",
       "       [ 0.0647879 , -1.09292209, -1.2351313 ],\n",
       "       [-0.90990683,  0.56305496, -0.8610647 ]])"
      ]
     },
     "execution_count": 271,
     "metadata": {},
     "output_type": "execute_result"
    },
    {
     "data": {
      "text/plain": [
       "(array([0, 0, 1, 2]), array([0, 2, 0, 1]))"
      ]
     },
     "execution_count": 271,
     "metadata": {},
     "output_type": "execute_result"
    },
    {
     "data": {
      "text/plain": [
       "array([[ 2, -3,  2],\n",
       "       [ 2, -3, -3],\n",
       "       [-3,  2, -3]])"
      ]
     },
     "execution_count": 271,
     "metadata": {},
     "output_type": "execute_result"
    }
   ],
   "source": [
    "arr = np.random.randn(3,3)\n",
    "arr\n",
    "\n",
    "np.where(arr > 0)\n",
    "\n",
    "np.where(arr > 0,2,-3)"
   ]
  },
  {
   "cell_type": "markdown",
   "metadata": {},
   "source": [
    "### 布尔型数组方法"
   ]
  },
  {
   "cell_type": "code",
   "execution_count": 90,
   "metadata": {
    "ExecuteTime": {
     "end_time": "2019-05-15T07:22:39.643981Z",
     "start_time": "2019-05-15T07:22:39.632007Z"
    }
   },
   "outputs": [
    {
     "data": {
      "text/plain": [
       "6"
      ]
     },
     "execution_count": 90,
     "metadata": {},
     "output_type": "execute_result"
    },
    {
     "data": {
      "text/plain": [
       "True"
      ]
     },
     "execution_count": 90,
     "metadata": {},
     "output_type": "execute_result"
    },
    {
     "data": {
      "text/plain": [
       "False"
      ]
     },
     "execution_count": 90,
     "metadata": {},
     "output_type": "execute_result"
    }
   ],
   "source": [
    "(a > 3).sum() #True 为1  False 为0\n",
    "(a > 3).any() #是否存在True\n",
    "(a > 3).all() #是否全部为True\n",
    "\n",
    "# 非布尔类型也可以使用，非零元素被当做True"
   ]
  },
  {
   "cell_type": "code",
   "execution_count": 282,
   "metadata": {
    "ExecuteTime": {
     "end_time": "2019-05-17T01:47:35.878488Z",
     "start_time": "2019-05-17T01:47:35.872566Z"
    }
   },
   "outputs": [
    {
     "data": {
      "text/plain": [
       "array([3, 4, 3, 4, 3, 4, 3, 4])"
      ]
     },
     "execution_count": 282,
     "metadata": {},
     "output_type": "execute_result"
    }
   ],
   "source": [
    "x[x>2]"
   ]
  },
  {
   "cell_type": "markdown",
   "metadata": {},
   "source": [
    "### 排序"
   ]
  },
  {
   "cell_type": "markdown",
   "metadata": {},
   "source": [
    "|种类 | 速度 | 最坏情况|工作空间|稳定性|\n",
    "| :- | : - : |: - : | : - : | : - : |\n",
    "|'quicksort'(快速排序）|1|O（n^2)|0|否|\n",
    "|’mergesort'(归并排序）|2|O(n* log(n))|~n/2|是|\n",
    "|'heapsort'(堆排序)|3|O(n* log(n))|0|否|"
   ]
  },
  {
   "cell_type": "code",
   "execution_count": 84,
   "metadata": {
    "ExecuteTime": {
     "end_time": "2019-05-15T07:19:51.207443Z",
     "start_time": "2019-05-15T07:19:51.200771Z"
    }
   },
   "outputs": [
    {
     "data": {
      "text/plain": [
       "array([[0.35990782, 0.11470136, 0.94409111],\n",
       "       [0.41974607, 0.32149721, 0.94629759],\n",
       "       [0.33805583, 0.99529904, 0.21444868]])"
      ]
     },
     "execution_count": 84,
     "metadata": {},
     "output_type": "execute_result"
    }
   ],
   "source": [
    "kk = np.random.random((3,3))\n",
    "kk"
   ]
  },
  {
   "cell_type": "code",
   "execution_count": 86,
   "metadata": {
    "ExecuteTime": {
     "end_time": "2019-05-15T07:20:03.226649Z",
     "start_time": "2019-05-15T07:20:03.220819Z"
    }
   },
   "outputs": [
    {
     "data": {
      "text/plain": [
       "array([[0.11470136, 0.35990782, 0.94409111],\n",
       "       [0.32149721, 0.41974607, 0.94629759],\n",
       "       [0.21444868, 0.33805583, 0.99529904]])"
      ]
     },
     "execution_count": 86,
     "metadata": {},
     "output_type": "execute_result"
    }
   ],
   "source": [
    "kk.sort() #a.sort(axis=-1, kind='quicksort', order=None)\n",
    "#numpy.sort(a,axis,kind,order)\n",
    "# a 要排序的数组\n",
    "# axis 排序数组的轴，若没有数组会被展开，沿着最后的轴排序\n",
    "# kind 默认为’quicksort'（快速排序）\n",
    "# order 如果数组包含字段，则是要排序的字段\n",
    "kk"
   ]
  },
  {
   "cell_type": "markdown",
   "metadata": {},
   "source": [
    "* numpy.argsort\n",
    "* 此函数对输入数组沿给定轴执行间接排序，并使用指定排序类型返回数据的索引数组，这个索引数组用于构造排序后的数组。\n",
    "\n",
    "\n",
    "* numpy.lexsort()\n",
    "* 函数使用键序列执行间接排序。键可以看作是电子表格中的一列。该函数返回一个索引数组，使用它可以获得排序数据。注意，最后一个键恰好是sort的主键。"
   ]
  },
  {
   "cell_type": "code",
   "execution_count": 286,
   "metadata": {
    "ExecuteTime": {
     "end_time": "2019-05-17T01:53:24.023088Z",
     "start_time": "2019-05-17T01:53:24.014741Z"
    }
   },
   "outputs": [
    {
     "data": {
      "text/plain": [
       "array([1, 2, 0])"
      ]
     },
     "execution_count": 286,
     "metadata": {},
     "output_type": "execute_result"
    }
   ],
   "source": [
    "x = np.array([3,1,2])\n",
    "y = np.argsort(x)  # 返回为排序的索引值\n",
    "y"
   ]
  },
  {
   "cell_type": "code",
   "execution_count": 287,
   "metadata": {
    "ExecuteTime": {
     "end_time": "2019-05-17T01:54:25.364086Z",
     "start_time": "2019-05-17T01:54:25.341720Z"
    }
   },
   "outputs": [
    {
     "name": "stdout",
     "output_type": "stream",
     "text": [
      "调用 lexsort() 函数：\n",
      "[3 1 0 2]\n",
      "\n",
      "\n",
      "使用这个索引来获取排序后的数据：\n",
      "['amar,f.y.', 'anil,s.y.', 'raju,f.y.', 'ravi,s.y.']\n"
     ]
    }
   ],
   "source": [
    "nm = ('raju','anil','ravi','amar')\n",
    "dv = ('f.y.','s.y.','s.y.','f.y.')\n",
    "ind = np.lexsort((dv,nm))\n",
    "print ('调用 lexsort() 函数：' ) \n",
    "print (ind) \n",
    "print ('\\n')  \n",
    "print ('使用这个索引来获取排序后的数据：')  \n",
    "print([nm[i] + \",\" + dv[i] for i in ind])"
   ]
  },
  {
   "cell_type": "markdown",
   "metadata": {},
   "source": [
    "### 唯一化以及其他的集合逻辑"
   ]
  },
  {
   "cell_type": "markdown",
   "metadata": {},
   "source": [
    "#### np.unique() -- 返回数组中的唯一值，并返回已排序的结果"
   ]
  },
  {
   "cell_type": "code",
   "execution_count": 91,
   "metadata": {
    "ExecuteTime": {
     "end_time": "2019-05-15T07:28:10.330932Z",
     "start_time": "2019-05-15T07:28:10.324455Z"
    }
   },
   "outputs": [
    {
     "data": {
      "text/plain": [
       "array([21, 22, 23, 24])"
      ]
     },
     "execution_count": 91,
     "metadata": {},
     "output_type": "execute_result"
    }
   ],
   "source": [
    "age = np.array([22,23,21,22,24])\n",
    "\n",
    "np.unique(age)"
   ]
  },
  {
   "cell_type": "markdown",
   "metadata": {},
   "source": [
    "#### np.in1d() -- 数组中的值在另一个数组中的成员资格，返回布尔型数组"
   ]
  },
  {
   "cell_type": "code",
   "execution_count": 93,
   "metadata": {
    "ExecuteTime": {
     "end_time": "2019-05-15T07:30:04.637217Z",
     "start_time": "2019-05-15T07:30:04.630207Z"
    }
   },
   "outputs": [
    {
     "data": {
      "text/plain": [
       "array([ True, False, False,  True, False])"
      ]
     },
     "execution_count": 93,
     "metadata": {},
     "output_type": "execute_result"
    }
   ],
   "source": [
    "np.in1d(age,[18,22,25]) #age是否在后面的列表内"
   ]
  },
  {
   "cell_type": "markdown",
   "metadata": {},
   "source": [
    "#### 数组的集合运算"
   ]
  },
  {
   "cell_type": "markdown",
   "metadata": {},
   "source": [
    "|方法|说明|\n",
    "|----|----|\n",
    "|unique(x)|计算x中的唯一元素，返回有序结果|\n",
    "|intersect1d(x,y)|计算x，y公共元素，返回有序结果|\n",
    "|union1d(x,y)|计算x，y的并集，返回有序结果|\n",
    "|in1d(x,y)|得到一个表示“x的元素是否在y内的”布尔型数组|\n",
    "|setdiff1d(x,y)|集合的差，即元素在x中且不在y中|\n",
    "|setxor1d(x,y)|集合的对称差，即存在于一个数组中但不同时存在于两个数组中的元素|"
   ]
  },
  {
   "cell_type": "markdown",
   "metadata": {},
   "source": [
    "## Numpy的文件输入输出"
   ]
  },
  {
   "cell_type": "markdown",
   "metadata": {},
   "source": [
    "### np.load()  & np.save()"
   ]
  },
  {
   "cell_type": "markdown",
   "metadata": {},
   "source": [
    "> 默认情况下，数组以为压缩的原始二进制格式保存在扩展名为 .npy 的文件中的"
   ]
  },
  {
   "cell_type": "code",
   "execution_count": 94,
   "metadata": {
    "ExecuteTime": {
     "end_time": "2019-05-15T07:36:51.407450Z",
     "start_time": "2019-05-15T07:36:51.399586Z"
    }
   },
   "outputs": [],
   "source": [
    "ar = np.random.random((3,3))\n",
    "np.save(\"demo_save_arr\",ar)"
   ]
  },
  {
   "cell_type": "code",
   "execution_count": 97,
   "metadata": {
    "ExecuteTime": {
     "end_time": "2019-05-15T07:38:06.606124Z",
     "start_time": "2019-05-15T07:38:06.596441Z"
    }
   },
   "outputs": [
    {
     "data": {
      "text/plain": [
       "array([[0.92804367, 0.68873636, 0.85698668],\n",
       "       [0.39545598, 0.82127282, 0.10792595],\n",
       "       [0.60877601, 0.35316161, 0.3114116 ]])"
      ]
     },
     "execution_count": 97,
     "metadata": {},
     "output_type": "execute_result"
    }
   ],
   "source": [
    "lr = np.load(\"demo_save_arr.npy\")\n",
    "lr"
   ]
  },
  {
   "cell_type": "markdown",
   "metadata": {},
   "source": [
    "### np.savez() "
   ]
  },
  {
   "cell_type": "code",
   "execution_count": 98,
   "metadata": {
    "ExecuteTime": {
     "end_time": "2019-05-15T07:40:14.041047Z",
     "start_time": "2019-05-15T07:40:14.028203Z"
    }
   },
   "outputs": [],
   "source": [
    "# 将多个数组保存到一个未压缩文件中，将数组以关键字参数的形式传入\n",
    "\n",
    "np.savez(\"demo_savez.npz\",a = ar,b=lr)"
   ]
  },
  {
   "cell_type": "code",
   "execution_count": 100,
   "metadata": {
    "ExecuteTime": {
     "end_time": "2019-05-15T07:41:39.233753Z",
     "start_time": "2019-05-15T07:41:39.225221Z"
    },
    "scrolled": true
   },
   "outputs": [
    {
     "data": {
      "text/plain": [
       "array([[0.92804367, 0.68873636, 0.85698668],\n",
       "       [0.39545598, 0.82127282, 0.10792595],\n",
       "       [0.60877601, 0.35316161, 0.3114116 ]])"
      ]
     },
     "execution_count": 100,
     "metadata": {},
     "output_type": "execute_result"
    }
   ],
   "source": [
    "tt = np.load(\"demo_savez.npz\")\n",
    "\n",
    "tt[\"a\"]\n",
    "\n",
    "#如果将数据压缩，就可以使用np.savez_compressed()"
   ]
  },
  {
   "cell_type": "markdown",
   "metadata": {},
   "source": [
    "# 线性代数相关知识"
   ]
  },
  {
   "cell_type": "markdown",
   "metadata": {},
   "source": [
    "## 矩阵乘法"
   ]
  },
  {
   "cell_type": "code",
   "execution_count": 104,
   "metadata": {
    "ExecuteTime": {
     "end_time": "2019-05-15T07:46:11.099599Z",
     "start_time": "2019-05-15T07:46:11.093147Z"
    }
   },
   "outputs": [
    {
     "data": {
      "text/plain": [
       "array([[-0.66610635, -0.96598844,  1.27432001],\n",
       "       [-1.95196542, -2.68422997,  3.68925131],\n",
       "       [-1.42071134, -1.31803651,  2.48980913]])"
      ]
     },
     "execution_count": 104,
     "metadata": {},
     "output_type": "execute_result"
    }
   ],
   "source": [
    "# (m,n)的矩阵 和 （n,m）的矩阵乘法，得到（m,m）的矩阵，矩阵乘法的要求是，第一个矩阵的列数，等于第二个矩阵的行数\n",
    "\n",
    "a = np.random.randn(3,2)\n",
    "b = np.random.randn(2,3)\n",
    "\n",
    "np.dot(a,b) #a.dot(b)  或者使用 a @ b"
   ]
  },
  {
   "cell_type": "code",
   "execution_count": 106,
   "metadata": {
    "ExecuteTime": {
     "end_time": "2019-05-15T07:47:35.095451Z",
     "start_time": "2019-05-15T07:47:35.087304Z"
    }
   },
   "outputs": [
    {
     "data": {
      "text/plain": [
       "array([[-0.66610635, -0.96598844,  1.27432001],\n",
       "       [-1.95196542, -2.68422997,  3.68925131],\n",
       "       [-1.42071134, -1.31803651,  2.48980913]])"
      ]
     },
     "execution_count": 106,
     "metadata": {},
     "output_type": "execute_result"
    }
   ],
   "source": [
    "a @ b"
   ]
  },
  {
   "cell_type": "code",
   "execution_count": 105,
   "metadata": {
    "ExecuteTime": {
     "end_time": "2019-05-15T07:46:50.217252Z",
     "start_time": "2019-05-15T07:46:50.207314Z"
    }
   },
   "outputs": [
    {
     "data": {
      "text/plain": [
       "array([ 0.61941097,  1.40604856, -0.75140986])"
      ]
     },
     "execution_count": 105,
     "metadata": {},
     "output_type": "execute_result"
    }
   ],
   "source": [
    "np.dot(a,np.ones(2))"
   ]
  },
  {
   "cell_type": "markdown",
   "metadata": {},
   "source": [
    "## 矩阵分解"
   ]
  },
  {
   "cell_type": "code",
   "execution_count": 107,
   "metadata": {
    "ExecuteTime": {
     "end_time": "2019-05-15T07:48:24.434366Z",
     "start_time": "2019-05-15T07:48:24.428646Z"
    }
   },
   "outputs": [],
   "source": [
    "from numpy.linalg import inv,qr"
   ]
  },
  {
   "cell_type": "code",
   "execution_count": 109,
   "metadata": {
    "ExecuteTime": {
     "end_time": "2019-05-15T07:49:04.461802Z",
     "start_time": "2019-05-15T07:49:04.454106Z"
    }
   },
   "outputs": [
    {
     "data": {
      "text/plain": [
       "array([[0.31236013, 0.74936706, 0.50146191],\n",
       "       [0.16407619, 0.52299111, 0.95052532],\n",
       "       [0.53598295, 0.72878733, 0.7687625 ]])"
      ]
     },
     "execution_count": 109,
     "metadata": {},
     "output_type": "execute_result"
    }
   ],
   "source": [
    "X = np.random.random((3,3))\n",
    "X"
   ]
  },
  {
   "cell_type": "code",
   "execution_count": 112,
   "metadata": {
    "ExecuteTime": {
     "end_time": "2019-05-15T07:50:06.275456Z",
     "start_time": "2019-05-15T07:50:06.268429Z"
    },
    "scrolled": true
   },
   "outputs": [
    {
     "data": {
      "text/plain": [
       "array([[0.41176757, 0.71050036, 0.72463888],\n",
       "       [0.71050036, 1.36620165, 1.4331597 ],\n",
       "       [0.72463888, 1.4331597 , 1.74595822]])"
      ]
     },
     "execution_count": 112,
     "metadata": {},
     "output_type": "execute_result"
    }
   ],
   "source": [
    "mat = X.T.dot(X)\n",
    "mat"
   ]
  },
  {
   "cell_type": "code",
   "execution_count": 113,
   "metadata": {
    "ExecuteTime": {
     "end_time": "2019-05-15T07:50:18.142459Z",
     "start_time": "2019-05-15T07:50:18.112394Z"
    }
   },
   "outputs": [
    {
     "data": {
      "text/plain": [
       "array([[ 24.6886684 , -15.04789167,   2.10524106],\n",
       "       [-15.04789167,  14.44046165,  -5.60792362],\n",
       "       [  2.10524106,  -5.60792362,   4.30222815]])"
      ]
     },
     "execution_count": 113,
     "metadata": {},
     "output_type": "execute_result"
    }
   ],
   "source": [
    "inv(mat)"
   ]
  },
  {
   "cell_type": "code",
   "execution_count": 114,
   "metadata": {
    "ExecuteTime": {
     "end_time": "2019-05-15T07:50:41.649821Z",
     "start_time": "2019-05-15T07:50:41.643022Z"
    }
   },
   "outputs": [
    {
     "data": {
      "text/plain": [
       "array([[ 1.00000000e+00, -9.70330790e-16,  3.55925444e-16],\n",
       "       [-9.59698383e-17,  1.00000000e+00,  4.30957981e-16],\n",
       "       [-4.11710895e-16, -4.17194725e-17,  1.00000000e+00]])"
      ]
     },
     "execution_count": 114,
     "metadata": {},
     "output_type": "execute_result"
    }
   ],
   "source": [
    "mat.dot(inv(mat))"
   ]
  },
  {
   "cell_type": "code",
   "execution_count": 115,
   "metadata": {
    "ExecuteTime": {
     "end_time": "2019-05-15T07:51:12.419936Z",
     "start_time": "2019-05-15T07:51:12.399113Z"
    },
    "scrolled": true
   },
   "outputs": [
    {
     "data": {
      "text/plain": [
       "array([[-0.3759745 ,  0.88156503,  0.28545802],\n",
       "       [-0.64873981, -0.03045396, -0.76040069],\n",
       "       [-0.66164933, -0.47107925,  0.58335624]])"
      ]
     },
     "execution_count": 115,
     "metadata": {},
     "output_type": "execute_result"
    },
    {
     "data": {
      "text/plain": [
       "array([[-1.0952008 , -2.10168857, -2.35740557],\n",
       "       [ 0.        , -0.09038577, -0.22731379],\n",
       "       [ 0.        ,  0.        ,  0.13559398]])"
      ]
     },
     "execution_count": 115,
     "metadata": {},
     "output_type": "execute_result"
    }
   ],
   "source": [
    "q,r = qr(mat)\n",
    "q\n",
    "r"
   ]
  },
  {
   "cell_type": "markdown",
   "metadata": {},
   "source": [
    "* 常用的numpy.linalg 函数\n",
    "\n",
    "|函数|说明|\n",
    "|----|---|\n",
    "|diag|以一维数组的形式返回方阵的对角线（或非对角线）元素，或将一维数组转换为方阵（非对角线元素为0）|\n",
    "|dot|矩阵乘法|\n",
    "|trace|计算对角线元素的和|\n",
    "|det|计算矩阵行列式|\n",
    "|eig|计算方阵的本征值和本征向量|\n",
    "|inv|计算方阵的逆|\n",
    "|pinv|计算矩阵的Moore-Penrose伪逆|\n",
    "|qr|计算QR分解|\n",
    "|svd|计算奇异值分解（SVD）|\n",
    "|solve|解线性方程组Ax = b,其中 A 为一个方阵|\n",
    "|lstsq|计算Ax=b 的最小二乘解|"
   ]
  },
  {
   "cell_type": "markdown",
   "metadata": {},
   "source": [
    "## 行列式"
   ]
  }
 ],
 "metadata": {
  "kernelspec": {
   "display_name": "Python 3",
   "language": "python",
   "name": "python3"
  },
  "language_info": {
   "codemirror_mode": {
    "name": "ipython",
    "version": 3
   },
   "file_extension": ".py",
   "mimetype": "text/x-python",
   "name": "python",
   "nbconvert_exporter": "python",
   "pygments_lexer": "ipython3",
   "version": "3.7.2"
  },
  "toc": {
   "base_numbering": 1,
   "nav_menu": {},
   "number_sections": true,
   "sideBar": true,
   "skip_h1_title": false,
   "title_cell": "Table of Contents",
   "title_sidebar": "Contents",
   "toc_cell": false,
   "toc_position": {
    "height": "calc(100% - 180px)",
    "left": "10px",
    "top": "150px",
    "width": "384px"
   },
   "toc_section_display": true,
   "toc_window_display": true
  }
 },
 "nbformat": 4,
 "nbformat_minor": 2
}
