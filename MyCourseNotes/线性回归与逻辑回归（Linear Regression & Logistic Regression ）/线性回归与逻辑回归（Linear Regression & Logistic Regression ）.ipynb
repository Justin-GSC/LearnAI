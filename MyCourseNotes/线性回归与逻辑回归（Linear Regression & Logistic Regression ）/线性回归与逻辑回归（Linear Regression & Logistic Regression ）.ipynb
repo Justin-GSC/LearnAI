{
 "cells": [
  {
   "cell_type": "markdown",
   "metadata": {},
   "source": [
    "# 线性回归与逻辑回归（Linear Regression & Logistic Regression ）"
   ]
  },
  {
   "cell_type": "markdown",
   "metadata": {},
   "source": [
    "* 线性回归 是 回归\n",
    "* 逻辑回归 是 分类"
   ]
  },
  {
   "cell_type": "markdown",
   "metadata": {},
   "source": [
    "## Linear Gression---"
   ]
  },
  {
   "cell_type": "markdown",
   "metadata": {},
   "source": [
    "* Hypothesis Function\n",
    "\n",
    "    $h_\\theta(x) = \\Theta^T x $\n",
    "\n",
    "\n",
    "* Cost Function\n",
    "\n",
    "    $Cost[ h_\\theta(x) , y] = [h_\\theta(x) - y ]^2$\n",
    "\n",
    "\n",
    "* Loss Function\n",
    "\n",
    "    $J(\\Theta) = \\frac{1}{2m}\\sum_{i=1}^mCost[h_\\theta(x^i),y^i]$\n",
    "\n",
    "\n",
    "* Regularization \n",
    "\n",
    "    $J(\\Theta) = \\frac{1}{2m}\\sum_{i=1}^mCost[h_\\theta(x^i),y^i] + \\frac{\\lambda}{2m}\\sum_{i=1}^{n}\\Theta_j^2$\n",
    "\n",
    "    $\\Theta_j := \\Theta_j - \\alpha\\frac{\\delta}{\\delta\\Theta_j}J(\\Theta)$\n",
    "\n",
    "\n",
    "* Gradient Descent\n",
    "\n",
    "    对J进行迭代，收敛到一定程度，得到Θ，为最优解\n",
    "\n",
    "    $GD(X,Y,\\Theta,\\alpha , n_{repeat-number},*\\lambda)$\n",
    "\n",
    "    J_history 记录每次迭代的损失函数值\n",
    "\n",
    "    然后模型训练后得到 参数Θ ，以及所有的对应参数的损失函数值\n",
    "\n",
    "    看损失函数值是否收敛\n",
    "\n",
    "\n",
    "* Predict\n",
    "    将得到的参数，带入到假设函数中，求预测值\n"
   ]
  },
  {
   "cell_type": "markdown",
   "metadata": {},
   "source": [
    "## 手推线性回归代码--"
   ]
  },
  {
   "cell_type": "code",
   "execution_count": 1,
   "metadata": {},
   "outputs": [],
   "source": [
    "# 加载相关工具库\n",
    "import numpy as np\n",
    "import matplotlib.pyplot as plt"
   ]
  },
  {
   "cell_type": "code",
   "execution_count": 2,
   "metadata": {},
   "outputs": [
    {
     "data": {
      "text/plain": [
       "array([[ 6.1101, 17.592 ],\n",
       "       [ 5.5277,  9.1302],\n",
       "       [ 8.5186, 13.662 ],\n",
       "       [ 7.0032, 11.854 ],\n",
       "       [ 5.8598,  6.8233]])"
      ]
     },
     "execution_count": 2,
     "metadata": {},
     "output_type": "execute_result"
    }
   ],
   "source": [
    "# 读入数据\n",
    "data = np.loadtxt(\"linear_regression_data1.txt\",delimiter = \",\")\n",
    "data[:5]"
   ]
  },
  {
   "cell_type": "code",
   "execution_count": 3,
   "metadata": {},
   "outputs": [],
   "source": [
    "# 数据处理\n",
    "x = np.c_[np.ones(data.shape[0]),data[:,0]]\n",
    "y = np.c_[data[:,1]]"
   ]
  },
  {
   "cell_type": "code",
   "execution_count": 4,
   "metadata": {},
   "outputs": [
    {
     "data": {
      "text/plain": [
       "<matplotlib.collections.PathCollection at 0x11256eef0>"
      ]
     },
     "execution_count": 4,
     "metadata": {},
     "output_type": "execute_result"
    },
    {
     "data": {
      "image/png": "[encoded data removed]",
      "text/plain": [
       "<Figure size 432x288 with 1 Axes>"
      ]
     },
     "metadata": {
      "needs_background": "light"
     },
     "output_type": "display_data"
    }
   ],
   "source": [
    "# 查看数据分布情况\n",
    "plt.scatter(x[:,1],y,s = 25 ,c = \"r\" , marker = \"x\" ,linewidth = 2)"
   ]
  },
  {
   "cell_type": "code",
   "execution_count": 5,
   "metadata": {},
   "outputs": [],
   "source": [
    "# 构建假设函数\n",
    "def hypothesis(x,theta = [[0],[0]]):\n",
    "    \n",
    "    h = x.dot(theta)\n",
    "    \n",
    "    return h"
   ]
  },
  {
   "cell_type": "code",
   "execution_count": 6,
   "metadata": {},
   "outputs": [],
   "source": [
    "# 构建损失函数\n",
    "\n",
    "def lossfunction(x,y,theta = [[0],[0]]):\n",
    "    \n",
    "    m = y.size\n",
    "    \n",
    "    h = hypothesis(x,theta)\n",
    "    \n",
    "    J = 1 / (2 * m) * np.sum(np.square(h -y))\n",
    "    \n",
    "    return J"
   ]
  },
  {
   "cell_type": "code",
   "execution_count": 7,
   "metadata": {},
   "outputs": [
    {
     "data": {
      "text/plain": [
       "32.072733877455676"
      ]
     },
     "execution_count": 7,
     "metadata": {},
     "output_type": "execute_result"
    }
   ],
   "source": [
    "# 查看初始状态的损失\n",
    "lossfunction(x,y)\n",
    "32.072733877455676"
   ]
  },
  {
   "cell_type": "code",
   "execution_count": 8,
   "metadata": {},
   "outputs": [],
   "source": [
    "# 构建迭代梯度\n",
    "\n",
    "def gradientdescent(x,y,theta=[[0],[0]],alpha = 0.01 ,num_iters = 2000):\n",
    "    \n",
    "    m = y.size\n",
    "    \n",
    "    J_history = np.zeros(num_iters)\n",
    "    \n",
    "    for i in np.arange(num_iters):\n",
    "        h = x.dot(theta)\n",
    "        theta = theta - alpha*(1.0/m)*(x.T.dot(h-y))\n",
    "        \n",
    "        J_history[i] = lossfunction(x,y,theta)\n",
    "    \n",
    "    return (theta,J_history)"
   ]
  },
  {
   "cell_type": "code",
   "execution_count": 9,
   "metadata": {},
   "outputs": [
    {
     "name": "stdout",
     "output_type": "stream",
     "text": [
      "theta: [[-3.78806857]\n",
      " [ 1.18221277]]\n"
     ]
    },
    {
     "data": {
      "text/plain": [
       "[<matplotlib.lines.Line2D at 0x1125d2f98>]"
      ]
     },
     "execution_count": 9,
     "metadata": {},
     "output_type": "execute_result"
    },
    {
     "data": {
      "image/png": "[encoded data removed]",
      "text/plain": [
       "<Figure size 432x288 with 1 Axes>"
      ]
     },
     "metadata": {
      "needs_background": "light"
     },
     "output_type": "display_data"
    }
   ],
   "source": [
    "# 由梯度下降得到的参数，以及最小损失值\n",
    "theta,J =gradientdescent(x,y)\n",
    "print(\"theta:\",theta);\n",
    "plt.plot(J)"
   ]
  },
  {
   "cell_type": "code",
   "execution_count": 10,
   "metadata": {},
   "outputs": [
    {
     "data": {
      "text/plain": [
       "array([-17.703219])"
      ]
     },
     "execution_count": 10,
     "metadata": {},
     "output_type": "execute_result"
    }
   ],
   "source": [
    "# 做预测，找一个不奇葩的数据，比如data[5]\n",
    "\n",
    "x = data[5]\n",
    "hypothesis(x,theta)"
   ]
  },
  {
   "cell_type": "markdown",
   "metadata": {},
   "source": [
    "## Logistics Gression---"
   ]
  },
  {
   "cell_type": "markdown",
   "metadata": {},
   "source": [
    "* Hypothesis Function\n",
    "\n",
    "    $g(z) = \\frac{1}{1+e^{-x}}$\n",
    "\n",
    "    $h_\\theta(x) = g(\\Theta^T x)$\n",
    "\n",
    "* Cost Function\n",
    "\n",
    "    $Cost[ h_\\theta(x) , y] = \\begin{cases}-log(h_\\theta(x))\\quad y=1\\\\\\quad \\\\-log(1 - h_\\theta(x))\\quad y=0\\\\\\end{cases}$\n",
    "\n",
    "* Loss Function\n",
    "\n",
    "    $J(\\Theta) = -\\frac{1}{m}\\sum_{i=1}^m[y^ilog(h_\\theta(x^i)) + (1 - y^i)log(1-h_\\theta(x^i))]$\n",
    "\n",
    "* Regularization \n",
    "\n",
    "    $J(\\Theta) = -\\frac{1}{m}\\sum_{i=1}^m[y^ilog(h_\\theta(x^i)) + (1 - y^i)log(1-h_\\theta(x^i))] + \\frac{\\lambda}{2m}\\sum_{i=1}^{n}\\Theta_j^2$\n",
    "\n",
    "    $\\Theta_j := \\Theta_j - \\alpha\\frac{\\delta}{\\delta\\Theta_j}J(\\Theta)$\n",
    "\n",
    "* Gradient Descent\n",
    "    对J进行迭代，收敛到一定程度，得到Θ，为最优解\n",
    "\n",
    "    $GD(X,Y,\\Theta,\\alpha , n_{repeat-number} ,*\\lambda)$\n",
    "\n",
    "    J_history 记录每次迭代的损失函数值\n",
    "\n",
    "    然后模型训练后得到 参数Θ ，以及所有的对应参数的损失函数值\n",
    "\n",
    "    看损失函数值是否收敛\n",
    "\n",
    "* Predict\n",
    "    将得到的参数，带入到假设函数中，得到假设函数值\n",
    "    \\> 0.5 是正样本概率大于0.5 判断为正样本 \n",
    "    < 0.5 是正样本概率小于0.5 判断为负样本\n",
    "\n",
    "* Multi Classification\n",
    "    * one vs one\n",
    "    构建 n*(n-1)/2个分类器\n",
    "    * one vs rest\n",
    "    构建n个分类器"
   ]
  },
  {
   "cell_type": "markdown",
   "metadata": {},
   "source": [
    "## 手推逻辑回归代码--"
   ]
  },
  {
   "cell_type": "code",
   "execution_count": 34,
   "metadata": {},
   "outputs": [],
   "source": [
    "# 加载相关库\n",
    "import numpy as np\n",
    "import matplotlib.pyplot as plt"
   ]
  },
  {
   "cell_type": "code",
   "execution_count": 12,
   "metadata": {},
   "outputs": [],
   "source": [
    "# 加载数据\n",
    "data = np.loadtxt(\"logistic_regression_data1.txt\",delimiter = \",\")"
   ]
  },
  {
   "cell_type": "code",
   "execution_count": 13,
   "metadata": {
    "scrolled": true
   },
   "outputs": [
    {
     "data": {
      "text/plain": [
       "array([[34.62365962, 78.02469282,  0.        ],\n",
       "       [30.28671077, 43.89499752,  0.        ],\n",
       "       [35.84740877, 72.90219803,  0.        ],\n",
       "       [60.18259939, 86.3085521 ,  1.        ],\n",
       "       [79.03273605, 75.34437644,  1.        ]])"
      ]
     },
     "execution_count": 13,
     "metadata": {},
     "output_type": "execute_result"
    }
   ],
   "source": [
    "# 查看数据\n",
    "data[:5]"
   ]
  },
  {
   "cell_type": "code",
   "execution_count": 14,
   "metadata": {},
   "outputs": [],
   "source": [
    "# 处理数据\n",
    "x = np.c_[np.ones(data.shape[0]),data[:,:-1]]\n",
    "\n",
    "y = np.c_[data[:,-1]]"
   ]
  },
  {
   "cell_type": "code",
   "execution_count": 16,
   "metadata": {},
   "outputs": [
    {
     "data": {
      "image/png": "[encoded data removed]",
      "text/plain": [
       "<Figure size 432x288 with 1 Axes>"
      ]
     },
     "metadata": {
      "needs_background": "light"
     },
     "output_type": "display_data"
    }
   ],
   "source": [
    "plt.scatter(x[np.where(y == 1),1],x[np.where(y == 1),2],marker = \"x\" , c = \"g\", linewidth= \"1\")\n",
    "plt.scatter(x[np.where(y == 0),1],x[np.where(y == 0),2],marker = \"o\" , c = \"r\", linewidth= \"1\")\n",
    "plt.legend([\"Fail\",\"pass\"])\n",
    "plt.show()"
   ]
  },
  {
   "cell_type": "code",
   "execution_count": 119,
   "metadata": {},
   "outputs": [],
   "source": [
    "# 构建sigmoid函数\n",
    "def g(z):\n",
    "    return 1.0/(1.0 + np.exp(-z))"
   ]
  },
  {
   "cell_type": "code",
   "execution_count": 120,
   "metadata": {},
   "outputs": [],
   "source": [
    "# 构建损失函数\n",
    "def loss(theta,x,y):\n",
    "    m = y.size\n",
    "    h = g(x.dot(theta))\n",
    "    J = -1.0 / m * (np.log(h).T.dot(y) + np.log(1-h).T.dot(1-y))\n",
    "    \n",
    "    if np.isnan(J[0]):\n",
    "        return(np.inf)\n",
    "    return J[0]"
   ]
  },
  {
   "cell_type": "code",
   "execution_count": 127,
   "metadata": {},
   "outputs": [],
   "source": [
    "def gradient(theta, X, y):\n",
    "    m = y.size\n",
    "    h = g(X.dot(theta.reshape(-1,1)))\n",
    "    \n",
    "    grad =(1.0/m)*X.T.dot(h-y)\n",
    "\n",
    "    return(grad.flatten())"
   ]
  },
  {
   "cell_type": "code",
   "execution_count": 128,
   "metadata": {},
   "outputs": [
    {
     "name": "stdout",
     "output_type": "stream",
     "text": [
      "Cost: \n",
      " 0.6931471805599452\n",
      "Grad: \n",
      " [ -0.1        -12.00921659 -11.26284221]\n"
     ]
    }
   ],
   "source": [
    "theta = np.zeros(x.shape[1])\n",
    "cost = loss(theta, x, y)\n",
    "grad = gradient(theta, x, y)\n",
    "print('Cost: \\n', cost)\n",
    "print('Grad: \\n', grad)"
   ]
  },
  {
   "cell_type": "code",
   "execution_count": null,
   "metadata": {},
   "outputs": [],
   "source": []
  }
 ],
 "metadata": {
  "kernelspec": {
   "display_name": "Python 3",
   "language": "python",
   "name": "python3"
  },
  "language_info": {
   "codemirror_mode": {
    "name": "ipython",
    "version": 3
   },
   "file_extension": ".py",
   "mimetype": "text/x-python",
   "name": "python",
   "nbconvert_exporter": "python",
   "pygments_lexer": "ipython3",
   "version": "3.7.2"
  }
 },
 "nbformat": 4,
 "nbformat_minor": 2
}
