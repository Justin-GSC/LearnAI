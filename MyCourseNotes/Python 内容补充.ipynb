{
 "cells": [
  {
   "cell_type": "code",
   "execution_count": 51,
   "metadata": {
    "ExecuteTime": {
     "end_time": "2019-05-11T06:50:32.670634Z",
     "start_time": "2019-05-11T06:50:32.656940Z"
    }
   },
   "outputs": [],
   "source": [
    "%config ZMQInteractiveShell.ast_node_interactivity=\"all\""
   ]
  },
  {
   "cell_type": "markdown",
   "metadata": {},
   "source": [
    "# 多进程多线程"
   ]
  },
  {
   "cell_type": "code",
   "execution_count": null,
   "metadata": {},
   "outputs": [],
   "source": []
  },
  {
   "cell_type": "markdown",
   "metadata": {},
   "source": [
    "# 正则表达式"
   ]
  },
  {
   "cell_type": "code",
   "execution_count": 1,
   "metadata": {
    "ExecuteTime": {
     "end_time": "2019-05-14T01:04:42.839997Z",
     "start_time": "2019-05-14T01:04:42.830102Z"
    }
   },
   "outputs": [],
   "source": [
    "import re"
   ]
  },
  {
   "cell_type": "markdown",
   "metadata": {},
   "source": [
    "## re.match 匹配"
   ]
  },
  {
   "cell_type": "markdown",
   "metadata": {},
   "source": [
    "> re.match 尝试从字符串的 起始 位置匹配一个模式，如果不是起始位置匹配成功的话，返回 none\n",
    "\n",
    "> re.match(pattern,string,flags = 0)"
   ]
  },
  {
   "cell_type": "markdown",
   "metadata": {},
   "source": [
    "\n",
    "|参数|描述|\n",
    "|---|---|\n",
    "|pattern|匹配的正则表达式|\n",
    "|string|要匹配的字符串|\n",
    "|flags|标志位，用于控制正则表达式的匹配方式，如：是否区分大小写，多行匹配等|"
   ]
  },
  {
   "cell_type": "code",
   "execution_count": 12,
   "metadata": {
    "ExecuteTime": {
     "end_time": "2019-05-14T01:22:01.430602Z",
     "start_time": "2019-05-14T01:22:01.421448Z"
    }
   },
   "outputs": [
    {
     "name": "stdout",
     "output_type": "stream",
     "text": [
      "(0, 3)\n",
      "None\n"
     ]
    },
    {
     "data": {
      "text/plain": [
       "<re.Match object; span=(0, 3), match='www'>"
      ]
     },
     "execution_count": 12,
     "metadata": {},
     "output_type": "execute_result"
    }
   ],
   "source": [
    "import re\n",
    "\n",
    "print(re.match(\"www\",\"www,guoshichao.com\").span())\n",
    "print(re.match(\"wwwa\",\"www.wwwa.guoshichao.com\"))\n",
    "\n",
    "re.match(\"www\",\"www.guoshichao.com\") #匹配成功会返回一个对象，否则None"
   ]
  },
  {
   "cell_type": "markdown",
   "metadata": {},
   "source": [
    "使用group(num) 或 groups() 匹配对象函数来获取匹配表达式\n",
    "\n",
    "|匹配对象方法|描述|\n",
    "|----------|----|\n",
    "|group(num=)|匹配的整个表达式的字符串，group（）可以一次输入多个组号，在这种情况下它将返回一个包含那些组所对应值得元组。|\n",
    "|groups()|返回一个包含所有小组字符串的元组，从1到所含的小组号|"
   ]
  },
  {
   "cell_type": "code",
   "execution_count": 16,
   "metadata": {
    "ExecuteTime": {
     "end_time": "2019-05-14T01:40:54.529586Z",
     "start_time": "2019-05-14T01:40:54.519987Z"
    }
   },
   "outputs": [
    {
     "name": "stdout",
     "output_type": "stream",
     "text": [
      "Cats are smarter than dogs\n",
      "Cats\n",
      "smarter\n"
     ]
    }
   ],
   "source": [
    "import re \n",
    "line = \"Cats are smarter than dogs\"\n",
    "\n",
    "# .* 匹配出换行符（\\n,\\r) 之外的任何单个或多个字符\n",
    "# re.M 多行匹配，会影响到 ^ 和 $\n",
    "# re.I 匹配对大小写不敏感\n",
    "\n",
    "matchObj = re.match(r'(.*) are (.*?) .*',line,re.M|re.I)\n",
    "\n",
    "if matchObj:\n",
    "    print(matchObj.group())\n",
    "    print(matchObj.group(1)) # 组1 的数据\n",
    "    print(matchObj.group(2)) # 组2 的数据\n",
    "else:\n",
    "    print(\"No match!\")"
   ]
  },
  {
   "cell_type": "markdown",
   "metadata": {},
   "source": [
    "## re.search 匹配"
   ]
  },
  {
   "cell_type": "markdown",
   "metadata": {},
   "source": [
    "> search 扫描整个字符串并返回第一个成功的匹配，如果多个匹配，返回第一个匹配到的数据\n",
    "\n",
    "> re.search(pattern,string,flags = 0)"
   ]
  },
  {
   "cell_type": "code",
   "execution_count": 24,
   "metadata": {
    "ExecuteTime": {
     "end_time": "2019-05-14T05:54:48.860678Z",
     "start_time": "2019-05-14T05:54:48.852479Z"
    }
   },
   "outputs": [
    {
     "name": "stdout",
     "output_type": "stream",
     "text": [
      "(0, 14)\n",
      "None\n"
     ]
    }
   ],
   "source": [
    "print(re.search(r'(.*)shi(.*)chao',\"www,guoshichao.com\" ).span())\n",
    "print(re.search(r'(.*)sha(.*)chao',\"www,guoshichao.com\" ))"
   ]
  },
  {
   "cell_type": "markdown",
   "metadata": {},
   "source": [
    "## re.sub 检索和替换(substitute)"
   ]
  },
  {
   "cell_type": "markdown",
   "metadata": {},
   "source": [
    "> 将匹配到的内容，替换成自己想要的数据。\n",
    "\n",
    "> re.sub(pattern,repl,string,count=0)"
   ]
  },
  {
   "cell_type": "markdown",
   "metadata": {},
   "source": [
    "|替换对象语法|描述|\n",
    "|----------|----|\n",
    "|pattern|正则中的模式字符串|\n",
    "|repl|replacement替换的字符串，也可为一个函数|\n",
    "|string|要被查找替换的原始字符串|\n",
    "|count|模式匹配后替换的最大次数，默认0 表示替换所有的匹配|"
   ]
  },
  {
   "cell_type": "code",
   "execution_count": 27,
   "metadata": {
    "ExecuteTime": {
     "end_time": "2019-05-14T06:05:25.394275Z",
     "start_time": "2019-05-14T06:05:25.387492Z"
    }
   },
   "outputs": [
    {
     "name": "stdout",
     "output_type": "stream",
     "text": [
      "www.guoshichao.com  \n",
      " www.lixueting.com \n"
     ]
    }
   ],
   "source": [
    "site = \"www.guoshichao.com # 这是一个网址\"\n",
    "\n",
    "web = re.sub(r'#.*$',\"\",site)\n",
    "\n",
    "web_new = re.sub(r'guoshichao',\"lixueting\",web)\n",
    "\n",
    "print(web,\"\\n\",web_new)"
   ]
  },
  {
   "cell_type": "markdown",
   "metadata": {},
   "source": [
    "## re.split 分割"
   ]
  },
  {
   "cell_type": "markdown",
   "metadata": {},
   "source": [
    "> 按照能够匹配的子串将字符串分割后返回列表,匹配不到则不分割\n",
    "\n",
    ">re.split(pattern,string,maxsplit=0,flags=0)"
   ]
  },
  {
   "cell_type": "markdown",
   "metadata": {},
   "source": [
    "|参数|描述|\n",
    "|---|----|\n",
    "|pattern|匹配的正则表达式|\n",
    "|string|要匹配的字符串|\n",
    "|maxsplit|分割次数，maxsplit=0,不限制次数|\n",
    "|flags|标志位|"
   ]
  },
  {
   "cell_type": "code",
   "execution_count": 34,
   "metadata": {
    "ExecuteTime": {
     "end_time": "2019-05-14T06:12:19.792602Z",
     "start_time": "2019-05-14T06:12:19.782327Z"
    }
   },
   "outputs": [
    {
     "data": {
      "text/plain": [
       "['www', 'guoshichao', 'com ']"
      ]
     },
     "execution_count": 34,
     "metadata": {},
     "output_type": "execute_result"
    }
   ],
   "source": [
    "re.split(r\"\\.\",web,maxsplit=3)"
   ]
  },
  {
   "cell_type": "markdown",
   "metadata": {},
   "source": [
    "# 爬虫"
   ]
  },
  {
   "cell_type": "code",
   "execution_count": null,
   "metadata": {},
   "outputs": [],
   "source": []
  },
  {
   "cell_type": "markdown",
   "metadata": {},
   "source": [
    "# PIL(pillow)\n",
    "\n",
    "* [查看英文文档](https://pillow.readthedocs.io/en/latest/index.html)\n",
    "\n",
    "* [查看中文文档](https://pillow-cn.readthedocs.io/zh_CN/latest/)"
   ]
  },
  {
   "cell_type": "markdown",
   "metadata": {},
   "source": [
    "* Image Archives"
   ]
  },
  {
   "cell_type": "markdown",
   "metadata": {},
   "source": [
    "* Image Display"
   ]
  },
  {
   "cell_type": "markdown",
   "metadata": {},
   "source": [
    "* Image Processing"
   ]
  },
  {
   "cell_type": "markdown",
   "metadata": {},
   "source": [
    "## Image"
   ]
  },
  {
   "cell_type": "code",
   "execution_count": 9,
   "metadata": {
    "ExecuteTime": {
     "end_time": "2019-05-11T01:25:11.338131Z",
     "start_time": "2019-05-11T01:25:11.332568Z"
    }
   },
   "outputs": [
    {
     "name": "stdout",
     "output_type": "stream",
     "text": [
      "['ADAPTIVE', 'AFFINE', 'ANTIALIAS', 'BICUBIC', 'BILINEAR', 'BOX', 'CONTAINER', 'CUBIC', 'Callable', 'DECODERS', 'DEFAULT_STRATEGY', 'DecompressionBombError', 'DecompressionBombWarning', 'ENCODERS', 'EXTENSION', 'EXTENT', 'FASTOCTREE', 'FILTERED', 'FIXED', 'FLIP_LEFT_RIGHT', 'FLIP_TOP_BOTTOM', 'FLOYDSTEINBERG', 'HAMMING', 'HAS_PATHLIB', 'HUFFMAN_ONLY', 'ID', 'Image', 'ImageMode', 'ImagePointHandler', 'ImageTransformHandler', 'LANCZOS', 'LIBIMAGEQUANT', 'LINEAR', 'MAXCOVERAGE', 'MAX_IMAGE_PIXELS', 'MEDIANCUT', 'MESH', 'MIME', 'MODES', 'NEAREST', 'NONE', 'NORMAL', 'OPEN', 'ORDERED', 'PERSPECTIVE', 'PILLOW_VERSION', 'Path', 'QUAD', 'RASTERIZE', 'RLE', 'ROTATE_180', 'ROTATE_270', 'ROTATE_90', 'SAVE', 'SAVE_ALL', 'SEQUENCE', 'TRANSPOSE', 'TRANSVERSE', 'USE_CFFI_ACCESS', 'VERSION', 'WEB', '_E', '_ENDIAN', '_MAPMODES', '_MODEINFO', '_MODE_CONV', '__builtins__', '__cached__', '__doc__', '__file__', '__loader__', '__name__', '__package__', '__spec__', '__version__', '_apply_env_variables', '_check_size', '_conv_type_shape', '_decompression_bomb_check', '_fromarray_typemap', '_getdecoder', '_getencoder', '_getscaleoffset', '_imaging_not_installed', '_initialized', '_plugins', '_show', '_showxv', '_wedge', 'alpha_composite', 'atexit', 'blend', 'builtins', 'cffi', 'coerce_e', 'composite', 'core', 'deferred_error', 'effect_mandelbrot', 'effect_noise', 'eval', 'fromarray', 'frombuffer', 'frombytes', 'fromqimage', 'fromqpixmap', 'fromstring', 'getmodebandnames', 'getmodebands', 'getmodebase', 'getmodetype', 'i8', 'init', 'io', 'isImageType', 'isPath', 'isStringType', 'linear_gradient', 'logger', 'logging', 'math', 'merge', 'new', 'numbers', 'open', 'os', 'preinit', 'py3', 'radial_gradient', 'register_decoder', 'register_encoder', 'register_extension', 'register_extensions', 'register_mime', 'register_open', 'register_save', 'register_save_all', 'registered_extensions', 'struct', 'sys', 'warnings']\n"
     ]
    }
   ],
   "source": [
    "from PIL import Image\n",
    "\n",
    "print(dir(Image)) # 查看Image的方法"
   ]
  },
  {
   "cell_type": "markdown",
   "metadata": {},
   "source": [
    "### 示例"
   ]
  },
  {
   "cell_type": "code",
   "execution_count": 34,
   "metadata": {
    "ExecuteTime": {
     "end_time": "2019-05-11T06:23:09.600829Z",
     "start_time": "2019-05-11T06:23:09.521281Z"
    }
   },
   "outputs": [],
   "source": [
    "# 打开，旋转，显示图像\n",
    "\n",
    "from PIL import Image\n",
    "im = Image.open(\"2.jpg\")\n",
    "im.rotate(90).show()"
   ]
  },
  {
   "cell_type": "code",
   "execution_count": 38,
   "metadata": {
    "ExecuteTime": {
     "end_time": "2019-05-11T06:31:01.627583Z",
     "start_time": "2019-05-11T06:31:01.616674Z"
    }
   },
   "outputs": [],
   "source": [
    "#创建缩略图，在当前目录中创建jpeg图像的缩略图，最大分辨率为128*128，保持纵横比\n",
    "\n",
    "from PIL import Image\n",
    "\n",
    "size = 120,120\n",
    "im = Image.open(\"2.jpg\")\n",
    "\n",
    "im.thumbnail(size)\n",
    "im.save('2_thumbnail.jpg',\"jpeg\")"
   ]
  },
  {
   "cell_type": "markdown",
   "metadata": {},
   "source": [
    "### 打开图像--------PIL.Image.open(fp,mode=\"r)"
   ]
  },
  {
   "cell_type": "code",
   "execution_count": 40,
   "metadata": {
    "ExecuteTime": {
     "end_time": "2019-05-11T06:40:27.213229Z",
     "start_time": "2019-05-11T06:40:27.209579Z"
    }
   },
   "outputs": [],
   "source": [
    "# 参数:  fp -- 文件路径，str\n",
    "#       mode -- 模式 默认为”r\"\n",
    "\n",
    "# 返回值: 一个Image对象\n",
    "\n",
    "# 错误: IOError 文件不可读不存在不确定\n",
    "\n",
    "# 注意: 文件过大时，会报错 Image.DecompressionBombWarning"
   ]
  },
  {
   "cell_type": "markdown",
   "metadata": {},
   "source": [
    "### 图像处理"
   ]
  },
  {
   "cell_type": "code",
   "execution_count": 41,
   "metadata": {
    "ExecuteTime": {
     "end_time": "2019-05-11T06:41:34.273067Z",
     "start_time": "2019-05-11T06:41:34.268608Z"
    }
   },
   "outputs": [],
   "source": [
    "from PIL import Image"
   ]
  },
  {
   "cell_type": "markdown",
   "metadata": {},
   "source": [
    "#### PIL.I"
   ]
  },
  {
   "cell_type": "markdown",
   "metadata": {},
   "source": []
  },
  {
   "cell_type": "code",
   "execution_count": 43,
   "metadata": {
    "ExecuteTime": {
     "end_time": "2019-05-11T06:43:46.553487Z",
     "start_time": "2019-05-11T06:43:46.484127Z"
    }
   },
   "outputs": [
    {
     "ename": "ValueError",
     "evalue": "image has wrong mode",
     "output_type": "error",
     "traceback": [
      "\u001b[0;31m---------------------------------------------------------------------------\u001b[0m",
      "\u001b[0;31mValueError\u001b[0m                                Traceback (most recent call last)",
      "\u001b[0;32m<ipython-input-43-1e116c6397e3>\u001b[0m in \u001b[0;36m<module>\u001b[0;34m\u001b[0m\n\u001b[1;32m      2\u001b[0m \u001b[0mim2\u001b[0m \u001b[0;34m=\u001b[0m \u001b[0mImage\u001b[0m\u001b[0;34m.\u001b[0m\u001b[0mopen\u001b[0m\u001b[0;34m(\u001b[0m\u001b[0;34m\"2.jpg\"\u001b[0m\u001b[0;34m)\u001b[0m\u001b[0;34m\u001b[0m\u001b[0;34m\u001b[0m\u001b[0m\n\u001b[1;32m      3\u001b[0m \u001b[0;34m\u001b[0m\u001b[0m\n\u001b[0;32m----> 4\u001b[0;31m \u001b[0mImage\u001b[0m\u001b[0;34m.\u001b[0m\u001b[0malpha_composite\u001b[0m\u001b[0;34m(\u001b[0m\u001b[0mim1\u001b[0m\u001b[0;34m,\u001b[0m\u001b[0mim2\u001b[0m\u001b[0;34m)\u001b[0m\u001b[0;34m\u001b[0m\u001b[0;34m\u001b[0m\u001b[0m\n\u001b[0m",
      "\u001b[0;32m~/anaconda3/envs/py35/lib/python3.7/site-packages/PIL/Image.py\u001b[0m in \u001b[0;36malpha_composite\u001b[0;34m(im1, im2)\u001b[0m\n\u001b[1;32m   2703\u001b[0m     \u001b[0mim1\u001b[0m\u001b[0;34m.\u001b[0m\u001b[0mload\u001b[0m\u001b[0;34m(\u001b[0m\u001b[0;34m)\u001b[0m\u001b[0;34m\u001b[0m\u001b[0;34m\u001b[0m\u001b[0m\n\u001b[1;32m   2704\u001b[0m     \u001b[0mim2\u001b[0m\u001b[0;34m.\u001b[0m\u001b[0mload\u001b[0m\u001b[0;34m(\u001b[0m\u001b[0;34m)\u001b[0m\u001b[0;34m\u001b[0m\u001b[0;34m\u001b[0m\u001b[0m\n\u001b[0;32m-> 2705\u001b[0;31m     \u001b[0;32mreturn\u001b[0m \u001b[0mim1\u001b[0m\u001b[0;34m.\u001b[0m\u001b[0m_new\u001b[0m\u001b[0;34m(\u001b[0m\u001b[0mcore\u001b[0m\u001b[0;34m.\u001b[0m\u001b[0malpha_composite\u001b[0m\u001b[0;34m(\u001b[0m\u001b[0mim1\u001b[0m\u001b[0;34m.\u001b[0m\u001b[0mim\u001b[0m\u001b[0;34m,\u001b[0m \u001b[0mim2\u001b[0m\u001b[0;34m.\u001b[0m\u001b[0mim\u001b[0m\u001b[0;34m)\u001b[0m\u001b[0;34m)\u001b[0m\u001b[0;34m\u001b[0m\u001b[0;34m\u001b[0m\u001b[0m\n\u001b[0m\u001b[1;32m   2706\u001b[0m \u001b[0;34m\u001b[0m\u001b[0m\n\u001b[1;32m   2707\u001b[0m \u001b[0;34m\u001b[0m\u001b[0m\n",
      "\u001b[0;31mValueError\u001b[0m: image has wrong mode"
     ]
    }
   ],
   "source": [
    "im1 = Image.open(\"1.jpg\")\n",
    "im2 = Image.open(\"2.jpg\")\n",
    "\n",
    "\n",
    "Image.alpha_composite(im1,im2)"
   ]
  },
  {
   "cell_type": "code",
   "execution_count": null,
   "metadata": {},
   "outputs": [],
   "source": []
  },
  {
   "cell_type": "code",
   "execution_count": null,
   "metadata": {},
   "outputs": [],
   "source": []
  },
  {
   "cell_type": "markdown",
   "metadata": {},
   "source": [
    "### ImageDraw"
   ]
  },
  {
   "cell_type": "code",
   "execution_count": 63,
   "metadata": {
    "ExecuteTime": {
     "end_time": "2019-05-11T06:57:52.126241Z",
     "start_time": "2019-05-11T06:57:52.089090Z"
    }
   },
   "outputs": [],
   "source": [
    "# 例子1\n",
    "\n",
    "from PIL import Image,ImageDraw\n",
    "\n",
    "im = Image.open(\"2.jpg\")\n",
    "\n",
    "draw = ImageDraw.Draw(im)\n",
    "\n",
    "draw.line((0,0) + im.size,fill = 128)\n",
    "draw.line((0,im.size[1],im.size[0],0),fill = 128)\n",
    "\n",
    "im.save(\"3.jpg\")"
   ]
  },
  {
   "cell_type": "code",
   "execution_count": 64,
   "metadata": {
    "ExecuteTime": {
     "end_time": "2019-05-11T07:06:03.260402Z",
     "start_time": "2019-05-11T07:06:02.996022Z"
    }
   },
   "outputs": [],
   "source": [
    "# 例子2\n",
    "\n",
    "from PIL import Image,ImageDraw,ImageFont\n",
    "\n",
    "base = Image.open(\"1.jpg\").convert(\"RGBA\")\n",
    "\n",
    "txt = Image.new(\"RGBA\",base.size,(255,255,255,0))\n",
    "\n",
    "fnt = ImageFont.truetype(\"PingFang.ttc\",40)\n",
    "\n",
    "d = ImageDraw.Draw(txt)\n",
    "\n",
    "d.text((10,10),\"hello\",font = fnt,fill=(255,255,255,128))\n",
    "\n",
    "d.text((10,60),\"world\",font = fnt,fill=(255,255,255,255))\n",
    "\n",
    "out = Image.alpha_composite(base,txt)\n",
    "out.show()"
   ]
  },
  {
   "cell_type": "code",
   "execution_count": null,
   "metadata": {
    "ExecuteTime": {
     "end_time": "2019-05-11T07:17:15.046274Z",
     "start_time": "2019-05-11T07:17:15.037444Z"
    }
   },
   "outputs": [],
   "source": [
    "#PIL.ImageDraw.ImageDraw.text(xy, text, fill=None, font=None, anchor= None, spacing=0, align=\"left\", direction=None, features=None, language=None)\n",
    "\n",
    "'''\n",
    "xy -- 文字起始位置，左上角\n",
    "text -- 文字内容\n",
    "fill -- 文字填充颜色\n",
    "font -- ImageFont 实例\n",
    "anchor -- \n",
    "spacing -- 行间距\n",
    "align -- 左中右对齐\n",
    "direction -- 文字方向 ，ltr左到右，rtl右到左，ttb上到下\n",
    "features -- Opentype字体功能\n",
    "language -- 书写语言\n",
    "'''"
   ]
  },
  {
   "cell_type": "code",
   "execution_count": null,
   "metadata": {},
   "outputs": [],
   "source": []
  },
  {
   "cell_type": "markdown",
   "metadata": {},
   "source": [
    "### ImageColor"
   ]
  },
  {
   "cell_type": "code",
   "execution_count": 58,
   "metadata": {
    "ExecuteTime": {
     "end_time": "2019-05-11T06:53:18.672598Z",
     "start_time": "2019-05-11T06:53:18.662361Z"
    }
   },
   "outputs": [
    {
     "data": {
      "text/plain": [
       "(255, 0, 0)"
      ]
     },
     "execution_count": 58,
     "metadata": {},
     "output_type": "execute_result"
    },
    {
     "data": {
      "text/plain": [
       "(0, 0, 255)"
      ]
     },
     "execution_count": 58,
     "metadata": {},
     "output_type": "execute_result"
    }
   ],
   "source": [
    "PIL.ImageColor.getrgb(\"red\")\n",
    "# 将输入的字符串转换为RGB，如果不识别字符串，报ValueError\n",
    "\n",
    "PIL.ImageColor.getcolor(\"BLUE\",\"RGB\") #\"RGB\" , \"HSL\" , \"HSV\" , \"HSB\""
   ]
  },
  {
   "cell_type": "markdown",
   "metadata": {},
   "source": [
    "### ImageFilter"
   ]
  },
  {
   "cell_type": "markdown",
   "metadata": {},
   "source": []
  },
  {
   "cell_type": "markdown",
   "metadata": {},
   "source": []
  },
  {
   "cell_type": "markdown",
   "metadata": {},
   "source": []
  },
  {
   "cell_type": "markdown",
   "metadata": {},
   "source": []
  },
  {
   "cell_type": "markdown",
   "metadata": {},
   "source": []
  },
  {
   "cell_type": "markdown",
   "metadata": {},
   "source": []
  },
  {
   "cell_type": "markdown",
   "metadata": {},
   "source": [
    "### ImageFont"
   ]
  },
  {
   "cell_type": "markdown",
   "metadata": {},
   "source": []
  },
  {
   "cell_type": "markdown",
   "metadata": {},
   "source": []
  },
  {
   "cell_type": "markdown",
   "metadata": {},
   "source": []
  },
  {
   "cell_type": "markdown",
   "metadata": {},
   "source": []
  },
  {
   "cell_type": "code",
   "execution_count": 68,
   "metadata": {
    "ExecuteTime": {
     "end_time": "2019-05-11T07:52:02.825760Z",
     "start_time": "2019-05-11T07:52:02.811732Z"
    }
   },
   "outputs": [
    {
     "ename": "TypeError",
     "evalue": "'>' not supported between instances of 'list' and 'int'",
     "output_type": "error",
     "traceback": [
      "\u001b[0;31m---------------------------------------------------------------------------\u001b[0m",
      "\u001b[0;31mTypeError\u001b[0m                                 Traceback (most recent call last)",
      "\u001b[0;32m<ipython-input-68-ab1448292343>\u001b[0m in \u001b[0;36m<module>\u001b[0;34m\u001b[0m\n\u001b[1;32m      3\u001b[0m \u001b[0mll\u001b[0m \u001b[0;34m=\u001b[0m \u001b[0;34m[\u001b[0m\u001b[0;32mTrue\u001b[0m\u001b[0;34m,\u001b[0m\u001b[0;32mFalse\u001b[0m\u001b[0;34m,\u001b[0m\u001b[0;32mTrue\u001b[0m\u001b[0;34m,\u001b[0m\u001b[0;32mFalse\u001b[0m\u001b[0;34m]\u001b[0m\u001b[0;34m\u001b[0m\u001b[0;34m\u001b[0m\u001b[0m\n\u001b[1;32m      4\u001b[0m \u001b[0;34m\u001b[0m\u001b[0m\n\u001b[0;32m----> 5\u001b[0;31m \u001b[0mls\u001b[0m \u001b[0;34m>\u001b[0m \u001b[0;36m5\u001b[0m\u001b[0;34m\u001b[0m\u001b[0;34m\u001b[0m\u001b[0m\n\u001b[0m",
      "\u001b[0;31mTypeError\u001b[0m: '>' not supported between instances of 'list' and 'int'"
     ]
    }
   ],
   "source": [
    "ls = [1,2,3,4]\n",
    "\n",
    "ll = [True,False,True,False]\n",
    "\n"
   ]
  },
  {
   "cell_type": "code",
   "execution_count": null,
   "metadata": {},
   "outputs": [],
   "source": []
  }
 ],
 "metadata": {
  "kernelspec": {
   "display_name": "Python 3",
   "language": "python",
   "name": "python3"
  },
  "language_info": {
   "codemirror_mode": {
    "name": "ipython",
    "version": 3
   },
   "file_extension": ".py",
   "mimetype": "text/x-python",
   "name": "python",
   "nbconvert_exporter": "python",
   "pygments_lexer": "ipython3",
   "version": "3.7.2"
  },
  "toc": {
   "base_numbering": 1,
   "nav_menu": {},
   "number_sections": true,
   "sideBar": true,
   "skip_h1_title": false,
   "title_cell": "Table of Contents",
   "title_sidebar": "Contents",
   "toc_cell": false,
   "toc_position": {},
   "toc_section_display": true,
   "toc_window_display": true
  }
 },
 "nbformat": 4,
 "nbformat_minor": 2
}
