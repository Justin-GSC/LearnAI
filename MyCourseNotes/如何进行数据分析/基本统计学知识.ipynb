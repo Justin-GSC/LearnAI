{
 "cells": [
  {
   "cell_type": "markdown",
   "metadata": {},
   "source": [
    "# 深入浅出统计学（Head First Statistics）笔记"
   ]
  },
  {
   "cell_type": "markdown",
   "metadata": {},
   "source": [
    "> 包含内容：\n",
    "> * 可视化\n",
    "> * 概率\n",
    "> * 分布\n",
    "> * 统计\n",
    "> * 置信区间\n",
    "> * 回归"
   ]
  },
  {
   "cell_type": "markdown",
   "metadata": {},
   "source": [
    "## 信息的图形化\n",
    "\n",
    "> 将枯燥的数据转化为直观的图形进行观察"
   ]
  },
  {
   "cell_type": "markdown",
   "metadata": {},
   "source": [
    "### 饼图\n",
    "饼图能够很清楚看到各部分之间的比例关系，以及占整体的大小。\n",
    "![](./pie.png)"
   ]
  },
  {
   "cell_type": "markdown",
   "metadata": {},
   "source": [
    "### 条形图\n",
    "\n",
    "垂直条形图，横轴表示类，纵轴表示频数或百分数。\n",
    "\n",
    "![](条形图.png)\n",
    "\n",
    "水平条形图，更直观观察每个类的数据\n",
    "![](条形图2.png)\n",
    "\n",
    "堆积条形图：直观比较频数\n",
    "![](堆积条形图.png)\n",
    "\n",
    "分段条形图：直观看出占整体的比例，以及频数\n",
    "![](分段条形图.png)"
   ]
  },
  {
   "cell_type": "markdown",
   "metadata": {},
   "source": [
    "### 直方图\n",
    "\n",
    "直方图外观与条形图相近，但直方图中长方形的面积与频数成比例，长方形之间没有间隔，区间宽度一样。\n",
    "![](直方图.png)\n",
    "\n",
    "![](直方图2.png)\n",
    "在区间不一致情况下，需要对长方形的高度进行变换，长方形的高度为频数密度= 频数 / 组距"
   ]
  },
  {
   "cell_type": "markdown",
   "metadata": {},
   "source": [
    "### 累积频数图\n",
    "\n",
    "表示到达某个特定情况或数值的总频数\n",
    "![](累积频数图.png)"
   ]
  },
  {
   "cell_type": "markdown",
   "metadata": {},
   "source": [
    "### 箱线图\n",
    "使用箱线图可以看到四分位数，中位数，四分位距，上下界，异常值等\n",
    "![](箱线图.png)"
   ]
  },
  {
   "cell_type": "markdown",
   "metadata": {},
   "source": [
    "## 统计"
   ]
  },
  {
   "cell_type": "markdown",
   "metadata": {},
   "source": [
    "### 常用统计量\n",
    "\n",
    "- 均值 \n",
    "- 中位数\n",
    "- 众数\n",
    "\n",
    "\n",
    "### 数据的分散性\n",
    "\n",
    "- 极差（全距）： 上界 \\- 下界\n",
    "- 四分位数：Q1 下四分位数，Q2 中间四分位数（中位数）， Q3 上四分位数\n",
    "\n",
    "![](四分位数.png)\n",
    "- 四分位距（IQR)：上四分位数 \\- 下四分位数\n",
    "\n",
    "同样有：\n",
    "- 十分位距\n",
    "- 百分位距：位于数据范围K%处的数值\n",
    "\n",
    "\n",
    "### 数据的变异性\n",
    "\n",
    "- 方差 ： 度量数据分散性的一种方法，数值与均值的距离的平方数的平均值 $\\sigma^2 = \\frac{\\sum(x - \\mu)^2}{n}$\n",
    "- 标准差：方差的开方 $\\sigma$\n",
    "\n",
    "\n",
    "**方差计算方式**\n",
    "\n",
    "- $\\sigma^2 = \\frac{\\sum(x - \\mu)^2}{n}$\n",
    "\n",
    "\n",
    "- $\\sigma^2 = \\frac{\\sum x^2}{n} - \\mu^2$"
   ]
  },
  {
   "cell_type": "markdown",
   "metadata": {},
   "source": [
    "- 标准分：使用标准分可以对**不同数据集**的数据进行比较，这些数据集的均值和标准差不一样。 $z = \\frac{x - \\mu}{\\sigma}$\n",
    "\n",
    "有时也会说  标准分 = 距离均值的标准差个数"
   ]
  },
  {
   "cell_type": "markdown",
   "metadata": {},
   "source": [
    "## 概率"
   ]
  },
  {
   "cell_type": "markdown",
   "metadata": {},
   "source": [
    "- 事件：表示有概率发生的任何事情。\n",
    "- 概率的度量尺度为 0-1，0代表不可能发生，1代表一定发生\n",
    "\n",
    "- 事件 A 发生的概率： $P(A) = \\frac{n(A)}{n(S)}$ , S为概率空间或样本空间，表示所有可能结果"
   ]
  },
  {
   "cell_type": "markdown",
   "metadata": {},
   "source": [
    "- 对立事件 ： $P(A') = 1 - P(A)$ \n",
    "\n",
    "- 互斥事件：两事件不可能同时发生 ,$P(A \\cap B) = 0$\n",
    "\n",
    "- 相交事件：两事件可能同时发生\n",
    "\n",
    "- 穷举事件：$P(A \\cup B) = 1$\n",
    "\n",
    "- 相关事件：如果几个事件互有影响，则为相关事件\n",
    "\n",
    "- 独立事件：如果几个事件互不影响，则为独立事件 $P(A | B) = P(A)$ , $P(A \\cap B) = P(A) * P(B)$\n",
    "\n",
    "- $P(A \\cup B) = P(A) + P(B) - P(A \\cap B)$\n"
   ]
  },
  {
   "cell_type": "markdown",
   "metadata": {},
   "source": [
    "### 条件概率\n",
    "\n",
    "\n",
    "- $P(A | B) = \\frac{P(A \\cap B)}{P(B)}$  事件 B 发生的前提下 A 发生的概率，等于 A,B 同时发生的概率除以 B 发生的概率 ” | “表示已知条件\n",
    "\n",
    "\n",
    "- 全概率公式：$P(B) = P(B \\cap A) + P(B \\cap A') = P(A)P(B|A) + P(A')P(B|A')$  , 全概率公式是贝叶斯定理的分母\n",
    "\n",
    "\n",
    "- $P(A \\cap B) = P(B \\cap A)$\n",
    "\n",
    "- 贝叶斯定理 ：如果有n个互斥且穷举的事件，$A_1$ 至 $A_n$,而B是另一个事件，则：$P(A | B) = \\frac{P(A) P(B | A)}{P(B)} = \\frac{P(A) P(B | A)}{P(A) P(B | A) + P(A') P(B | A')}$"
   ]
  },
  {
   "cell_type": "markdown",
   "metadata": {},
   "source": [
    "#### 使用概率树表示条件概率\n",
    "![](概率树.png)"
   ]
  },
  {
   "cell_type": "markdown",
   "metadata": {},
   "source": [
    "## 离散概率分布的应用\n",
    "\n",
    "- 离散概率的期望 $E(X) = \\sum x P(X=x)$\n",
    "- 离散概率的方差 $Var(X) = E(X-\\mu)^2$ ，也就是求$(X - \\mu)^2$的期望，即 $Var(X) = \\sum(x - \\mu)^2 P(X=x)$\n"
   ]
  },
  {
   "cell_type": "markdown",
   "metadata": {},
   "source": [
    "- **线性变换的通用公式：**\n",
    "\n",
    "- $E(aX + b) = aE(X) + B$\n",
    "- $Var(aX + b) = a^2 Var(X)$"
   ]
  },
  {
   "cell_type": "markdown",
   "metadata": {},
   "source": [
    "- **具有相同概率分布的同一事件的多次发生,X的独立观测值，与X不同，但具有相同的概率分布，结果不一样**\n",
    "- $E(X_1 + X_2 + …… + X_3) = nE(X)$\n",
    "- $Var(X_1 + X_2 + …… + X_3) = nVar(X)$"
   ]
  },
  {
   "cell_type": "markdown",
   "metadata": {},
   "source": [
    "- **多个独立随机变量的期望方差\n",
    "- $E(X + Y) = E(X) + E(Y)$\n",
    "- $E(X - Y) = E(X) - E(Y)$\n",
    "\n",
    "\n",
    "- $Var(X + Y) = Var(X) + Var(Y)$\n",
    "- $Var(X - Y) = Var(X) + Var(Y)$ 独立随机变量做减法运算，方差依然增大\n",
    "\n",
    "\n",
    "- ** 线性变换也可以做相似运算**\n",
    "\n",
    "\n",
    "- $E(aX + bY) = aE(X) - bE(Y)$\n",
    "- $Var(aX + bY) = a^2 Var(X) + b^2 Var(Y)$"
   ]
  },
  {
   "cell_type": "markdown",
   "metadata": {},
   "source": [
    "## 排列组合\n",
    "\n",
    "- 直排列方式数目 $n!$\n",
    "- 圆形排位 $(n - 1)!$\n",
    "\n",
    "\n",
    "- **排列**\n",
    "\n",
    "假设 n 个对象排位，第一类对象 K 个，第二类对象 j 个，第三类对象 m 个 ，则排位方式有 $\\frac{n!}{k! j! m!}$\n",
    "\n",
    "\n",
    "从 n 个对象中取出 r 个，这 r 个对象的排列数目：$P_n^r = \\frac{n!}{(n-r)!}$\n",
    "\n",
    "\n",
    "- **组合**\n",
    "\n",
    "从 n 个对象中选出 r 个的数目 $C_n^r = \\frac{n!}{r!(n-r)!}$"
   ]
  },
  {
   "cell_type": "markdown",
   "metadata": {},
   "source": [
    "## 基本概率分布\n",
    "\n",
    "### 几何分布 <font color=\"#dd0000\">**X~Geo(p)**</font><br /> \n",
    "\n",
    "\n",
    "![](几何分布.png)\n",
    "\n",
    "$P(X = r) = p q^{r -1}$ p为发生概率，q=1-p为不发生概率，r为在第几次发生\n",
    "\n",
    "$P(X > r) = q^r$ \n",
    "\n",
    "$P(X \\leq r) = 1- q^r$\n",
    "\n",
    "\n",
    "#### 什么是几何分布\n",
    "\n",
    "- 事件重复发生，且相互独立，概率不变化\n",
    "\n",
    "- 几何分布在第一次发生时概率最大，所以其众数为1\n",
    "\n",
    "\n",
    "#### 什么时候用几何分布\n",
    "\n",
    "- 1、进行一系列的独立实验\n",
    "- 2、单次实验的概率一致\n",
    "- 3、目的是求第一次取得成功需要多少次实验\n",
    "\n",
    "\n",
    "#### 几何分布的期望\n",
    "\n",
    "由 $E(X) = \\sum xP(X=x)$  ---> X ~ Geo(p) 的期望为  $E(X) = \\frac{1}{p}$ \n",
    "\n",
    "#### 几何分布的方差\n",
    "\n",
    "由 $Var(X) = E(X^2) - E^2(X)$  ---->  X~Geo(p) 的方差为 $Var(X)=\\frac{q}{p^2}$"
   ]
  },
  {
   "cell_type": "markdown",
   "metadata": {},
   "source": [
    "### 二项分布  <font color=\"#dd0000\">**X~B(n,p)**</font>\n",
    "\n",
    "\n",
    "![](二项分布.png)\n",
    "\n",
    "#### 什么是二项分布  \n",
    "- 单次事件属于几何分布，但问题是 n 次事件，其中发生 r 次的概率\n",
    "\n",
    "- 二项分布的众数（概率最高的数值）, n为偶数，p=0.5时，众数为np; n 为奇数，p=0.5时，有两个众数，np左右的两个\n",
    "\n",
    "- $P(X = r) = C_n ^r * P^r * (1-p)^{n-r}$\n",
    "\n",
    "\n",
    "#### 二项分布的期望和方差\n",
    "- $E(X) = np$\n",
    "\n",
    "- $Var(X) = np(1-p)$\n"
   ]
  },
  {
   "cell_type": "markdown",
   "metadata": {},
   "source": [
    "### 泊松分布  <font color=\"#dd0000\">**X~Po($\\lambda$)**</font>\n",
    "\n",
    "![](泊松分布.png)\n",
    "\n",
    "#### 什么是泊松分布 \n",
    "- 单独事件在给定区间内随机、独立地发生\n",
    "- 已知该区间内的事件平均发生次数$\\lambda$，且为有限制。\n",
    "\n",
    "\n",
    "$P(X = r) = \\frac{e^{-\\lambda} \\lambda^r}{r!}$\n",
    "\n",
    "#### 泊松分布的期望和方差\n",
    "\n",
    "- $E(X) = \\lambda$\n",
    "\n",
    "- $Var(X) = \\lambda$\n",
    "\n",
    "\n",
    "#### 组合泊松变量\n",
    "\n",
    "- X,Y 都符合泊松分布，则 X+Y 也符合泊松分布\n",
    "- X+Y ~ Po($\\lambda_x + \\lambda_y$)"
   ]
  },
  {
   "cell_type": "markdown",
   "metadata": {},
   "source": [
    "### 泊松分布与二项分布之间的转换\n",
    "\n",
    "- 当 n 很大 且 p 很小时，可以使用 X~Po(np) 近似代替  X~B(n,p)\n",
    "\n",
    "- $ n \\geq 50 且 p \\leq 0.1 $ 为典型的近似情况"
   ]
  },
  {
   "cell_type": "markdown",
   "metadata": {},
   "source": [
    "### 正态分布  <font color=\"#dd0000\">**X~N($\\mu , \\sigma^2$)**</font>\n",
    "\n",
    "![](正态分布.png)\n",
    "![](正态分布2.png)\n",
    "\n",
    "> 前面的概率分布为离散型的概率分布，而正态分布(或者叫高斯分布)为连续性概率分布，处理连续数据时，所计算的是一个数值范围的概率。\n",
    "> 从其概率分布图可以看到，众数，均值位于中央，具有最大的概率密度。\n",
    "\n",
    "#### 概率密度函数 和 概率密度\n",
    "\n",
    "\n",
    "- 概率密度函数： 概率密度线条下方的面积为概率，总面积为1\n",
    "\n",
    "\n",
    "- 概率密度：  指出各个范围内的概率大小，通过概率密度函数进行描述\n",
    "\n",
    "\n",
    "#### 正态分布的期望和方差\n",
    "\n",
    "\n",
    "- $E(X) = \\mu$\n",
    "\n",
    "- $Var(X) = \\sigma^2$\n",
    "\n",
    "\n",
    "#### 求正态分布的概率\n",
    "\n",
    "- 1、确定分布和范围\n",
    "X~N($\\mu , \\sigma^2$)\n",
    "\n",
    "- 2、标准化\n",
    "$Z = \\frac{X - \\mu}{\\sigma}$ (保留两位小数)\n",
    "\n",
    "- 3、查找概率\n",
    "![](正态分布3.png)\n",
    "得到的是P(Z < z) 的概率"
   ]
  },
  {
   "cell_type": "markdown",
   "metadata": {},
   "source": [
    "#### 正态分布的应用\n",
    "\n"
   ]
  },
  {
   "cell_type": "markdown",
   "metadata": {},
   "source": []
  },
  {
   "cell_type": "markdown",
   "metadata": {},
   "source": []
  },
  {
   "cell_type": "markdown",
   "metadata": {},
   "source": []
  },
  {
   "cell_type": "markdown",
   "metadata": {},
   "source": []
  },
  {
   "cell_type": "markdown",
   "metadata": {},
   "source": []
  },
  {
   "cell_type": "markdown",
   "metadata": {},
   "source": []
  },
  {
   "cell_type": "markdown",
   "metadata": {},
   "source": []
  },
  {
   "cell_type": "markdown",
   "metadata": {},
   "source": []
  },
  {
   "cell_type": "markdown",
   "metadata": {},
   "source": []
  },
  {
   "cell_type": "markdown",
   "metadata": {},
   "source": []
  },
  {
   "cell_type": "markdown",
   "metadata": {},
   "source": []
  },
  {
   "cell_type": "markdown",
   "metadata": {},
   "source": []
  },
  {
   "cell_type": "markdown",
   "metadata": {},
   "source": []
  },
  {
   "cell_type": "markdown",
   "metadata": {},
   "source": []
  },
  {
   "cell_type": "markdown",
   "metadata": {},
   "source": []
  }
 ],
 "metadata": {
  "kernelspec": {
   "display_name": "Python 3",
   "language": "python",
   "name": "python3"
  },
  "language_info": {
   "codemirror_mode": {
    "name": "ipython",
    "version": 3
   },
   "file_extension": ".py",
   "mimetype": "text/x-python",
   "name": "python",
   "nbconvert_exporter": "python",
   "pygments_lexer": "ipython3",
   "version": "3.7.2"
  },
  "toc": {
   "base_numbering": 1,
   "nav_menu": {},
   "number_sections": true,
   "sideBar": true,
   "skip_h1_title": false,
   "title_cell": "Table of Contents",
   "title_sidebar": "Contents",
   "toc_cell": false,
   "toc_position": {},
   "toc_section_display": true,
   "toc_window_display": true
  }
 },
 "nbformat": 4,
 "nbformat_minor": 2
}
