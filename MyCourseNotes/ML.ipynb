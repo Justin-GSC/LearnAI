{
 "cells": [
  {
   "cell_type": "markdown",
   "metadata": {},
   "source": [
    "# > 基础知识\n",
    "\n",
    "> - 范数：1-范数：║x║1=│x1│+│x2│+…+│xn│； 2-范数：║x║2=（│x1│2+│x2│2+…+│xn│2）1/2 ；∞-范数：║x║∞=max（│x1│，│x2│，…，│xn│）\n",
    "> - 最小二乘法：Least squares 使得整体误差平方和最小，$\\sum(y-y_i)^2$ 最小的y为期望的y值\n",
    "> - 矩阵的秩：无法通过初等变换使得行向量或列向量为0的向量个数\n",
    "> - 满秩矩阵：秩矩阵的阶数，也就是行数或者列数\n",
    "> - [正定矩阵](https://baike.baidu.com/item/%E6%AD%A3%E5%AE%9A%E7%9F%A9%E9%98%B5): $A^TMA > 0$ ，M为正定矩阵"
   ]
  },
  {
   "cell_type": "code",
   "execution_count": null,
   "metadata": {},
   "outputs": [],
   "source": []
  }
 ],
 "metadata": {
  "kernelspec": {
   "display_name": "Python 3",
   "language": "python",
   "name": "python3"
  },
  "language_info": {
   "codemirror_mode": {
    "name": "ipython",
    "version": 3
   },
   "file_extension": ".py",
   "mimetype": "text/x-python",
   "name": "python",
   "nbconvert_exporter": "python",
   "pygments_lexer": "ipython3",
   "version": "3.7.2"
  },
  "toc": {
   "base_numbering": 1,
   "nav_menu": {},
   "number_sections": true,
   "sideBar": true,
   "skip_h1_title": false,
   "title_cell": "Table of Contents",
   "title_sidebar": "Contents",
   "toc_cell": false,
   "toc_position": {},
   "toc_section_display": true,
   "toc_window_display": false
  }
 },
 "nbformat": 4,
 "nbformat_minor": 2
}
