{
 "cells": [
  {
   "cell_type": "markdown",
   "metadata": {},
   "source": [
    "# 微分学与梯度下降\n",
    "\n",
    "## 微分学核心思想： 函数逼近\n",
    "> 逼近是探讨复杂问题时经常使用的一种手段。\n",
    "\n",
    "* 使用熟悉且简单的函数对复杂函数进行 局部 逼近\n",
    "* 常用作逼近的简单函数：\n",
    "* * 线性函数（一次函数）：函数的一阶导数\n",
    "* * 多项式函数（高次函数）：泰勒级数"
   ]
  },
  {
   "cell_type": "markdown",
   "metadata": {},
   "source": [
    "## 微分学基础语言：极限论\n",
    "### 极限的表述方式\n",
    "\n",
    "* 自然语言：当x趋于a时，f(x)的极限是L\n",
    "* 数学符号：$\\lim_{x\\rightarrow \\alpha}f(x) = L $\n",
    "* 标准语言：对于任意的\n"
   ]
  },
  {
   "cell_type": "markdown",
   "metadata": {},
   "source": [
    "* 无穷小：一般把趋于零的极限成为无穷小\n",
    "\n",
    "* 无穷小阶数：趋于零的速度越快的无穷小，其阶数越高。比如,$x^n$ ,记作o($x^n$)"
   ]
  },
  {
   "cell_type": "markdown",
   "metadata": {},
   "source": [
    "### 两边夹定理\n",
    "\n",
    "> 如果 f(x) < g(x) < h(x) ， 而且这三个函数都在 a 点处有极限，那么，\n",
    "$\\lim_{x\\rightarrow \\alpha} f(x) $ <= $\\lim_{x\\rightarrow \\alpha} g(x) $ <= $\\lim_{x\\rightarrow \\alpha} h(x) $ "
   ]
  },
  {
   "cell_type": "markdown",
   "metadata": {},
   "source": [
    "![](./01.png)\n",
    "\n",
    "### 重要极限（两边夹定理的应用）\n",
    "\n",
    "* 三角函数：$\\lim_{x\\rightarrow0}\\frac{\\sin(x)}{x} = 1$\n",
    "* 自然对数底数：$e = \\lim_{n\\rightarrow\\infty}(1 + \\frac{1}{n})^n$\n",
    "* 指数函数：$\\lim_{x\\rightarrow0}\\frac{e^x - 1}{x} = 1$"
   ]
  },
  {
   "cell_type": "markdown",
   "metadata": {},
   "source": [
    "## 微分学基本手法：求导数\n",
    "\n",
    "**一阶导数**\n",
    "* 几何意义：用直线逼近曲线\n",
    "* 代数意义：用线性函数逼近复杂函数"
   ]
  },
  {
   "cell_type": "markdown",
   "metadata": {},
   "source": []
  },
  {
   "cell_type": "markdown",
   "metadata": {},
   "source": []
  },
  {
   "cell_type": "markdown",
   "metadata": {},
   "source": [
    "\n"
   ]
  },
  {
   "cell_type": "markdown",
   "metadata": {},
   "source": [
    "\n"
   ]
  },
  {
   "cell_type": "markdown",
   "metadata": {},
   "source": []
  },
  {
   "cell_type": "markdown",
   "metadata": {},
   "source": []
  }
 ],
 "metadata": {
  "kernelspec": {
   "display_name": "Python 3",
   "language": "python",
   "name": "python3"
  },
  "language_info": {
   "codemirror_mode": {
    "name": "ipython",
    "version": 3
   },
   "file_extension": ".py",
   "mimetype": "text/x-python",
   "name": "python",
   "nbconvert_exporter": "python",
   "pygments_lexer": "ipython3",
   "version": "3.7.2"
  },
  "toc": {
   "base_numbering": 1,
   "nav_menu": {},
   "number_sections": true,
   "sideBar": true,
   "skip_h1_title": false,
   "title_cell": "Table of Contents",
   "title_sidebar": "Contents",
   "toc_cell": false,
   "toc_position": {},
   "toc_section_display": true,
   "toc_window_display": true
  }
 },
 "nbformat": 4,
 "nbformat_minor": 2
}
