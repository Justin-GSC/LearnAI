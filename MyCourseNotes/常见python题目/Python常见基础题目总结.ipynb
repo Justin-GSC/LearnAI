{
 "cells": [
  {
   "cell_type": "markdown",
   "metadata": {},
   "source": [
    "# 字符串按单词反转"
   ]
  },
  {
   "cell_type": "code",
   "execution_count": 1,
   "metadata": {},
   "outputs": [
    {
     "name": "stdout",
     "output_type": "stream",
     "text": [
      " I LOVE CHINA  ! \n"
     ]
    }
   ],
   "source": [
    "def reverse(ls,start,end):\n",
    "    while start < end:\n",
    "        ls[start],ls[end] = ls[end],ls[start]\n",
    "        start += 1\n",
    "        end -= 1\n",
    "\n",
    "sentences = \" I LOVE CHINA  ! \"\n",
    "ls = list(sentences)\n",
    "i = 0\n",
    "while i < len(ls):\n",
    "    if ls[i] != '':\n",
    "        start = i\n",
    "        end = start + 1\n",
    "        while (end < len(ls)) and ls[end] != '':\n",
    "            end += 1\n",
    "        reverse(ls,start, end - 1)\n",
    "        i =end\n",
    "    else:\n",
    "        i += 1\n",
    "ls.reverse()\n",
    "print(\"\".join(ls))"
   ]
  },
  {
   "cell_type": "markdown",
   "metadata": {},
   "source": [
    "# 所有素数"
   ]
  },
  {
   "cell_type": "code",
   "execution_count": 1,
   "metadata": {},
   "outputs": [
    {
     "name": "stdout",
     "output_type": "stream",
     "text": [
      "请输入获取素数的最大数：5\n",
      "2\n",
      "[2, 3]\n"
     ]
    }
   ],
   "source": [
    "def pri(n):\n",
    "    if n == 0 or n ==1:\n",
    "        return False\n",
    "    elif n ==2:\n",
    "        return True\n",
    "    for i in range(2,n//2+1):\n",
    "        if n % i == 0:\n",
    "            return False\n",
    "    else:\n",
    "        return True\n",
    "    \n",
    "def main():\n",
    "    limit = eval(input('请输入获取素数的最大数：'))\n",
    "    ls_pri = []\n",
    "    count = 0\n",
    "    for i in range(limit):\n",
    "        if pri(i):\n",
    "            count += 1\n",
    "            ls_pri.append(i)\n",
    "    print(count)\n",
    "    return ls_pri\n",
    "        \n",
    "ls = main()\n",
    "print(ls)\n",
    "    "
   ]
  },
  {
   "cell_type": "markdown",
   "metadata": {},
   "source": [
    "# 汉诺塔-递归"
   ]
  },
  {
   "cell_type": "code",
   "execution_count": 2,
   "metadata": {},
   "outputs": [
    {
     "name": "stdout",
     "output_type": "stream",
     "text": [
      "1 A->B\n",
      "2 A->C\n",
      "1 C->B\n",
      "3 A->C\n",
      "1 C->B\n",
      "2 C->A\n",
      "1 A->B\n"
     ]
    }
   ],
   "source": [
    "def hanoi(n,a,c,b):\n",
    "    count = 0\n",
    "    if n < 1:\n",
    "        print('ValueErrotr')\n",
    "    elif n == 1:\n",
    "        print(n,a + '->' + c)\n",
    "        count += 1\n",
    "    else:\n",
    "        hanoi(n-1,a,c,b)\n",
    "        print(n,a + '->' + b)\n",
    "        count += 1\n",
    "        hanoi(n-1,b,c,a)\n",
    "\n",
    "hanoi(3,'A','B','C')"
   ]
  },
  {
   "cell_type": "code",
   "execution_count": null,
   "metadata": {},
   "outputs": [],
   "source": []
  }
 ],
 "metadata": {
  "kernelspec": {
   "display_name": "Python 3",
   "language": "python",
   "name": "python3"
  },
  "language_info": {
   "codemirror_mode": {
    "name": "ipython",
    "version": 3
   },
   "file_extension": ".py",
   "mimetype": "text/x-python",
   "name": "python",
   "nbconvert_exporter": "python",
   "pygments_lexer": "ipython3",
   "version": "3.7.2"
  }
 },
 "nbformat": 4,
 "nbformat_minor": 2
}
