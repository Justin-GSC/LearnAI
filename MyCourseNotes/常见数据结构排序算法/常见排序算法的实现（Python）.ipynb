{
 "cells": [
  {
   "cell_type": "markdown",
   "metadata": {},
   "source": [
    "# 常见排序算法的实现（Python）\n",
    "> 说到排序，马上想到使用sort，但是基础的排序算法，还是需要好好了解的。\n",
    "\n",
    "* 冒泡排序\n",
    "* 插入排序\n",
    "* 快速排序\n",
    "\n",
    "## 冒泡排序\n",
    "![](https://ws1.sinaimg.cn/large/006tNc79gy1g1uf615nswg306o0a0qv6.gif)\n",
    "\n",
    "> 两两比较，较小的移到左边，较大的移到右边，一直重复，直到所有的比较都不再变化。\n",
    "\n",
    "> **算法复杂度为O(n^2)**"
   ]
  },
  {
   "cell_type": "code",
   "execution_count": 5,
   "metadata": {},
   "outputs": [
    {
     "data": {
      "text/plain": [
       "[0, 1, 2, 3, 4, 5, 6, 7, 8, 9]"
      ]
     },
     "execution_count": 5,
     "metadata": {},
     "output_type": "execute_result"
    }
   ],
   "source": [
    "ls = [0,3,4,2,1,5,8,7,9,6]\n",
    "\n",
    "for k in range(len(ls)):\n",
    "    for i in range(len(ls) - 1):\n",
    "        if ls[i] > ls[i+1]:\n",
    "            ls[i],ls[i+1] = ls[i+1],ls[i]\n",
    "\n",
    "ls"
   ]
  },
  {
   "cell_type": "markdown",
   "metadata": {},
   "source": [
    "## 插入排序\n",
    "\n",
    "![插入排序](https://ws1.sinaimg.cn/large/006tNc79gy1g1ufvr9ybsg307s09chdt.gif)\n",
    "\n",
    "> 依次将数值插入到前面已完成排序的序列中，直到所有数值插入完毕。\n",
    "\n",
    "> **算法复杂度O(n^2)**\n"
   ]
  },
  {
   "cell_type": "code",
   "execution_count": 69,
   "metadata": {},
   "outputs": [],
   "source": [
    "ls = [0,3,4,2,1,5,8,7,9,6,12,19,17]"
   ]
  },
  {
   "cell_type": "code",
   "execution_count": 67,
   "metadata": {
    "scrolled": true
   },
   "outputs": [
    {
     "data": {
      "text/plain": [
       "[19, 17, 12, 9, 8, 7, 6, 5, 4, 3, 2, 1, 0]"
      ]
     },
     "execution_count": 67,
     "metadata": {},
     "output_type": "execute_result"
    }
   ],
   "source": [
    "ls_new = []\n",
    "for i in range(len(ls)):\n",
    "    if i == 0:\n",
    "        ls_new.append(ls[i])\n",
    "    for k in range(len(ls_new)):\n",
    "        if ls_new[k] < ls[i]:\n",
    "            ls_new = ls_new[:k] + ls[i:i+1] + ls_new[k:]\n",
    "            break\n",
    "ls_new"
   ]
  },
  {
   "cell_type": "markdown",
   "metadata": {},
   "source": [
    "### 快速排序"
   ]
  },
  {
   "cell_type": "code",
   "execution_count": 7,
   "metadata": {},
   "outputs": [],
   "source": [
    "def quicksort(arr):\n",
    "    if len(arr) <= 1:\n",
    "        return arr\n",
    "    \n",
    "    pivot = arr[len(arr) // 2]\n",
    "    \n",
    "    left = [x for x in arr if x < pivot]\n",
    "    \n",
    "    middle = [x for x in arr if x == pivot]\n",
    "    \n",
    "    right = [x for x in arr if x > pivot]\n",
    "    \n",
    "    return quicksort(left) + middle + quicksort(right)"
   ]
  },
  {
   "cell_type": "code",
   "execution_count": 8,
   "metadata": {},
   "outputs": [
    {
     "name": "stdout",
     "output_type": "stream",
     "text": [
      "[0, 1, 2, 3, 4, 5, 7]\n"
     ]
    }
   ],
   "source": [
    "print(quicksort([3,2,4,1,0,7,5]))"
   ]
  },
  {
   "cell_type": "markdown",
   "metadata": {},
   "source": [
    "### 选择排序"
   ]
  },
  {
   "cell_type": "code",
   "execution_count": 1,
   "metadata": {},
   "outputs": [
    {
     "data": {
      "text/plain": [
       "[1, 2, 3, 4, 5, 6, 7, 8, 9]"
      ]
     },
     "execution_count": 1,
     "metadata": {},
     "output_type": "execute_result"
    }
   ],
   "source": [
    "ls = [7,1,4,6,8,9,5,3,2]\n",
    "\n",
    "\n",
    "for i in range(len(ls)):\n",
    "    mini = ls[i]\n",
    "    for k in range(i,len(ls)):\n",
    "        if ls[k] <= mini:\n",
    "            mini = ls[k]\n",
    "    ls[ls.index(mini)] = ls[i]\n",
    "    ls[i] = mini\n",
    "\n",
    "ls"
   ]
  },
  {
   "cell_type": "markdown",
   "metadata": {},
   "source": [
    "### 希尔排序"
   ]
  },
  {
   "cell_type": "code",
   "execution_count": null,
   "metadata": {},
   "outputs": [],
   "source": [
    "ls = [7,1,4,6,8,9,5,3,2]\n",
    "\n",
    "for "
   ]
  },
  {
   "cell_type": "markdown",
   "metadata": {},
   "source": [
    "### 合并排序"
   ]
  },
  {
   "cell_type": "markdown",
   "metadata": {},
   "source": [
    "### 快速排序"
   ]
  },
  {
   "cell_type": "markdown",
   "metadata": {},
   "source": [
    "### 堆积排序法"
   ]
  },
  {
   "cell_type": "markdown",
   "metadata": {},
   "source": [
    "### 基数排序法"
   ]
  },
  {
   "cell_type": "markdown",
   "metadata": {},
   "source": [
    "## 外部排序法\n",
    "\n",
    "### 直接合并排序法\n",
    "### K 路合并法\n",
    "### 多相合并法"
   ]
  },
  {
   "cell_type": "code",
   "execution_count": null,
   "metadata": {},
   "outputs": [],
   "source": []
  },
  {
   "cell_type": "markdown",
   "metadata": {},
   "source": [
    "## 查找方法（常见查找法）\n",
    "\n",
    "### 顺序查找法\n",
    "### 二分查找法\n",
    "### 插值查找法\n",
    "### 斐波那契查找法\n"
   ]
  },
  {
   "cell_type": "markdown",
   "metadata": {},
   "source": []
  }
 ],
 "metadata": {
  "kernelspec": {
   "display_name": "Python 3",
   "language": "python",
   "name": "python3"
  },
  "language_info": {
   "codemirror_mode": {
    "name": "ipython",
    "version": 3
   },
   "file_extension": ".py",
   "mimetype": "text/x-python",
   "name": "python",
   "nbconvert_exporter": "python",
   "pygments_lexer": "ipython3",
   "version": "3.7.1"
  }
 },
 "nbformat": 4,
 "nbformat_minor": 2
}
