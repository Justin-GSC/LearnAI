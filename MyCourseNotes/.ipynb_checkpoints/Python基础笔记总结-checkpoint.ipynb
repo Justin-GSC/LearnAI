{
 "cells": [
  {
   "cell_type": "code",
   "execution_count": 8,
   "metadata": {
    "ExecuteTime": {
     "end_time": "2019-05-15T03:00:26.666150Z",
     "start_time": "2019-05-15T03:00:26.654242Z"
    }
   },
   "outputs": [],
   "source": [
    "%config ZMQInteractiveShell.ast_node_interactivity=\"all\""
   ]
  },
  {
   "cell_type": "markdown",
   "metadata": {},
   "source": [
    "# 什么是Python"
   ]
  },
  {
   "cell_type": "markdown",
   "metadata": {},
   "source": [
    "> Python 是一种”优雅“，”明确“，”简单“的胶水语言。"
   ]
  },
  {
   "cell_type": "markdown",
   "metadata": {},
   "source": [
    "## Python 源码目录结构"
   ]
  },
  {
   "cell_type": "markdown",
   "metadata": {},
   "source": [
    "* Include----这个目录包含了Python的所有头文件。\n",
    "\n",
    "* Lib----这里是Python标准库，都是用Python实现的。\n",
    "\n",
    "* Modules----用C语言编写的模块，比如cStringIO / tkinter 高性能实现。\n",
    "\n",
    "* Objects----Python 内建对象，如int/list的实现。\n",
    "\n",
    "* Parser----Python解释器的Scanner 和 Parser。\n",
    "\n",
    "* Python----Python 解释器的Compiler和执行引擎，运行核心。"
   ]
  },
  {
   "cell_type": "code",
   "execution_count": 313,
   "metadata": {
    "ExecuteTime": {
     "end_time": "2019-05-09T08:45:46.138577Z",
     "start_time": "2019-05-09T08:45:45.994033Z"
    },
    "scrolled": true
   },
   "outputs": [
    {
     "data": {
      "text/plain": [
       "'/Users/juschao/Documents/anaconda3'"
      ]
     },
     "execution_count": 313,
     "metadata": {},
     "output_type": "execute_result"
    },
    {
     "name": "stdout",
     "output_type": "stream",
     "text": [
      "ls: /Users/juschao/Documents/anaconda3: No such file or directory\r\n"
     ]
    }
   ],
   "source": [
    "import os\n",
    "os.path.abspath(\".././anaconda3\")\n",
    "%ls /Users/juschao/Documents/anaconda3"
   ]
  },
  {
   "cell_type": "markdown",
   "metadata": {},
   "source": [
    "## Python的解释"
   ]
  },
  {
   "cell_type": "markdown",
   "metadata": {},
   "source": [
    "> .py --\\> (编译器) --\\> .pyc --\\> 解释器（虚拟机） --\\> 结果"
   ]
  },
  {
   "cell_type": "markdown",
   "metadata": {},
   "source": [
    "1、对文件中的Python源代码进行编译\n",
    "\n",
    "产生一组Python的字节码\n",
    "\n",
    "PyCodeObject对象\n",
    "\n",
    "pyc文件是字节码在磁盘上的表现形式\n",
    "\n",
    "2、PyCodeObject对象交给Python虚拟机\n",
    "\n",
    "3、虚拟机按照顺序，一条一条地执行字节码，执行Python程序"
   ]
  },
  {
   "cell_type": "markdown",
   "metadata": {},
   "source": [
    "* **PyCodeObject**\n",
    "\n",
    "**PyCodeObject 对象是其真正的编译结果**\n",
    "\n",
    "**pyc文件只是对象持久化表现形式**\n",
    "\n",
    "**pyc在运行时以PyStringObject形式存在PyCodeObject的co_code域里（只包含指令）**\n",
    "\n",
    "**co_code是二进制流**\n",
    "\n",
    "**使用Disassemble反汇编模块PyCodeProject**"
   ]
  },
  {
   "cell_type": "markdown",
   "metadata": {},
   "source": [
    "## Python 解释器"
   ]
  },
  {
   "cell_type": "markdown",
   "metadata": {},
   "source": [
    "* C 语言实现的对Python的解释器 CPython\n",
    "* Python 实现的 PyPy\n",
    "* .Net 实现的 IronPython"
   ]
  },
  {
   "cell_type": "markdown",
   "metadata": {},
   "source": [
    "* CPython 中的两个栈\n",
    "\n",
    "执行栈Evaluation Stack : 储存指令操作数\n",
    "\n",
    "块栈 Block Stack : 存储循环，异常等信息"
   ]
  },
  {
   "cell_type": "markdown",
   "metadata": {},
   "source": [
    "## 运行"
   ]
  },
  {
   "cell_type": "markdown",
   "metadata": {},
   "source": [
    "* 交互式运行------notebook\n",
    "\n",
    "* 解释式运行------python name.py"
   ]
  },
  {
   "cell_type": "markdown",
   "metadata": {},
   "source": [
    "## 表达式与声明"
   ]
  },
  {
   "cell_type": "markdown",
   "metadata": {},
   "source": [
    "* exec 执行声明语句\n",
    "* eval 执行表达式"
   ]
  },
  {
   "cell_type": "code",
   "execution_count": 386,
   "metadata": {
    "ExecuteTime": {
     "end_time": "2019-05-10T02:51:49.375343Z",
     "start_time": "2019-05-10T02:51:44.236941Z"
    }
   },
   "outputs": [
    {
     "name": "stdout",
     "output_type": "stream",
     "text": [
      "x = 2\n"
     ]
    }
   ],
   "source": [
    "# 用户输入的内容，转换为声明或者表达\n",
    "\n",
    "a = input()"
   ]
  },
  {
   "cell_type": "code",
   "execution_count": 389,
   "metadata": {
    "ExecuteTime": {
     "end_time": "2019-05-10T02:52:20.479533Z",
     "start_time": "2019-05-10T02:52:20.471463Z"
    }
   },
   "outputs": [
    {
     "name": "stdout",
     "output_type": "stream",
     "text": [
      "None\n"
     ]
    },
    {
     "data": {
      "text/plain": [
       "2"
      ]
     },
     "execution_count": 389,
     "metadata": {},
     "output_type": "execute_result"
    }
   ],
   "source": [
    "exec(a)\n",
    "x"
   ]
  },
  {
   "cell_type": "code",
   "execution_count": 394,
   "metadata": {
    "ExecuteTime": {
     "end_time": "2019-05-10T02:53:48.664578Z",
     "start_time": "2019-05-10T02:53:46.142384Z"
    },
    "scrolled": true
   },
   "outputs": [
    {
     "name": "stdout",
     "output_type": "stream",
     "text": [
      "5\n"
     ]
    },
    {
     "data": {
      "text/plain": [
       "str"
      ]
     },
     "execution_count": 394,
     "metadata": {},
     "output_type": "execute_result"
    }
   ],
   "source": [
    "a = input()\n",
    "type(a)"
   ]
  },
  {
   "cell_type": "code",
   "execution_count": 393,
   "metadata": {
    "ExecuteTime": {
     "end_time": "2019-05-10T02:53:39.527440Z",
     "start_time": "2019-05-10T02:53:39.520732Z"
    }
   },
   "outputs": [
    {
     "data": {
      "text/plain": [
       "int"
      ]
     },
     "execution_count": 393,
     "metadata": {},
     "output_type": "execute_result"
    }
   ],
   "source": [
    "type(eval(a))"
   ]
  },
  {
   "cell_type": "markdown",
   "metadata": {},
   "source": [
    "## 关键字、标识符、标准操作符、名字、赋值与名字空间"
   ]
  },
  {
   "cell_type": "markdown",
   "metadata": {},
   "source": [
    "### Python的保留关键字"
   ]
  },
  {
   "cell_type": "code",
   "execution_count": 345,
   "metadata": {
    "ExecuteTime": {
     "end_time": "2019-05-10T01:29:43.074883Z",
     "start_time": "2019-05-10T01:29:43.070319Z"
    }
   },
   "outputs": [
    {
     "name": "stdout",
     "output_type": "stream",
     "text": [
      "['False', 'None', 'True', 'and', 'as', 'assert', 'async', 'await', 'break', 'class', 'continue', 'def', 'del', 'elif', 'else', 'except', 'finally', 'for', 'from', 'global', 'if', 'import', 'in', 'is', 'lambda', 'nonlocal', 'not', 'or', 'pass', 'raise', 'return', 'try', 'while', 'with', 'yield']\n"
     ]
    }
   ],
   "source": [
    "#查看保留关键词列表\n",
    "\n",
    "import keyword\n",
    "print(keyword.kwlist)"
   ]
  },
  {
   "cell_type": "markdown",
   "metadata": {},
   "source": [
    "### 合法的标识符"
   ]
  },
  {
   "cell_type": "markdown",
   "metadata": {},
   "source": [
    "* 数字，下划线，字母构成\n",
    "* 避开关键字\n",
    "* 不能以数字开头\n",
    "* 避开内置电池函数"
   ]
  },
  {
   "cell_type": "markdown",
   "metadata": {},
   "source": [
    "> 使用del 解除 名字与对象的关联 del a\n",
    "\n",
    "> 使用 =  建立 名字与对象的关联 a = 7"
   ]
  },
  {
   "cell_type": "markdown",
   "metadata": {},
   "source": [
    "### 标准操作符"
   ]
  },
  {
   "cell_type": "markdown",
   "metadata": {},
   "source": [
    "#### 算术运算符"
   ]
  },
  {
   "cell_type": "markdown",
   "metadata": {},
   "source": [
    "+ ，-， *， /， //，%，**， "
   ]
  },
  {
   "cell_type": "markdown",
   "metadata": {},
   "source": [
    "#### 比较运算符"
   ]
  },
  {
   "cell_type": "markdown",
   "metadata": {},
   "source": [
    "<，>，==，<=，>=，!="
   ]
  },
  {
   "cell_type": "markdown",
   "metadata": {},
   "source": [
    "#### 逻辑运算符"
   ]
  },
  {
   "cell_type": "markdown",
   "metadata": {},
   "source": [
    "and，or，not"
   ]
  },
  {
   "cell_type": "markdown",
   "metadata": {},
   "source": [
    "#### 赋值运算符  ="
   ]
  },
  {
   "cell_type": "markdown",
   "metadata": {},
   "source": [
    "* 多重赋值"
   ]
  },
  {
   "cell_type": "code",
   "execution_count": 350,
   "metadata": {
    "ExecuteTime": {
     "end_time": "2019-05-10T01:38:02.131084Z",
     "start_time": "2019-05-10T01:38:02.126416Z"
    }
   },
   "outputs": [
    {
     "name": "stdout",
     "output_type": "stream",
     "text": [
      "100 100\n"
     ]
    }
   ],
   "source": [
    "a = b = 100\n",
    "print(a,b)"
   ]
  },
  {
   "cell_type": "markdown",
   "metadata": {},
   "source": [
    "* 多元赋值"
   ]
  },
  {
   "cell_type": "code",
   "execution_count": 351,
   "metadata": {
    "ExecuteTime": {
     "end_time": "2019-05-10T01:39:51.085561Z",
     "start_time": "2019-05-10T01:39:51.078783Z"
    }
   },
   "outputs": [
    {
     "name": "stdout",
     "output_type": "stream",
     "text": [
      "100 200 300\n"
     ]
    }
   ],
   "source": [
    "a,b,c = 100,200,300\n",
    "print(a,b,c)"
   ]
  },
  {
   "cell_type": "markdown",
   "metadata": {},
   "source": [
    "* 交换赋值"
   ]
  },
  {
   "cell_type": "code",
   "execution_count": 352,
   "metadata": {
    "ExecuteTime": {
     "end_time": "2019-05-10T01:40:36.825497Z",
     "start_time": "2019-05-10T01:40:36.819943Z"
    }
   },
   "outputs": [
    {
     "name": "stdout",
     "output_type": "stream",
     "text": [
      "200 100\n"
     ]
    }
   ],
   "source": [
    "a,b = 100,200\n",
    "a,b = b,a\n",
    "print(a,b)"
   ]
  },
  {
   "cell_type": "markdown",
   "metadata": {},
   "source": [
    "* unpack 解包"
   ]
  },
  {
   "cell_type": "code",
   "execution_count": 353,
   "metadata": {
    "ExecuteTime": {
     "end_time": "2019-05-10T01:43:03.979356Z",
     "start_time": "2019-05-10T01:43:03.968593Z"
    }
   },
   "outputs": [
    {
     "name": "stdout",
     "output_type": "stream",
     "text": [
      "1 2 3 4\n"
     ]
    }
   ],
   "source": [
    "ls = [1,2,3,4]\n",
    "a,b,c,d = ls\n",
    "print(a,b,c,d)"
   ]
  },
  {
   "cell_type": "markdown",
   "metadata": {},
   "source": [
    "* *号收集"
   ]
  },
  {
   "cell_type": "code",
   "execution_count": 354,
   "metadata": {
    "ExecuteTime": {
     "end_time": "2019-05-10T01:43:52.869937Z",
     "start_time": "2019-05-10T01:43:52.857816Z"
    }
   },
   "outputs": [
    {
     "name": "stdout",
     "output_type": "stream",
     "text": [
      "1 [2, 3] 4\n"
     ]
    }
   ],
   "source": [
    "ls = [1,2,3,4]\n",
    "a,*b,c = ls\n",
    "print(a,b,c)"
   ]
  },
  {
   "cell_type": "markdown",
   "metadata": {},
   "source": [
    "* *号展开，针对序列"
   ]
  },
  {
   "cell_type": "code",
   "execution_count": 361,
   "metadata": {
    "ExecuteTime": {
     "end_time": "2019-05-10T01:46:31.283247Z",
     "start_time": "2019-05-10T01:46:31.277754Z"
    }
   },
   "outputs": [
    {
     "name": "stdout",
     "output_type": "stream",
     "text": [
      "(1, 2, 3, 4, 'a', 'b', 'c', 'd')\n",
      "[1, 2, 3, 4, 'a', 'b', 'c', 'd']\n"
     ]
    }
   ],
   "source": [
    "ls = [1,2,3,4]\n",
    "s1 = \"abcd\"\n",
    "\n",
    "print((*ls,*s1))\n",
    "print([*ls,*s1])"
   ]
  },
  {
   "cell_type": "markdown",
   "metadata": {},
   "source": [
    "* *号展开，针对字典"
   ]
  },
  {
   "cell_type": "code",
   "execution_count": 365,
   "metadata": {
    "ExecuteTime": {
     "end_time": "2019-05-10T01:48:35.073379Z",
     "start_time": "2019-05-10T01:48:35.066620Z"
    }
   },
   "outputs": [
    {
     "data": {
      "text/plain": [
       "(['name', 'age', 'sex'],\n",
       " {'name': 'Bob', 'age': 25, 'sex': 'male', 'date': '2019-05-10'},\n",
       " ['Bob', 25, 'male'])"
      ]
     },
     "execution_count": 365,
     "metadata": {},
     "output_type": "execute_result"
    }
   ],
   "source": [
    "d1 = {\"name\":\"Bob\",\"age\":25,\"sex\":\"male\"}\n",
    "[*d1],{**d1,\"date\":\"2019-05-10\"},[*d1.values()]"
   ]
  },
  {
   "cell_type": "markdown",
   "metadata": {},
   "source": [
    "* ，号放在最后的解包"
   ]
  },
  {
   "cell_type": "code",
   "execution_count": 371,
   "metadata": {
    "ExecuteTime": {
     "end_time": "2019-05-10T01:50:39.052657Z",
     "start_time": "2019-05-10T01:50:39.047649Z"
    }
   },
   "outputs": [
    {
     "name": "stdout",
     "output_type": "stream",
     "text": [
      "[1, 2, 3, 4, 5]\n"
     ]
    }
   ],
   "source": [
    "ls = [[1,2,3,4,5]]\n",
    "a = ls\n",
    "b, = ls\n",
    "print(b)"
   ]
  },
  {
   "cell_type": "markdown",
   "metadata": {},
   "source": [
    "#### 复合运算符"
   ]
  },
  {
   "cell_type": "markdown",
   "metadata": {},
   "source": [
    "+=，-=，*=，/=，**= ，//=，%="
   ]
  },
  {
   "cell_type": "markdown",
   "metadata": {},
   "source": [
    "#### 位运算符"
   ]
  },
  {
   "cell_type": "markdown",
   "metadata": {},
   "source": [
    "& 与 \n",
    "\n",
    "| 与\n",
    "\n",
    "^ 异或\n",
    "\n",
    "~ 去反\n",
    "\n",
    "<< 左移\n",
    "\n",
    "\\>> 右移"
   ]
  },
  {
   "cell_type": "markdown",
   "metadata": {},
   "source": [
    "#### 运算符的优先级"
   ]
  },
  {
   "cell_type": "markdown",
   "metadata": {},
   "source": [
    "* 1、函数调用、寻址、下标\n",
    "* 2、幂运算 **\n",
    "* 3、翻转运算符 ~\n",
    "* 4、正负号\n",
    "* 5、* / %\n",
    "* 6、+ -"
   ]
  },
  {
   "cell_type": "markdown",
   "metadata": {},
   "source": [
    "### 名字、赋值与名字空间"
   ]
  },
  {
   "cell_type": "markdown",
   "metadata": {},
   "source": [
    "局部作用域 Local\n",
    "\n",
    "全局作用域 Global"
   ]
  },
  {
   "cell_type": "code",
   "execution_count": 373,
   "metadata": {
    "ExecuteTime": {
     "end_time": "2019-05-10T01:54:54.811158Z",
     "start_time": "2019-05-10T01:54:52.654371Z"
    },
    "scrolled": true
   },
   "outputs": [
    {
     "name": "stdout",
     "output_type": "stream",
     "text": [
      "Once deleted, variables cannot be recovered. Proceed (y/[n])? y\n"
     ]
    },
    {
     "name": "stderr",
     "output_type": "stream",
     "text": [
      "ERROR:root:Invalid alias: The name clear can't be aliased because it is another magic command.\n",
      "ERROR:root:Invalid alias: The name more can't be aliased because it is another magic command.\n",
      "ERROR:root:Invalid alias: The name less can't be aliased because it is another magic command.\n",
      "ERROR:root:Invalid alias: The name man can't be aliased because it is another magic command.\n"
     ]
    }
   ],
   "source": [
    "%reset"
   ]
  },
  {
   "cell_type": "code",
   "execution_count": 376,
   "metadata": {
    "ExecuteTime": {
     "end_time": "2019-05-10T01:56:43.616907Z",
     "start_time": "2019-05-10T01:56:43.611621Z"
    }
   },
   "outputs": [
    {
     "name": "stdout",
     "output_type": "stream",
     "text": [
      "Variable   Type    Data/Info\n",
      "----------------------------\n",
      "a          str     asd\n"
     ]
    }
   ],
   "source": [
    "a = \"asd\"\n",
    "%whos"
   ]
  },
  {
   "cell_type": "code",
   "execution_count": 384,
   "metadata": {
    "ExecuteTime": {
     "end_time": "2019-05-10T02:49:34.164075Z",
     "start_time": "2019-05-10T02:49:34.157683Z"
    },
    "scrolled": false
   },
   "outputs": [
    {
     "name": "stdout",
     "output_type": "stream",
     "text": [
      "['ArithmeticError', 'AssertionError', 'AttributeError', 'BaseException', 'BlockingIOError', 'BrokenPipeError', 'BufferError', 'BytesWarning', 'ChildProcessError', 'ConnectionAbortedError', 'ConnectionError', 'ConnectionRefusedError', 'ConnectionResetError', 'DeprecationWarning', 'EOFError', 'Ellipsis', 'EnvironmentError', 'Exception', 'False', 'FileExistsError', 'FileNotFoundError', 'FloatingPointError', 'FutureWarning', 'GeneratorExit', 'IOError', 'ImportError', 'ImportWarning', 'IndentationError', 'IndexError', 'InterruptedError', 'IsADirectoryError', 'KeyError', 'KeyboardInterrupt', 'LookupError', 'MemoryError', 'ModuleNotFoundError', 'NameError', 'None', 'NotADirectoryError', 'NotImplemented', 'NotImplementedError', 'OSError', 'OverflowError', 'PendingDeprecationWarning', 'PermissionError', 'ProcessLookupError', 'RecursionError', 'ReferenceError', 'ResourceWarning', 'RuntimeError', 'RuntimeWarning', 'StopAsyncIteration', 'StopIteration', 'SyntaxError', 'SyntaxWarning', 'SystemError', 'SystemExit', 'TabError', 'TimeoutError', 'True', 'TypeError', 'UnboundLocalError', 'UnicodeDecodeError', 'UnicodeEncodeError', 'UnicodeError', 'UnicodeTranslateError', 'UnicodeWarning', 'UserWarning', 'ValueError', 'Warning', 'ZeroDivisionError', '__IPYTHON__', '__build_class__', '__debug__', '__doc__', '__import__', '__loader__', '__name__', '__package__', '__spec__', 'abs', 'all', 'any', 'ascii', 'bin', 'bool', 'breakpoint', 'bytearray', 'bytes', 'callable', 'chr', 'classmethod', 'compile', 'complex', 'copyright', 'credits', 'delattr', 'dict', 'dir', 'display', 'divmod', 'enumerate', 'eval', 'exec', 'filter', 'float', 'format', 'frozenset', 'get_ipython', 'getattr', 'globals', 'hasattr', 'hash', 'help', 'hex', 'id', 'input', 'int', 'isinstance', 'issubclass', 'iter', 'len', 'license', 'list', 'locals', 'map', 'max', 'memoryview', 'min', 'next', 'object', 'oct', 'open', 'ord', 'pow', 'print', 'property', 'range', 'repr', 'reversed', 'round', 'set', 'setattr', 'slice', 'sorted', 'staticmethod', 'str', 'sum', 'super', 'tuple', 'type', 'vars', 'zip']\n"
     ]
    }
   ],
   "source": [
    "print(dir(__builtins__))"
   ]
  },
  {
   "cell_type": "code",
   "execution_count": 1,
   "metadata": {
    "ExecuteTime": {
     "end_time": "2019-05-21T06:33:37.982516Z",
     "start_time": "2019-05-21T06:33:37.978747Z"
    }
   },
   "outputs": [],
   "source": [
    "# divmod 取商和余数"
   ]
  },
  {
   "cell_type": "code",
   "execution_count": 399,
   "metadata": {
    "ExecuteTime": {
     "end_time": "2019-05-10T07:26:49.896254Z",
     "start_time": "2019-05-10T07:26:49.891009Z"
    }
   },
   "outputs": [
    {
     "name": "stdout",
     "output_type": "stream",
     "text": [
      "2\n",
      "3\n"
     ]
    }
   ],
   "source": [
    "# 普通命名法\n",
    "a = \"2\"\n",
    "print(a)\n",
    "\n",
    "# 直接命名法\n",
    "\n",
    "globals()[\"a\"] = \"3\"\n",
    "print(a)"
   ]
  },
  {
   "cell_type": "code",
   "execution_count": 7,
   "metadata": {
    "ExecuteTime": {
     "end_time": "2019-05-10T07:40:40.052607Z",
     "start_time": "2019-05-10T07:40:40.013615Z"
    }
   },
   "outputs": [
    {
     "name": "stdout",
     "output_type": "stream",
     "text": [
      "[1, 2, 3, 4] [1, 2, 3, 4] [1, 2, 3, 4] [1, 2, 3, 4]\n"
     ]
    },
    {
     "data": {
      "text/plain": [
       "True"
      ]
     },
     "execution_count": 7,
     "metadata": {},
     "output_type": "execute_result"
    },
    {
     "data": {
      "text/plain": [
       "False"
      ]
     },
     "execution_count": 7,
     "metadata": {},
     "output_type": "execute_result"
    },
    {
     "data": {
      "text/plain": [
       "False"
      ]
     },
     "execution_count": 7,
     "metadata": {},
     "output_type": "execute_result"
    },
    {
     "data": {
      "text/plain": [
       "False"
      ]
     },
     "execution_count": 7,
     "metadata": {},
     "output_type": "execute_result"
    },
    {
     "data": {
      "text/plain": [
       "False"
      ]
     },
     "execution_count": 7,
     "metadata": {},
     "output_type": "execute_result"
    },
    {
     "data": {
      "text/plain": [
       "False"
      ]
     },
     "execution_count": 7,
     "metadata": {},
     "output_type": "execute_result"
    }
   ],
   "source": [
    "%config ZMQInteractiveShell.ast_node_interactivity=\"all\"\n",
    "# 三种赋值方式\n",
    "\n",
    "import copy\n",
    "\n",
    "a = [1,2,3,4，[5,6,7]]\n",
    "b = a  # 相当于引用\n",
    "\n",
    "c = copy.copy(a) #浅赋值----- 只是复制了a中的1，2，3，4而[5,6,7]是引用\n",
    "d = copy.deepcopy(a) #深赋值----全部复制\n",
    "\n",
    "print(a,b,c,d)\n",
    "\n",
    "a is b \n",
    "a is c\n",
    "a is d\n",
    "b is c\n",
    "b is d\n",
    "c is d"
   ]
  },
  {
   "cell_type": "markdown",
   "metadata": {},
   "source": [
    "* **名字空间相关**\n",
    "\n",
    "\n",
    "- dir(obj) 查看obj的name space 中可见的name\n",
    "- vars(obj) 返回一个object 的name space. 用dictionary表示\n",
    "- locals() 返回一个局部name space，用dictionary表示\n",
    "- globals() 返回一个全家name space ，用dictionary表示"
   ]
  },
  {
   "cell_type": "markdown",
   "metadata": {},
   "source": [
    "访问规则\n",
    "\n",
    "\n",
    "![](https://ws3.sinaimg.cn/large/006tNc79gy1g2wb1zaa3pj30lt08r409.jpg)"
   ]
  },
  {
   "cell_type": "markdown",
   "metadata": {},
   "source": [
    "## 输出格式"
   ]
  },
  {
   "cell_type": "markdown",
   "metadata": {},
   "source": [
    "|格式符号|代表|\n",
    "|------|----|\n",
    "|%c|字符|\n",
    "|%s|字符串|\n",
    "|%d|有符号十进制整数|\n",
    "|%u|无符号十进制整数|\n",
    "|%o|八进制整数|\n",
    "|%x|十六进制整数（小写字母0x）|\n",
    "|%X|十六进制整数（大写字母0X）|\n",
    "|%f|浮点数|\n",
    "|%e|科学计数法（小写e）|\n",
    "|%E|科学计数法（大写E）|\n",
    "|%g|%f和%e的简写\n",
    "|%G|%f和%E的简写"
   ]
  },
  {
   "cell_type": "markdown",
   "metadata": {},
   "source": [
    "## Jupyter notebook的Magic"
   ]
  },
  {
   "cell_type": "markdown",
   "metadata": {},
   "source": [
    "Line Magic 对一行代码\n",
    "\n",
    "Cell Magic 对一个Cell内的所有代码"
   ]
  },
  {
   "cell_type": "markdown",
   "metadata": {},
   "source": [
    "## Line Magic"
   ]
  },
  {
   "cell_type": "code",
   "execution_count": 2,
   "metadata": {
    "ExecuteTime": {
     "end_time": "2019-05-07T01:13:57.023101Z",
     "start_time": "2019-05-07T01:13:57.005664Z"
    }
   },
   "outputs": [
    {
     "data": {
      "application/json": {
       "cell": {
        "!": "OSMagics",
        "HTML": "Other",
        "SVG": "Other",
        "bash": "Other",
        "capture": "ExecutionMagics",
        "debug": "ExecutionMagics",
        "file": "Other",
        "html": "DisplayMagics",
        "javascript": "DisplayMagics",
        "js": "DisplayMagics",
        "latex": "DisplayMagics",
        "markdown": "DisplayMagics",
        "perl": "Other",
        "prun": "ExecutionMagics",
        "pypy": "Other",
        "python": "Other",
        "python2": "Other",
        "python3": "Other",
        "ruby": "Other",
        "script": "ScriptMagics",
        "sh": "Other",
        "svg": "DisplayMagics",
        "sx": "OSMagics",
        "system": "OSMagics",
        "time": "ExecutionMagics",
        "timeit": "ExecutionMagics",
        "writefile": "OSMagics"
       },
       "line": {
        "alias": "OSMagics",
        "alias_magic": "BasicMagics",
        "autoawait": "AsyncMagics",
        "autocall": "AutoMagics",
        "automagic": "AutoMagics",
        "autosave": "KernelMagics",
        "bookmark": "OSMagics",
        "cat": "Other",
        "cd": "OSMagics",
        "clear": "KernelMagics",
        "colors": "BasicMagics",
        "conda": "PackagingMagics",
        "config": "ConfigMagics",
        "connect_info": "KernelMagics",
        "cp": "Other",
        "debug": "ExecutionMagics",
        "dhist": "OSMagics",
        "dirs": "OSMagics",
        "doctest_mode": "BasicMagics",
        "ed": "Other",
        "edit": "KernelMagics",
        "env": "OSMagics",
        "gui": "BasicMagics",
        "hist": "Other",
        "history": "HistoryMagics",
        "killbgscripts": "ScriptMagics",
        "ldir": "Other",
        "less": "KernelMagics",
        "lf": "Other",
        "lk": "Other",
        "ll": "Other",
        "load": "CodeMagics",
        "load_ext": "ExtensionMagics",
        "loadpy": "CodeMagics",
        "logoff": "LoggingMagics",
        "logon": "LoggingMagics",
        "logstart": "LoggingMagics",
        "logstate": "LoggingMagics",
        "logstop": "LoggingMagics",
        "ls": "Other",
        "lsmagic": "BasicMagics",
        "lx": "Other",
        "macro": "ExecutionMagics",
        "magic": "BasicMagics",
        "man": "KernelMagics",
        "matplotlib": "PylabMagics",
        "mkdir": "Other",
        "more": "KernelMagics",
        "mv": "Other",
        "notebook": "BasicMagics",
        "page": "BasicMagics",
        "pastebin": "CodeMagics",
        "pdb": "ExecutionMagics",
        "pdef": "NamespaceMagics",
        "pdoc": "NamespaceMagics",
        "pfile": "NamespaceMagics",
        "pinfo": "NamespaceMagics",
        "pinfo2": "NamespaceMagics",
        "pip": "PackagingMagics",
        "popd": "OSMagics",
        "pprint": "BasicMagics",
        "precision": "BasicMagics",
        "prun": "ExecutionMagics",
        "psearch": "NamespaceMagics",
        "psource": "NamespaceMagics",
        "pushd": "OSMagics",
        "pwd": "OSMagics",
        "pycat": "OSMagics",
        "pylab": "PylabMagics",
        "qtconsole": "KernelMagics",
        "quickref": "BasicMagics",
        "recall": "HistoryMagics",
        "rehashx": "OSMagics",
        "reload_ext": "ExtensionMagics",
        "rep": "Other",
        "rerun": "HistoryMagics",
        "reset": "NamespaceMagics",
        "reset_selective": "NamespaceMagics",
        "rm": "Other",
        "rmdir": "Other",
        "run": "ExecutionMagics",
        "save": "CodeMagics",
        "sc": "OSMagics",
        "set_env": "OSMagics",
        "store": "StoreMagics",
        "sx": "OSMagics",
        "system": "OSMagics",
        "tb": "ExecutionMagics",
        "time": "ExecutionMagics",
        "timeit": "ExecutionMagics",
        "unalias": "OSMagics",
        "unload_ext": "ExtensionMagics",
        "who": "NamespaceMagics",
        "who_ls": "NamespaceMagics",
        "whos": "NamespaceMagics",
        "xdel": "NamespaceMagics",
        "xmode": "BasicMagics"
       }
      },
      "text/plain": [
       "Available line magics:\n",
       "%alias  %alias_magic  %autoawait  %autocall  %automagic  %autosave  %bookmark  %cat  %cd  %clear  %colors  %conda  %config  %connect_info  %cp  %debug  %dhist  %dirs  %doctest_mode  %ed  %edit  %env  %gui  %hist  %history  %killbgscripts  %ldir  %less  %lf  %lk  %ll  %load  %load_ext  %loadpy  %logoff  %logon  %logstart  %logstate  %logstop  %ls  %lsmagic  %lx  %macro  %magic  %man  %matplotlib  %mkdir  %more  %mv  %notebook  %page  %pastebin  %pdb  %pdef  %pdoc  %pfile  %pinfo  %pinfo2  %pip  %popd  %pprint  %precision  %prun  %psearch  %psource  %pushd  %pwd  %pycat  %pylab  %qtconsole  %quickref  %recall  %rehashx  %reload_ext  %rep  %rerun  %reset  %reset_selective  %rm  %rmdir  %run  %save  %sc  %set_env  %store  %sx  %system  %tb  %time  %timeit  %unalias  %unload_ext  %who  %who_ls  %whos  %xdel  %xmode\n",
       "\n",
       "Available cell magics:\n",
       "%%!  %%HTML  %%SVG  %%bash  %%capture  %%debug  %%file  %%html  %%javascript  %%js  %%latex  %%markdown  %%perl  %%prun  %%pypy  %%python  %%python2  %%python3  %%ruby  %%script  %%sh  %%svg  %%sx  %%system  %%time  %%timeit  %%writefile\n",
       "\n",
       "Automagic is ON, % prefix IS NOT needed for line magics."
      ]
     },
     "execution_count": 2,
     "metadata": {},
     "output_type": "execute_result"
    }
   ],
   "source": [
    "%lsmagic #查看所有的Magic"
   ]
  },
  {
   "cell_type": "markdown",
   "metadata": {},
   "source": [
    "|Line Magics|Using|Line Magics|Using|\n",
    "|-----------|------|-----------|------|\n",
    "|%cd| 打开文件目录|%alias_magic|创建|\n",
    "|%clear|清除终端命令|%alias|定义命令行名称|\n",
    "|%config|进行配置|%autoawait|\n",
    "|%dirs|当前目录堆栈|%autocall|\n",
    "|%env|当前环境|%automagic|\n",
    "|%ls|当前目录|%bookmark|\n",
    "|%lsmagic|魔法指令列表|%cat|\n",
    "|%pip|pip命令|%colors|\n",
    "|%pwd|当前目录路径|%conda|\n",
    "|%reset|重置命名空间|%connect_info|\n",
    "|%run|直接运行cmd 命令|%cp|\n",
    "|%save|保存|%autosave|\n",
    "|%system|系统shell|%dhist|\n",
    "|%time|运行时间|%debug|\n",
    "|%timeit  次数|多次运行平均时间|%doctest_mode|\n",
    "|%who|查看内存变量|%ed|\n",
    "|%who_ls|内存变量名称列表|%edit|\n",
    "|%whos|全部的内存变量名称，类型和值|%gui|\n",
    "|%matplotlib|绘图|\n",
    "|%hist|  -  |%man|\n",
    "|%history|  -  |%mkdir|\n",
    "|%killbgscripts|  -  |%more|\n",
    "|%ldir|  -  |%mv|\n",
    "|%less|  -  |%notebook|\n",
    "|%lf|  -  |%page|\n",
    "|%lk|  -  |%pastebin|\n",
    "|%ll|  -  |%pdb|\n",
    "|%load|  -  |%pdef|\n",
    "|%load_ext|  -  |%pdoc|\n",
    "|%loadpy| -   |%pfile|\n",
    "|%logoff| -   |%pinfo|\n",
    "|%logon|  -  |%pinfo2|\n",
    "|%logstart| -   |%popd|\n",
    "|%logstate| -   |%pprint|\n",
    "|%logstop|  -  |%precision|\n",
    "|%lx|  -  |%prun|\n",
    "|%macro|   - |%psearch|\n",
    "|%magic|  -  |%psource|\n",
    "|%pushd| -   |%reset_selective|\n",
    "|%pycat| -   |%rm|\n",
    "|%pylab| -   |%rmdir|\n",
    "|%qtconsole| -   |%sc|\n",
    "|%quickref|  -  |%set_env|\n",
    "|%recall| -   |%store|\n",
    "|%rehashx| -   |%sx|\n",
    "|%reload_ext| -   |%tb|\n",
    "|%rep|-    |%unload_ext|\n",
    "|%rerun|  -  |%xdel|\n",
    "|%xmode|-"
   ]
  },
  {
   "cell_type": "markdown",
   "metadata": {},
   "source": [
    "## Cell Magic"
   ]
  },
  {
   "cell_type": "markdown",
   "metadata": {},
   "source": [
    "|Cell Magic|Using|Cell Magic|Using|\n",
    "|----------|-----|----------|-----|\n",
    "|%%HTML|显示HTML|%%python|使用Python运行\n",
    "|%%SVG| 绘制矢量图  |%%python2|使用Python2运行\n",
    "|%%bash|   - |%%python3|使用Python3运行\n",
    "|%%capture| -   |%%ruby|\n",
    "|%%debug|   - |%%script|\n",
    "|%%file|    -|%%sh|\n",
    "|%%html|将CELL渲染为html|%%svg|\n",
    "|%%javascript|将Cell渲染为javascript|%%sx|\n",
    "|%%js|    -|%%system|\n",
    "|%%latex|渲染数学公式|%%time|运行时间\n",
    "|%%markdown|渲染为markdown|%%timeit|运行时间\n",
    "|%%perl|   - |%%writefile|将Cell写入文件\n",
    "|%%prun|    -|%%pypy|          "
   ]
  },
  {
   "cell_type": "markdown",
   "metadata": {},
   "source": [
    "# Python 基础语法"
   ]
  },
  {
   "cell_type": "markdown",
   "metadata": {},
   "source": [
    "## 条件判断 与 三元表达式"
   ]
  },
  {
   "cell_type": "markdown",
   "metadata": {},
   "source": [
    "### 条件判断"
   ]
  },
  {
   "cell_type": "code",
   "execution_count": 10,
   "metadata": {
    "ExecuteTime": {
     "end_time": "2019-05-10T07:53:41.456131Z",
     "start_time": "2019-05-10T07:53:41.449473Z"
    }
   },
   "outputs": [
    {
     "name": "stdout",
     "output_type": "stream",
     "text": [
      "a < b\n"
     ]
    }
   ],
   "source": [
    "a = 30\n",
    "b = 31\n",
    "\n",
    "if a > b:\n",
    "    print(\"a > b\")\n",
    "\n",
    "elif a == b:\n",
    "    print(\"a = b\")\n",
    "\n",
    "elif a < b:\n",
    "    print(\"a < b\")\n",
    "\n",
    "else:\n",
    "    print(\"Something Wrong!\")"
   ]
  },
  {
   "cell_type": "markdown",
   "metadata": {},
   "source": [
    "### 三元表达式"
   ]
  },
  {
   "cell_type": "code",
   "execution_count": 11,
   "metadata": {
    "ExecuteTime": {
     "end_time": "2019-05-10T07:54:54.907566Z",
     "start_time": "2019-05-10T07:54:54.901412Z"
    }
   },
   "outputs": [
    {
     "data": {
      "text/plain": [
       "'a<=b'"
      ]
     },
     "execution_count": 11,
     "metadata": {},
     "output_type": "execute_result"
    }
   ],
   "source": [
    "a = 39\n",
    "b = 40\n",
    "\n",
    "\"a > b\" if a > b else \"a<=b\""
   ]
  },
  {
   "cell_type": "markdown",
   "metadata": {},
   "source": [
    "## 循环与循环控制"
   ]
  },
  {
   "cell_type": "markdown",
   "metadata": {},
   "source": [
    "### For"
   ]
  },
  {
   "cell_type": "code",
   "execution_count": 15,
   "metadata": {
    "ExecuteTime": {
     "end_time": "2019-05-10T07:57:15.162064Z",
     "start_time": "2019-05-10T07:57:15.155727Z"
    }
   },
   "outputs": [
    {
     "name": "stdout",
     "output_type": "stream",
     "text": [
      "0\n",
      "1\n",
      "2\n",
      "3\n",
      "4\n"
     ]
    }
   ],
   "source": [
    "for i in range(5):\n",
    "    print(i)\n",
    "    \n",
    "#for 拿来遍历序列"
   ]
  },
  {
   "cell_type": "markdown",
   "metadata": {},
   "source": [
    "### While"
   ]
  },
  {
   "cell_type": "code",
   "execution_count": 17,
   "metadata": {
    "ExecuteTime": {
     "end_time": "2019-05-10T07:58:22.110772Z",
     "start_time": "2019-05-10T07:58:22.103933Z"
    }
   },
   "outputs": [
    {
     "name": "stdout",
     "output_type": "stream",
     "text": [
      "5\n",
      "4\n",
      "3\n",
      "2\n",
      "1\n"
     ]
    }
   ],
   "source": [
    "# 条件成立时，执行循环\n",
    "\n",
    "i = 5\n",
    "\n",
    "while i > 0:\n",
    "    print(i)\n",
    "    i -= 1"
   ]
  },
  {
   "cell_type": "markdown",
   "metadata": {},
   "source": [
    "### break & continue 循环控制"
   ]
  },
  {
   "cell_type": "markdown",
   "metadata": {},
   "source": [
    "* break 结束最内层循环\n",
    "\n",
    "\n",
    "* continue 跳过本次最内层循环"
   ]
  },
  {
   "cell_type": "markdown",
   "metadata": {},
   "source": [
    "## 异常与调试"
   ]
  },
  {
   "cell_type": "markdown",
   "metadata": {},
   "source": [
    "try:\n",
    "\n",
    "    执行语句\n",
    "   \n",
    "except 捕获错误 :\n",
    "    \n",
    "    执行语句\n",
    "    \n",
    "else:\n",
    "\n",
    "    若无错误 执行语句\n",
    "    \n",
    "finally:\n",
    "\n",
    "    有无错误 都要执行的语句"
   ]
  },
  {
   "cell_type": "code",
   "execution_count": 225,
   "metadata": {
    "ExecuteTime": {
     "end_time": "2019-05-09T05:45:51.858265Z",
     "start_time": "2019-05-09T05:45:51.850763Z"
    }
   },
   "outputs": [
    {
     "name": "stdout",
     "output_type": "stream",
     "text": [
      "2\n",
      "4\n"
     ]
    }
   ],
   "source": [
    "try :\n",
    "    print(a)\n",
    "    print(\"0\")\n",
    "except :  #或者写具体错误类型 此处可以写except NameError\n",
    "    print(\"2\")\n",
    "else:\n",
    "    print(\"3\")\n",
    "finally:\n",
    "    print(\"4\")"
   ]
  },
  {
   "cell_type": "markdown",
   "metadata": {},
   "source": [
    "|常见异常|说明|\n",
    "|-------|---|\n",
    "|NameError|尝试访问一个没有声明的变量|\n",
    "|ZeroDivisionError|除数为0|\n",
    "|SyntaxError|语法错误|\n",
    "|IndexError|索引超出序列范围|\n",
    "|KeyError|请求一个不存在的字典关键字|\n",
    "|IOError|输入输出错误（比如文件不存在）|\n",
    "|AttributeError|尝试访问未知的对象属性|\n",
    "|ValueError|传给函数的参数类型不正确|"
   ]
  },
  {
   "cell_type": "markdown",
   "metadata": {},
   "source": [
    "# Python数据结构"
   ]
  },
  {
   "cell_type": "markdown",
   "metadata": {},
   "source": [
    "> 增删查改，切片"
   ]
  },
  {
   "cell_type": "markdown",
   "metadata": {},
   "source": [
    "## 列表（List）"
   ]
  },
  {
   "cell_type": "code",
   "execution_count": 381,
   "metadata": {
    "ExecuteTime": {
     "end_time": "2019-05-10T02:45:17.847815Z",
     "start_time": "2019-05-10T02:45:17.842139Z"
    }
   },
   "outputs": [
    {
     "name": "stdout",
     "output_type": "stream",
     "text": [
      "['__add__', '__class__', '__contains__', '__delattr__', '__delitem__', '__dir__', '__doc__', '__eq__', '__format__', '__ge__', '__getattribute__', '__getitem__', '__gt__', '__hash__', '__iadd__', '__imul__', '__init__', '__init_subclass__', '__iter__', '__le__', '__len__', '__lt__', '__mul__', '__ne__', '__new__', '__reduce__', '__reduce_ex__', '__repr__', '__reversed__', '__rmul__', '__setattr__', '__setitem__', '__sizeof__', '__str__', '__subclasshook__', 'append', 'clear', 'copy', 'count', 'extend', 'index', 'insert', 'pop', 'remove', 'reverse', 'sort']\n"
     ]
    }
   ],
   "source": [
    "print(dir(list))"
   ]
  },
  {
   "cell_type": "markdown",
   "metadata": {},
   "source": [
    "|操作|结果|注意|\n",
    "|---|---|---|\n",
    "|ls.append(a)|在ls末尾加入a,并更新ls|\n",
    "|ls.clear()|清空ls|复制后若ls改变，则复制的不改变|\n",
    "|ls.copy()|复制一份ls|\n",
    "|ls.count(a)|统计ls中a出现的次数|\n",
    "|ls.extend(a)|将ls与a 合并，返回更新的一个列表|\n",
    "|ls.index(a)|返回a的索引|\n",
    "|ls.insert(3,a)|在索引3的前面插入a|\n",
    "|ls.pop(a)|将a抛出ls,并更新ls|会有抛出的值返回\n",
    "|ls.remove（a）|移除第一个出现的a，并更新ls|\n",
    "|ls.reverse()|倒序，返回更新后的ls|\n",
    "|ls.sort(*,key = None,reverse=False)|排序，返回更新后的ls|\n",
    "|ls += lt |更新ls,加入lt|\n",
    "|ls \\*= n |更新ls,重复ls中的元素n次|"
   ]
  },
  {
   "cell_type": "markdown",
   "metadata": {},
   "source": [
    "* 列表生成式"
   ]
  },
  {
   "cell_type": "code",
   "execution_count": 230,
   "metadata": {
    "ExecuteTime": {
     "end_time": "2019-05-09T05:51:26.346380Z",
     "start_time": "2019-05-09T05:51:26.337896Z"
    },
    "collapsed": true
   },
   "outputs": [
    {
     "data": {
      "text/plain": [
       "[(6, 10),\n",
       " (6, 11),\n",
       " (6, 12),\n",
       " (6, 13),\n",
       " (6, 14),\n",
       " (7, 10),\n",
       " (7, 11),\n",
       " (7, 12),\n",
       " (7, 13),\n",
       " (7, 14),\n",
       " (8, 10),\n",
       " (8, 11),\n",
       " (8, 12),\n",
       " (8, 13),\n",
       " (8, 14),\n",
       " (9, 10),\n",
       " (9, 11),\n",
       " (9, 12),\n",
       " (9, 13),\n",
       " (9, 14)]"
      ]
     },
     "execution_count": 230,
     "metadata": {},
     "output_type": "execute_result"
    }
   ],
   "source": [
    "# [变量 语句 条件]\n",
    "\n",
    "[(x,y) for x in range(10) for y in range(10,20) if x > 5 and y<15]"
   ]
  },
  {
   "cell_type": "markdown",
   "metadata": {},
   "source": [
    "## 字典（Dictionary)"
   ]
  },
  {
   "cell_type": "code",
   "execution_count": 382,
   "metadata": {
    "ExecuteTime": {
     "end_time": "2019-05-10T02:45:27.708820Z",
     "start_time": "2019-05-10T02:45:27.704301Z"
    }
   },
   "outputs": [
    {
     "name": "stdout",
     "output_type": "stream",
     "text": [
      "['__class__', '__contains__', '__delattr__', '__delitem__', '__dir__', '__doc__', '__eq__', '__format__', '__ge__', '__getattribute__', '__getitem__', '__gt__', '__hash__', '__init__', '__init_subclass__', '__iter__', '__le__', '__len__', '__lt__', '__ne__', '__new__', '__reduce__', '__reduce_ex__', '__repr__', '__setattr__', '__setitem__', '__sizeof__', '__str__', '__subclasshook__', 'clear', 'copy', 'fromkeys', 'get', 'items', 'keys', 'pop', 'popitem', 'setdefault', 'update', 'values']\n"
     ]
    }
   ],
   "source": [
    "print(dir(dict))"
   ]
  },
  {
   "cell_type": "markdown",
   "metadata": {},
   "source": [
    "|操作|结果|注意|\n",
    "|---|---|---|\n",
    "|dic.clear()|清除字典内容|\n",
    "|dic.copy()|复制一份字典|\n",
    "|dict.fromkeys(iterable,value)|返回一个迭代后的新字典，key迭代，value固定|dict.fromkeys([1,2,3],9) {1:9,2:9,3:9}\n",
    "|dic.get(item,[k])|得到item对应的value，若无，返回k的值|\n",
    "|dic.items()|返回所有键值对|\n",
    "|dic.keys()|返回所有的key|\n",
    "|dic.pop(k,\\<defalut>)|抛出键k的value,不存在，返回default,并更新dic|\n",
    "|dic.popitem()|抛出一个键值对，并更新dic|\n",
    "|dic.setdefault(key,defalut=None)|若key不存在，则添加key和value=default，存在怎返回key的value|\n",
    "|dic.update(dic2)|将dic2 中的键值对 更新到dic中|\n",
    "|dic.values()|返回所有的value"
   ]
  },
  {
   "cell_type": "markdown",
   "metadata": {},
   "source": [
    "## 集合（Set）"
   ]
  },
  {
   "cell_type": "code",
   "execution_count": 383,
   "metadata": {
    "ExecuteTime": {
     "end_time": "2019-05-10T02:45:34.008687Z",
     "start_time": "2019-05-10T02:45:34.002549Z"
    }
   },
   "outputs": [
    {
     "name": "stdout",
     "output_type": "stream",
     "text": [
      "['__and__', '__class__', '__contains__', '__delattr__', '__dir__', '__doc__', '__eq__', '__format__', '__ge__', '__getattribute__', '__gt__', '__hash__', '__iand__', '__init__', '__init_subclass__', '__ior__', '__isub__', '__iter__', '__ixor__', '__le__', '__len__', '__lt__', '__ne__', '__new__', '__or__', '__rand__', '__reduce__', '__reduce_ex__', '__repr__', '__ror__', '__rsub__', '__rxor__', '__setattr__', '__sizeof__', '__str__', '__sub__', '__subclasshook__', '__xor__', 'add', 'clear', 'copy', 'difference', 'difference_update', 'discard', 'intersection', 'intersection_update', 'isdisjoint', 'issubset', 'issuperset', 'pop', 'remove', 'symmetric_difference', 'symmetric_difference_update', 'union', 'update']\n"
     ]
    }
   ],
   "source": [
    "print(dir(set))"
   ]
  },
  {
   "cell_type": "markdown",
   "metadata": {},
   "source": [
    "|操作|结果|注意|\n",
    "|---|---|---|\n",
    "|set.add(a)|在set中加入a,返回更新后的set|\n",
    "|set.clear()|清空set\n",
    "|set.copy()|复制set\n",
    "|set.difference(set1,set2,……)|返回多个集合之间的不同值，作为一个新的集合返回|认为是set 减去了后面set1……等的内容\n",
    "|set.difference_update(set1,set2,……)|将difference 的返回值更新给set|\n",
    "|set.discard(a)|若a在set内，则移除，不在，无操作|\n",
    "|set.intersection(set1，set2，……)|返回所共有的元素集合|\n",
    "|set.intersection_update(set1，set2，……)|将intersection 的返回值更新给set|\n",
    "|set.isdisjoint(set1)| 有相同元素，返回True,否则，返回False|\n",
    "|set.issubset(set1)|是否set1 包含 set ,是 返回True,否，返回False|\n",
    "|set.issuperset(set1)|是否set 包含 set1 ,是 返回True,否，返回False|\n",
    "|set.pop()|随机抛出一个元素| 若set为空会报错|\n",
    "|set.remove(a)|删除a,无返回值，更新set|\n",
    "|set.symmetric_difference()|返回set与set1中不重复的所有元素|\n",
    "|set.symmetric_difference_update()|将symmetric_difference更新给set|\n",
    "|set.union(set1,set2,……)|返回各个集合的总集合|\n",
    "|set.update(set1,set2,……)|将union 更新给set|"
   ]
  },
  {
   "cell_type": "code",
   "execution_count": 34,
   "metadata": {
    "ExecuteTime": {
     "end_time": "2019-05-10T08:29:54.921146Z",
     "start_time": "2019-05-10T08:29:54.914897Z"
    }
   },
   "outputs": [
    {
     "data": {
      "text/plain": [
       "frozenset({0, 1, 2, 3, 4})"
      ]
     },
     "execution_count": 34,
     "metadata": {},
     "output_type": "execute_result"
    }
   ],
   "source": [
    "#frozenset\n",
    "frozenset(range(5)) #固定集合的顺序"
   ]
  },
  {
   "cell_type": "markdown",
   "metadata": {},
   "source": [
    "## 数值（Number）"
   ]
  },
  {
   "cell_type": "markdown",
   "metadata": {
    "ExecuteTime": {
     "end_time": "2019-05-07T13:51:44.852157Z",
     "start_time": "2019-05-07T13:51:44.841542Z"
    }
   },
   "source": [
    "* int\n",
    "* float\n",
    "* bool\n",
    "* complex"
   ]
  },
  {
   "cell_type": "markdown",
   "metadata": {},
   "source": [
    "|操作|意义|\n",
    "|---|---|\n",
    "|int(x)| 转换为整数\n",
    "|float(x)| 转换为浮点数\n",
    "|complex(x)|转换为复数\n",
    "|max(x)|x中的最大值\n",
    "|min(x)|x中的最小值\n",
    "|abs(x)|x的绝对值\n",
    "|divmod(x,y)|x/y 的商和余数\n",
    "|pow(x,y)|幂，x的y次\n",
    "|round(x,\\[d\\])|四舍五入，d为小数位数"
   ]
  },
  {
   "cell_type": "markdown",
   "metadata": {},
   "source": [
    "## 字符串（String）"
   ]
  },
  {
   "cell_type": "code",
   "execution_count": 1,
   "metadata": {
    "ExecuteTime": {
     "end_time": "2019-05-10T10:00:01.320522Z",
     "start_time": "2019-05-10T10:00:01.313803Z"
    }
   },
   "outputs": [
    {
     "name": "stdout",
     "output_type": "stream",
     "text": [
      "['__add__', '__class__', '__contains__', '__delattr__', '__dir__', '__doc__', '__eq__', '__format__', '__ge__', '__getattribute__', '__getitem__', '__getnewargs__', '__gt__', '__hash__', '__init__', '__init_subclass__', '__iter__', '__le__', '__len__', '__lt__', '__mod__', '__mul__', '__ne__', '__new__', '__reduce__', '__reduce_ex__', '__repr__', '__rmod__', '__rmul__', '__setattr__', '__sizeof__', '__str__', '__subclasshook__', 'capitalize', 'casefold', 'center', 'count', 'encode', 'endswith', 'expandtabs', 'find', 'format', 'format_map', 'index', 'isalnum', 'isalpha', 'isascii', 'isdecimal', 'isdigit', 'isidentifier', 'islower', 'isnumeric', 'isprintable', 'isspace', 'istitle', 'isupper', 'join', 'ljust', 'lower', 'lstrip', 'maketrans', 'partition', 'replace', 'rfind', 'rindex', 'rjust', 'rpartition', 'rsplit', 'rstrip', 'split', 'splitlines', 'startswith', 'strip', 'swapcase', 'title', 'translate', 'upper', 'zfill']\n"
     ]
    }
   ],
   "source": [
    "print(dir(str))"
   ]
  },
  {
   "cell_type": "markdown",
   "metadata": {},
   "source": [
    "|操作|结果|注意|\n",
    "|---|---|---|\n",
    "|str.capitalize()| 首字母大写,但不更新str|\n",
    "|str.casefold()|返回小写字符串，但不更新str|\n",
    "|str.center(width,\"\")|填充fillchar(默认空格)使得str居中，长度为width|\n",
    "|str.count(a)| 返回a在str中出现的次数|\n",
    "|str.encode(encoding = \"utf-8\",errors=\"strict\")|改变字符串编码| ?????不是很理解|\n",
    "|str.endswith(a)|若str以a结尾，返回True|\n",
    "|str.expandtabs()|返回一个复制的str，其中展开所有的tab为空格|\n",
    "|str.find(a)|返回a第一次出现的索引，若a不存在，返回 -1\n",
    "|str.format()|格式化字符串| <序号>:<填充><对齐><宽度><，><精确度><类型> 整数类型b\\c\\d\\o\\x\\X 浮点数 e\\E\\f\\% 对齐< > ^|\n",
    "|str.format_map(str1)|使用str1的样式，格式化str|\n",
    "|str.index(a)|返回a的最小索引值,不存在则报错|\n",
    "|str.isalnum()|判断字符串是否为纯数字，字母构成，也就是没有符号|\n",
    "|str.isalpha()|判断字符串是否为字母|\n",
    "|str.isascii()| 判断是否 全部 为ascill|\n",
    "|str.isdecimal()| 判断是否为 十进制|\n",
    "|str.isdigit()|判断是否为 数字串|\n",
    "|str.isidentifier()|判断字符串是否为 有效python标识符|\n",
    "|str.islower()|判断是否小写|\n",
    "|str.isnumeric()|判断是否为 数字 字符串|\n",
    "|str.isprintable()|判断是否可 打印|\n",
    "|str.isspace()|判断是否为 空格字符串|\n",
    "|str.istitle()|判断是否为 标题字符串|\n",
    "|str.isupper()|判断是否大写|\n",
    "|str.join(a)|在a中所有元素间隔中插入str,并更新str|\n",
    "|str.ljust(width,\"\")| 左对齐长度，填充fillchar|\n",
    "|str.rjust(width,\"\")| 右对齐长度，填充fillchar|\n",
    "|str.lower()|返回str 的小写,复制的结果|\n",
    "|str.lstrip(char=None)|返回复制的结果，去除左端的空格,或者char|\n",
    "|str.rstrip(char=None)|返回复制的结果，去除右端的空格,或者char|\n",
    "|str.maketrans()|\n",
    "|str.partition(sep)|使用指定的sep将str分为三部分，以tuple返回|\n",
    "|str.rpartition(sep)|使用指定的sep将str分为三部分，以tuple返回|\n",
    "|str.replace(old,new,count=-1)|返回副本，所有存在的old,被替换为new|若count是最大替换量，若为-1，为全部替换|\n",
    "|str.rfind(s)|返回s的最大索引值|-1 为不存在|\n",
    "|str.rindex(s)|返回s的最大索引值|不存在报错ValueError|\n",
    "|str.rsplit(sep=None,maxsplit=-1)|使用sep分割，返回一个列表|sep不存在则以空格分隔，并从结果中丢弃空字符串，maxsplit最大分隔次数，-1为全部|\n",
    "|str.split(sep=None,maxsplit=-1)|使用sep分割，返回一个列表|sep不存在则以空格分隔，并从结果中丢弃空字符串，maxsplit最大分隔次数，-1为全部|\n",
    "|str.splitlines(keepends=Flase)|按行分隔为列表|keepends为Ture，则包含换行符|\n",
    "|str.startswith(s)|判断是否已s开始|\n",
    "|str.strip(char=None)|返回副本，前段，后端都去除空格，或者char|\n",
    "|str.swapcase()|大小写互相转换|\n",
    "|str.title()|转换为title 字符串\n",
    "|str.translate(table)|转换新的表| ？？？？|\n",
    "|str.upper()|返回str 的大写的副本|\n",
    "|str.zfill(width)|左侧填充0 ，直到达到width|\n",
    "|-|-|-|\n",
    "|\\b|回退|\n",
    "|\\n|换行|\n",
    "|\\r|回到本行首|\n",
    "|x + y|连接字符串|\n",
    "|x * n|重复x n次|"
   ]
  },
  {
   "cell_type": "markdown",
   "metadata": {},
   "source": [
    "## 元组（Tuple)"
   ]
  },
  {
   "cell_type": "code",
   "execution_count": 2,
   "metadata": {
    "ExecuteTime": {
     "end_time": "2019-05-10T10:00:14.807413Z",
     "start_time": "2019-05-10T10:00:14.803271Z"
    }
   },
   "outputs": [
    {
     "name": "stdout",
     "output_type": "stream",
     "text": [
      "['__add__', '__class__', '__contains__', '__delattr__', '__dir__', '__doc__', '__eq__', '__format__', '__ge__', '__getattribute__', '__getitem__', '__getnewargs__', '__gt__', '__hash__', '__init__', '__init_subclass__', '__iter__', '__le__', '__len__', '__lt__', '__mul__', '__ne__', '__new__', '__reduce__', '__reduce_ex__', '__repr__', '__rmul__', '__setattr__', '__sizeof__', '__str__', '__subclasshook__', 'count', 'index']\n"
     ]
    }
   ],
   "source": [
    "print(dir(tuple))"
   ]
  },
  {
   "cell_type": "markdown",
   "metadata": {},
   "source": [
    "|操作|结果|注意|\n",
    "|---|---|---|\n",
    "|tuple.count(a)|返回元组中a的数量|\n",
    "|tuple.index(a)|返回a的最小索引|不存在Raise ValueError|"
   ]
  },
  {
   "cell_type": "markdown",
   "metadata": {},
   "source": [
    "# 模块与库"
   ]
  },
  {
   "cell_type": "markdown",
   "metadata": {},
   "source": [
    "## 内置电池"
   ]
  },
  {
   "cell_type": "code",
   "execution_count": 377,
   "metadata": {
    "ExecuteTime": {
     "end_time": "2019-05-10T01:57:13.385123Z",
     "start_time": "2019-05-10T01:57:13.378587Z"
    },
    "scrolled": false
   },
   "outputs": [
    {
     "name": "stdout",
     "output_type": "stream",
     "text": [
      "['ArithmeticError', 'AssertionError', 'AttributeError', 'BaseException', 'BlockingIOError', 'BrokenPipeError', 'BufferError', 'BytesWarning', 'ChildProcessError', 'ConnectionAbortedError', 'ConnectionError', 'ConnectionRefusedError', 'ConnectionResetError', 'DeprecationWarning', 'EOFError', 'Ellipsis', 'EnvironmentError', 'Exception', 'False', 'FileExistsError', 'FileNotFoundError', 'FloatingPointError', 'FutureWarning', 'GeneratorExit', 'IOError', 'ImportError', 'ImportWarning', 'IndentationError', 'IndexError', 'InterruptedError', 'IsADirectoryError', 'KeyError', 'KeyboardInterrupt', 'LookupError', 'MemoryError', 'ModuleNotFoundError', 'NameError', 'None', 'NotADirectoryError', 'NotImplemented', 'NotImplementedError', 'OSError', 'OverflowError', 'PendingDeprecationWarning', 'PermissionError', 'ProcessLookupError', 'RecursionError', 'ReferenceError', 'ResourceWarning', 'RuntimeError', 'RuntimeWarning', 'StopAsyncIteration', 'StopIteration', 'SyntaxError', 'SyntaxWarning', 'SystemError', 'SystemExit', 'TabError', 'TimeoutError', 'True', 'TypeError', 'UnboundLocalError', 'UnicodeDecodeError', 'UnicodeEncodeError', 'UnicodeError', 'UnicodeTranslateError', 'UnicodeWarning', 'UserWarning', 'ValueError', 'Warning', 'ZeroDivisionError', '__IPYTHON__', '__build_class__', '__debug__', '__doc__', '__import__', '__loader__', '__name__', '__package__', '__spec__', 'abs', 'all', 'any', 'ascii', 'bin', 'bool', 'breakpoint', 'bytearray', 'bytes', 'callable', 'chr', 'classmethod', 'compile', 'complex', 'copyright', 'credits', 'delattr', 'dict', 'dir', 'display', 'divmod', 'enumerate', 'eval', 'exec', 'filter', 'float', 'format', 'frozenset', 'get_ipython', 'getattr', 'globals', 'hasattr', 'hash', 'help', 'hex', 'id', 'input', 'int', 'isinstance', 'issubclass', 'iter', 'len', 'license', 'list', 'locals', 'map', 'max', 'memoryview', 'min', 'next', 'object', 'oct', 'open', 'ord', 'pow', 'print', 'property', 'range', 'repr', 'reversed', 'round', 'set', 'setattr', 'slice', 'sorted', 'staticmethod', 'str', 'sum', 'super', 'tuple', 'type', 'vars', 'zip']\n"
     ]
    }
   ],
   "source": [
    "# 查看内部电池\n",
    "\n",
    "print(dir(__builtins__))"
   ]
  },
  {
   "cell_type": "markdown",
   "metadata": {},
   "source": [
    "### enumerate 函数"
   ]
  },
  {
   "cell_type": "code",
   "execution_count": 4,
   "metadata": {
    "ExecuteTime": {
     "end_time": "2019-05-15T02:56:34.409591Z",
     "start_time": "2019-05-15T02:56:34.400790Z"
    }
   },
   "outputs": [
    {
     "name": "stdout",
     "output_type": "stream",
     "text": [
      "0 0\n",
      "1 1\n",
      "2 2\n",
      "3 3\n",
      "4 4\n"
     ]
    }
   ],
   "source": [
    "# 返回（i，value） 其中i是序列的序号，value为序列的值\n",
    "\n",
    "for i,value in enumerate(list(range(5))):\n",
    "    print(i,value)"
   ]
  },
  {
   "cell_type": "code",
   "execution_count": 5,
   "metadata": {
    "ExecuteTime": {
     "end_time": "2019-05-15T02:58:28.100257Z",
     "start_time": "2019-05-15T02:58:28.085431Z"
    }
   },
   "outputs": [
    {
     "data": {
      "text/plain": [
       "{'a': 0, 'b': 1, 'c': 2}"
      ]
     },
     "execution_count": 5,
     "metadata": {},
     "output_type": "execute_result"
    }
   ],
   "source": [
    "ls = [\"a\",\"b\",\"c\"]\n",
    "\n",
    "dic = {}\n",
    "\n",
    "for i,value in enumerate(ls):\n",
    "    dic[value] = i\n",
    "\n",
    "dic\n"
   ]
  },
  {
   "cell_type": "markdown",
   "metadata": {
    "ExecuteTime": {
     "end_time": "2019-05-15T02:54:15.108717Z",
     "start_time": "2019-05-15T02:54:15.104262Z"
    }
   },
   "source": [
    "### sorted 函数"
   ]
  },
  {
   "cell_type": "code",
   "execution_count": 11,
   "metadata": {
    "ExecuteTime": {
     "end_time": "2019-05-15T03:01:20.626675Z",
     "start_time": "2019-05-15T03:01:20.613784Z"
    }
   },
   "outputs": [
    {
     "data": {
      "text/plain": [
       "[1, 2, 3, 4, 6, 7]"
      ]
     },
     "execution_count": 11,
     "metadata": {},
     "output_type": "execute_result"
    },
    {
     "data": {
      "text/plain": [
       "[7, 6, 4, 3, 2, 1]"
      ]
     },
     "execution_count": 11,
     "metadata": {},
     "output_type": "execute_result"
    },
    {
     "data": {
      "text/plain": [
       "[3, 2, 1, 7, 6, 4]"
      ]
     },
     "execution_count": 11,
     "metadata": {},
     "output_type": "execute_result"
    }
   ],
   "source": [
    "# 返回一个排好序的列表\n",
    "\n",
    "ls = [3,2,1,7,6,4]\n",
    "sorted(ls) #升序\n",
    "sorted(ls,reverse=True) #降序\n",
    "ls"
   ]
  },
  {
   "cell_type": "markdown",
   "metadata": {},
   "source": [
    "### zip 函数"
   ]
  },
  {
   "cell_type": "code",
   "execution_count": 24,
   "metadata": {
    "ExecuteTime": {
     "end_time": "2019-05-15T03:13:44.916441Z",
     "start_time": "2019-05-15T03:13:44.908598Z"
    }
   },
   "outputs": [
    {
     "data": {
      "text/plain": [
       "[('a', 1, 'aa'), ('b', 2, 'bb'), ('c', 3, 'cc')]"
      ]
     },
     "execution_count": 24,
     "metadata": {},
     "output_type": "execute_result"
    }
   ],
   "source": [
    "# 将多个列表，元组或其它序列成对组合成一个元组列表\n",
    "\n",
    "seq1 = [\"a\",\"b\",\"c\",\"d\"]  \n",
    "seq2 = [1,2,3]\n",
    "seq3 = {\"aa\":\"A\",\"bb\":\"B\",\"cc\":\"C\"}\n",
    "\n",
    "list(zip(seq1,seq2,seq3))  #长度取决于最短的那个"
   ]
  },
  {
   "cell_type": "code",
   "execution_count": 22,
   "metadata": {
    "ExecuteTime": {
     "end_time": "2019-05-15T03:13:12.113859Z",
     "start_time": "2019-05-15T03:13:12.107925Z"
    }
   },
   "outputs": [
    {
     "name": "stdout",
     "output_type": "stream",
     "text": [
      "a 1\n",
      "b 2\n",
      "c 3\n"
     ]
    }
   ],
   "source": [
    "# 使用zip 同时迭代几个序列\n",
    "\n",
    "for i ,j in enumerate(zip(seq1,seq2)):\n",
    "    print(j[0],j[1])"
   ]
  },
  {
   "cell_type": "code",
   "execution_count": 36,
   "metadata": {
    "ExecuteTime": {
     "end_time": "2019-05-15T03:19:17.272437Z",
     "start_time": "2019-05-15T03:19:17.259613Z"
    }
   },
   "outputs": [
    {
     "data": {
      "text/plain": [
       "tuple"
      ]
     },
     "execution_count": 36,
     "metadata": {},
     "output_type": "execute_result"
    },
    {
     "data": {
      "text/plain": [
       "(('a', 'b', 'c', 'd'),)"
      ]
     },
     "execution_count": 36,
     "metadata": {},
     "output_type": "execute_result"
    },
    {
     "data": {
      "text/plain": [
       "(('A', 'B', 'C', 'D'),)"
      ]
     },
     "execution_count": 36,
     "metadata": {},
     "output_type": "execute_result"
    }
   ],
   "source": [
    "# 使用zip转换列表\n",
    "\n",
    "w = [(\"a\",\"b\",\"c\",\"d\"),(\"A\",\"B\",\"C\",\"D\")]\n",
    "l,u = zip(w)\n",
    "\n",
    "type(l)\n",
    "l\n",
    "u"
   ]
  },
  {
   "cell_type": "markdown",
   "metadata": {},
   "source": [
    "## 内置库"
   ]
  },
  {
   "cell_type": "markdown",
   "metadata": {},
   "source": [
    "* time\n",
    "* random\n",
    "* sys\n",
    "* re\n",
    "* math"
   ]
  },
  {
   "cell_type": "markdown",
   "metadata": {},
   "source": [
    "### time"
   ]
  },
  {
   "cell_type": "code",
   "execution_count": 380,
   "metadata": {
    "ExecuteTime": {
     "end_time": "2019-05-10T02:44:54.967599Z",
     "start_time": "2019-05-10T02:44:54.959449Z"
    }
   },
   "outputs": [
    {
     "name": "stdout",
     "output_type": "stream",
     "text": [
      "['_STRUCT_TM_ITEMS', '__doc__', '__loader__', '__name__', '__package__', '__spec__', 'altzone', 'asctime', 'clock', 'ctime', 'daylight', 'get_clock_info', 'gmtime', 'localtime', 'mktime', 'monotonic', 'monotonic_ns', 'perf_counter', 'perf_counter_ns', 'process_time', 'process_time_ns', 'sleep', 'strftime', 'strptime', 'struct_time', 'time', 'time_ns', 'timezone', 'tzname', 'tzset']\n"
     ]
    },
    {
     "data": {
      "text/plain": [
       "'This module provides various functions to manipulate time values.\\n\\nThere are two standard representations of time.  One is the number\\nof seconds since the Epoch, in UTC (a.k.a. GMT).  It may be an integer\\nor a floating point number (to represent fractions of seconds).\\nThe Epoch is system-defined; on Unix, it is generally January 1st, 1970.\\nThe actual value can be retrieved by calling gmtime(0).\\n\\nThe other representation is a tuple of 9 integers giving local time.\\nThe tuple items are:\\n  year (including century, e.g. 1998)\\n  month (1-12)\\n  day (1-31)\\n  hours (0-23)\\n  minutes (0-59)\\n  seconds (0-59)\\n  weekday (0-6, Monday is 0)\\n  Julian day (day in the year, 1-366)\\n  DST (Daylight Savings Time) flag (-1, 0 or 1)\\nIf the DST flag is 0, the time is given in the regular time zone;\\nif it is 1, the time is given in the DST time zone;\\nif it is -1, mktime() should guess based on the date and time.\\n'"
      ]
     },
     "execution_count": 380,
     "metadata": {},
     "output_type": "execute_result"
    }
   ],
   "source": [
    "import time\n",
    "print(dir(time))\n",
    "time.__doc__"
   ]
  },
  {
   "cell_type": "markdown",
   "metadata": {},
   "source": [
    "|操作|使用|效果|\n",
    "|---|---|---|\n",
    "|time.time()|获取当前时间戳，浮点数|1557294239.257525|\n",
    "|time.ctime()|获取当前时间，以易读方式，字符串|'Wed May  8 13:44:11 2019'|\n",
    "|time.gmtime()|获取当前时间，为计算机可处理的时间格式|time.struct_time(tm_year=2019, tm_mon=5, tm_mday=8, tm_hour=5, tm_min=44, tm_sec=23, tm_wday=2, tm_yday=128, tm_isdst=0)|\n",
    "|time.strftim(tpl,ts)|以tpl为模板，输出自定义时间ts|\n",
    "|time.strptim(str,tpl)|格式化时间，str为字符串时间，tpl为模板|\n",
    "|time.perf_counter()|返回一个cpu级别的精确时间值，单位为秒|\n",
    "|time.sleep(s)| 睡眠|\n",
    "|time.altzone()|\n",
    "|time.asctime()|\n",
    "|time.clock()|\n",
    "|time.daylight()|\n",
    "|time.get_clock_info()|\n",
    "|time.localtime()|\n",
    "|time.mktime()|\n",
    "|time.monotonic()|\n",
    "|time.perf_counter_ns()|\n",
    "|time.process_time()|\n",
    "|time.process_time_ns()|\n",
    "|time.struct_time()|\n",
    "|time.time_ns()|\n",
    "|time.timezone()|\n",
    "|time.tzname()|\n",
    "|time.tzset()|"
   ]
  },
  {
   "cell_type": "markdown",
   "metadata": {},
   "source": [
    "|格式|含义|效果|格式|含义|效果|\n",
    "|---|---|---|---|---|---|\n",
    "|%Y |年份|0000-9999|\n",
    "|%m |月份|01-12|\n",
    "|%B |月份名称|January - December|%b |月份缩写|Jan - Dec|\n",
    "|%d |日期|01-31|\n",
    "|%A |星期|Monday - Sunday|%a |星期缩写|Mon- Sun|\n",
    "|%H |小时24制|00-23|%h |小时12制|00-12|\n",
    "|%p |上下午|AM,PM|\n",
    "|%M |分钟|00-59|\n",
    "|%S |秒|00-59"
   ]
  },
  {
   "cell_type": "markdown",
   "metadata": {},
   "source": [
    "### random"
   ]
  },
  {
   "cell_type": "code",
   "execution_count": 52,
   "metadata": {
    "ExecuteTime": {
     "end_time": "2019-05-10T09:52:09.903145Z",
     "start_time": "2019-05-10T09:52:09.898631Z"
    }
   },
   "outputs": [
    {
     "name": "stdout",
     "output_type": "stream",
     "text": [
      "['BPF', 'LOG4', 'NV_MAGICCONST', 'RECIP_BPF', 'Random', 'SG_MAGICCONST', 'SystemRandom', 'TWOPI', '_BuiltinMethodType', '_MethodType', '_Sequence', '_Set', '__all__', '__builtins__', '__cached__', '__doc__', '__file__', '__loader__', '__name__', '__package__', '__spec__', '_acos', '_bisect', '_ceil', '_cos', '_e', '_exp', '_inst', '_itertools', '_log', '_os', '_pi', '_random', '_sha512', '_sin', '_sqrt', '_test', '_test_generator', '_urandom', '_warn', 'betavariate', 'choice', 'choices', 'expovariate', 'gammavariate', 'gauss', 'getrandbits', 'getstate', 'lognormvariate', 'normalvariate', 'paretovariate', 'randint', 'random', 'randrange', 'sample', 'seed', 'setstate', 'shuffle', 'triangular', 'uniform', 'vonmisesvariate', 'weibullvariate']\n"
     ]
    }
   ],
   "source": [
    "import random\n",
    "print(dir(random))"
   ]
  },
  {
   "cell_type": "markdown",
   "metadata": {},
   "source": [
    "|操作|使用|效果|\n",
    "|---|---|---|\n",
    "|random.seed(a = None)|初始化随机种子|\n",
    "|random.random()|产生一个0-1的随机小数|\n",
    "|random.randint(i,j)|产生一个i到j的随机整数|\n",
    "|random.randrange(m,n,k)|生成一个m到n，k步长的随机整数|\n",
    "|random.getrandbits(k)|生成一个K比特长的随机整数|\n",
    "|random.uniform(i,j)|生成一个i到j的随机小数|\n",
    "|random.choice(seq)|从seq序列里随机选择一个|\n",
    "|random.shuffle(seq)|打乱序列seq|\n",
    "|random.betavariate()|\n",
    "|random.choices()|\n",
    "|random.expovariate()|\n",
    "|random.gammavariate()|\n",
    "|random.guass()|\n",
    "|random.getrandbits()|\n",
    "|random.lognormvariate()|\n",
    "|random.paretovariate()|\n",
    "|random.sample()\n",
    "|random.setstate()|\n",
    "|random.triangular()|\n",
    "|random.vonmisesvariate()|\n",
    "|random.weibullvariate()|"
   ]
  },
  {
   "cell_type": "markdown",
   "metadata": {},
   "source": [
    "### os"
   ]
  },
  {
   "cell_type": "markdown",
   "metadata": {},
   "source": [
    "[os模块的详解](https://www.runoob.com/python3/python3-os-file-methods.html)"
   ]
  },
  {
   "cell_type": "code",
   "execution_count": 53,
   "metadata": {
    "ExecuteTime": {
     "end_time": "2019-05-10T09:52:16.969601Z",
     "start_time": "2019-05-10T09:52:16.965658Z"
    },
    "collapsed": true
   },
   "outputs": [
    {
     "name": "stdout",
     "output_type": "stream",
     "text": [
      "['CLD_CONTINUED', 'CLD_DUMPED', 'CLD_EXITED', 'CLD_TRAPPED', 'DirEntry', 'EX_CANTCREAT', 'EX_CONFIG', 'EX_DATAERR', 'EX_IOERR', 'EX_NOHOST', 'EX_NOINPUT', 'EX_NOPERM', 'EX_NOUSER', 'EX_OK', 'EX_OSERR', 'EX_OSFILE', 'EX_PROTOCOL', 'EX_SOFTWARE', 'EX_TEMPFAIL', 'EX_UNAVAILABLE', 'EX_USAGE', 'F_LOCK', 'F_OK', 'F_TEST', 'F_TLOCK', 'F_ULOCK', 'MutableMapping', 'NGROUPS_MAX', 'O_ACCMODE', 'O_APPEND', 'O_ASYNC', 'O_CLOEXEC', 'O_CREAT', 'O_DIRECTORY', 'O_DSYNC', 'O_EXCL', 'O_EXLOCK', 'O_NDELAY', 'O_NOCTTY', 'O_NOFOLLOW', 'O_NONBLOCK', 'O_RDONLY', 'O_RDWR', 'O_SHLOCK', 'O_SYNC', 'O_TRUNC', 'O_WRONLY', 'PRIO_PGRP', 'PRIO_PROCESS', 'PRIO_USER', 'P_ALL', 'P_NOWAIT', 'P_NOWAITO', 'P_PGID', 'P_PID', 'P_WAIT', 'PathLike', 'RTLD_GLOBAL', 'RTLD_LAZY', 'RTLD_LOCAL', 'RTLD_NODELETE', 'RTLD_NOLOAD', 'RTLD_NOW', 'R_OK', 'SCHED_FIFO', 'SCHED_OTHER', 'SCHED_RR', 'SEEK_CUR', 'SEEK_END', 'SEEK_SET', 'ST_NOSUID', 'ST_RDONLY', 'TMP_MAX', 'WCONTINUED', 'WCOREDUMP', 'WEXITED', 'WEXITSTATUS', 'WIFCONTINUED', 'WIFEXITED', 'WIFSIGNALED', 'WIFSTOPPED', 'WNOHANG', 'WNOWAIT', 'WSTOPPED', 'WSTOPSIG', 'WTERMSIG', 'WUNTRACED', 'W_OK', 'X_OK', '_Environ', '__all__', '__builtins__', '__cached__', '__doc__', '__file__', '__loader__', '__name__', '__package__', '__spec__', '_execvpe', '_exists', '_exit', '_fspath', '_get_exports_list', '_putenv', '_spawnvef', '_unsetenv', '_wrap_close', 'abc', 'abort', 'access', 'altsep', 'chdir', 'chflags', 'chmod', 'chown', 'chroot', 'close', 'closerange', 'confstr', 'confstr_names', 'cpu_count', 'ctermid', 'curdir', 'defpath', 'device_encoding', 'devnull', 'dup', 'dup2', 'environ', 'environb', 'error', 'execl', 'execle', 'execlp', 'execlpe', 'execv', 'execve', 'execvp', 'execvpe', 'extsep', 'fchdir', 'fchmod', 'fchown', 'fdopen', 'fork', 'forkpty', 'fpathconf', 'fsdecode', 'fsencode', 'fspath', 'fstat', 'fstatvfs', 'fsync', 'ftruncate', 'get_blocking', 'get_exec_path', 'get_inheritable', 'get_terminal_size', 'getcwd', 'getcwdb', 'getegid', 'getenv', 'getenvb', 'geteuid', 'getgid', 'getgrouplist', 'getgroups', 'getloadavg', 'getlogin', 'getpgid', 'getpgrp', 'getpid', 'getppid', 'getpriority', 'getsid', 'getuid', 'initgroups', 'isatty', 'kill', 'killpg', 'lchflags', 'lchmod', 'lchown', 'linesep', 'link', 'listdir', 'lockf', 'lseek', 'lstat', 'major', 'makedev', 'makedirs', 'minor', 'mkdir', 'mkfifo', 'mknod', 'name', 'nice', 'open', 'openpty', 'pardir', 'path', 'pathconf', 'pathconf_names', 'pathsep', 'pipe', 'popen', 'pread', 'putenv', 'pwrite', 'read', 'readlink', 'readv', 'register_at_fork', 'remove', 'removedirs', 'rename', 'renames', 'replace', 'rmdir', 'scandir', 'sched_get_priority_max', 'sched_get_priority_min', 'sched_yield', 'sendfile', 'sep', 'set_blocking', 'set_inheritable', 'setegid', 'seteuid', 'setgid', 'setgroups', 'setpgid', 'setpgrp', 'setpriority', 'setregid', 'setreuid', 'setsid', 'setuid', 'spawnl', 'spawnle', 'spawnlp', 'spawnlpe', 'spawnv', 'spawnve', 'spawnvp', 'spawnvpe', 'st', 'stat', 'stat_result', 'statvfs', 'statvfs_result', 'strerror', 'supports_bytes_environ', 'supports_dir_fd', 'supports_effective_ids', 'supports_fd', 'supports_follow_symlinks', 'symlink', 'sync', 'sys', 'sysconf', 'sysconf_names', 'system', 'tcgetpgrp', 'tcsetpgrp', 'terminal_size', 'times', 'times_result', 'truncate', 'ttyname', 'umask', 'uname', 'uname_result', 'unlink', 'unsetenv', 'urandom', 'utime', 'wait', 'wait3', 'wait4', 'waitpid', 'walk', 'write', 'writev']\n"
     ]
    }
   ],
   "source": [
    "import os\n",
    "print(dir(os))"
   ]
  },
  {
   "cell_type": "markdown",
   "metadata": {},
   "source": [
    "|操作|使用|效果|\n",
    "|---|---|---|\n",
    "|os.access(path,mode)|检验权限模式|\n",
    "|os.path.abspath(path)|返回path的绝对路径|\n",
    "|os.path.normpath(path)|返回path的相对路径|\n",
    "|os.path.relpath(path)|\n",
    "|os.path.dirpath(path)|\n",
    "|os.path.basepath(path)|\n",
    "|os.path.join(path,\\*path)|连接两个路径名|\n",
    "|os.path.split(path)|拆分为目录和文件名|\n",
    "|os.apth.splitext(path)|拆分为目录和扩展名|\n",
    "|os.path.exists(path)|判断是否存在路径\n",
    "|os.path.isfile(path)|判断是否为文件|\n",
    "|os.path.isdir(path)|判断是否为文件夹|\n",
    "|os.path.getatime(path)|获取最后访问时间|\n",
    "|os.path.getmtime(path)|获取最后修改时间|\n",
    "|os.path.getctime(path)|获取创建时间|\n",
    "|os.path.getsize(path)|获取大小|\n",
    "|os.system(command)|执行CMD命令|\n",
    "|os.chdir(path)|修改当前工作路径|\n",
    "|os.getcwd()|获取当前路径|\n",
    "|os.getlogin()|获取登录名|\n",
    "|os.cpu_count()|获取CPU核心数|\n",
    "|os.urandom(n)|随机产生N字节长度的字符串|\n",
    "|os.mkdir(path)|创建目录|\n",
    "|os.rmdir(path)|删除目录|\n",
    "|os.rename(old,new)|对文件重命名|\n",
    "|os.remove(path)|删除文件|\n",
    "|os.listdir(path)|目录下文件列表|"
   ]
  },
  {
   "cell_type": "markdown",
   "metadata": {},
   "source": [
    "### sys--- [sys官方文档](https://docs.python.org/3/library/sys.html)"
   ]
  },
  {
   "cell_type": "code",
   "execution_count": 7,
   "metadata": {
    "ExecuteTime": {
     "end_time": "2019-05-11T01:58:52.102413Z",
     "start_time": "2019-05-11T01:58:52.097653Z"
    },
    "collapsed": true
   },
   "outputs": [
    {
     "name": "stdout",
     "output_type": "stream",
     "text": [
      "['abiflags', 'api_version', 'argv', 'base_exec_prefix', 'base_prefix', 'breakpointhook', 'builtin_module_names', 'byteorder', 'call_tracing', 'callstats', 'copyright', 'displayhook', 'dont_write_bytecode', 'exc_info', 'excepthook', 'exec_prefix', 'executable', 'exit', 'flags', 'float_info', 'float_repr_style', 'get_asyncgen_hooks', 'get_coroutine_origin_tracking_depth', 'get_coroutine_wrapper', 'getallocatedblocks', 'getcheckinterval', 'getdefaultencoding', 'getdlopenflags', 'getfilesystemencodeerrors', 'getfilesystemencoding', 'getprofile', 'getrecursionlimit', 'getrefcount', 'getsizeof', 'getswitchinterval', 'gettrace', 'hash_info', 'hexversion', 'implementation', 'int_info', 'intern', 'is_finalizing', 'last_traceback', 'last_type', 'last_value', 'maxsize', 'maxunicode', 'meta_path', 'modules', 'path', 'path_hooks', 'path_importer_cache', 'platform', 'prefix', 'ps1', 'ps2', 'ps3', 'set_asyncgen_hooks', 'set_coroutine_origin_tracking_depth', 'set_coroutine_wrapper', 'setcheckinterval', 'setdlopenflags', 'setprofile', 'setrecursionlimit', 'setswitchinterval', 'settrace', 'stderr', 'stdin', 'stdout', 'thread_info', 'version', 'version_info', 'warnoptions']\n"
     ]
    }
   ],
   "source": [
    "import sys\n",
    "#print(dir(sys))\n",
    "print([x for x in dir(sys) if not x.startswith(\"_\")])"
   ]
  },
  {
   "cell_type": "markdown",
   "metadata": {},
   "source": [
    "#### sys常用功能\n",
    "\n",
    "|操作|意义|注意|\n",
    "|---|---|---|\n",
    "|sys.argv  |获取运行 Python 程序的命令行参数。其中 sys.argv[0] 通常就是指该 Python 程序，sys.argv[1] 代表为 Python 程序提供的第一个参数，sys.argv[2] 代表为 Python 程序提供的第二个参数……依此类推。|\n",
    "|sys.byteorder  |显示本地字节序的指示符。如果本地字节序是大端模式，则该属性返回 big；否则返回 little。|\n",
    "|sys.copyright  |该属性返回与 Python 解释器有关的版权信息。|\n",
    "|sys.executable  |该属性返回 Python 解释器在磁盘上的存储路径。|\n",
    "|sys.exit()  |通过引发 SystemExit 异常来退出程序。将其放在 try 块中不能阻止 finally 块的执行。|\n",
    "|sys.flags  |该只读属性返回运行 Python 命令时指定的旗标。|\n",
    "|sys.getfilesystemencoding()  |返回在当前系统中保存文件所用的字符集。|\n",
    "|sys.getrefcount(object)  |返回指定对象的引用计数。前面介绍过，当 object 对象的引用计数为 0 时，系统会回收该对象。|\n",
    "|sys.getrecursionlimit()  |返回 Python 解释器当前支持的递归深度。该属性可通过 setrecursionlimit() 方法重新设置。|\n",
    "|sys.getswitchinterval()  |返回在当前 Python 解释器中线程切换的时间间隔。该属性可通过 setswitchinterval() 函数改变。|\n",
    "|sys.implementation  |返回当前 Python 解释器的实现。|\n",
    "|sys.maxsize  |返回 Python 整数支持的最大值。在 32 位平台上，该属性值为 2**31-1；在 64 位平台上，该属性值为 2**63-1。|\n",
    "|sys.modules  |返回模块名和载入模块对应关系的字典。|\n",
    "|sys.path  |该属性指定 Python 查找模块的路径列表。程序可通过修改该属性来动态增加 Python 加载模块的路径。|\n",
    "|sys.platform  |返回 Python 解释器所在平台的标识符。|\n",
    "|sys.stdin  |返回系统的标准输入流——一个类文件对象。|\n",
    "|sys.stdout  |返回系统的标准输出流——一个类文件对象。|\n",
    "|sys.stderr  |返回系统的错误输出流——一个类文件对象。|\n",
    "|sys.version  |返回当前 Python 解释器的版本信息。|\n",
    "|sys.winver  |返回当前 Python 解释器的主版本号|。"
   ]
  },
  {
   "cell_type": "markdown",
   "metadata": {},
   "source": [
    "#### sys.argv"
   ]
  },
  {
   "cell_type": "markdown",
   "metadata": {},
   "source": [
    "![](https://ws2.sinaimg.cn/large/006tNc79gy1g2x8cxd388j314g0cu78q.jpg)"
   ]
  },
  {
   "cell_type": "code",
   "execution_count": 83,
   "metadata": {
    "ExecuteTime": {
     "end_time": "2019-05-11T03:49:55.952570Z",
     "start_time": "2019-05-11T03:49:55.946095Z"
    }
   },
   "outputs": [
    {
     "name": "stdout",
     "output_type": "stream",
     "text": [
      "Writing test.py\n"
     ]
    }
   ],
   "source": [
    "%%writefile test.py\n",
    "\n",
    "import sys\n",
    "\n",
    "print(sys.argv)"
   ]
  },
  {
   "cell_type": "code",
   "execution_count": 88,
   "metadata": {
    "ExecuteTime": {
     "end_time": "2019-05-11T03:54:15.839780Z",
     "start_time": "2019-05-11T03:54:15.578820Z"
    }
   },
   "outputs": [
    {
     "name": "stdout",
     "output_type": "stream",
     "text": [
      "['test.py', '1,2,3,4']\r\n"
     ]
    }
   ],
   "source": [
    "!python test.py 1,2,3,4"
   ]
  },
  {
   "cell_type": "markdown",
   "metadata": {},
   "source": [
    "#### 动态修改模块加载路径"
   ]
  },
  {
   "cell_type": "code",
   "execution_count": 108,
   "metadata": {
    "ExecuteTime": {
     "end_time": "2019-05-11T06:11:34.957137Z",
     "start_time": "2019-05-11T06:11:34.947621Z"
    }
   },
   "outputs": [
    {
     "name": "stdout",
     "output_type": "stream",
     "text": [
      "Writing hello.py\n"
     ]
    }
   ],
   "source": [
    "%%writefile hello.py\n",
    "\n",
    "print(\"Hello World!\")"
   ]
  },
  {
   "cell_type": "code",
   "execution_count": 115,
   "metadata": {
    "ExecuteTime": {
     "end_time": "2019-05-11T06:12:56.097330Z",
     "start_time": "2019-05-11T06:12:56.092949Z"
    }
   },
   "outputs": [],
   "source": [
    "import sys\n",
    "import os\n",
    "\n",
    "p = os.path.abspath(\"./\")\n",
    "\n",
    "sys.path.append(p)\n",
    "\n",
    "import hello"
   ]
  },
  {
   "cell_type": "markdown",
   "metadata": {},
   "source": [
    "## 常用第三方库"
   ]
  },
  {
   "cell_type": "markdown",
   "metadata": {},
   "source": [
    "### 序列化（cPickle & pickle）\n",
    ">我们把变量从内存中变成可存储或传输的过程称之为序列化，在Python中叫pickling，在其他语言中也被称之为serialization，marshalling，flattening等等，都是一个意思。"
   ]
  },
  {
   "cell_type": "code",
   "execution_count": 120,
   "metadata": {
    "ExecuteTime": {
     "end_time": "2019-05-08T07:09:35.398445Z",
     "start_time": "2019-05-08T07:09:35.393673Z"
    }
   },
   "outputs": [],
   "source": [
    "try:\n",
    "    import cPickle as pickle\n",
    "except ImportError:\n",
    "    import pickle\n",
    "    \n",
    "#为了引用cPickle时的可能错误"
   ]
  },
  {
   "cell_type": "code",
   "execution_count": 122,
   "metadata": {
    "ExecuteTime": {
     "end_time": "2019-05-08T07:10:59.448551Z",
     "start_time": "2019-05-08T07:10:59.440984Z"
    }
   },
   "outputs": [
    {
     "data": {
      "text/plain": [
       "b'\\x80\\x03]q\\x00(K\\x01K\\x02K\\x03K\\x04K\\x05e.'"
      ]
     },
     "execution_count": 122,
     "metadata": {},
     "output_type": "execute_result"
    }
   ],
   "source": [
    "d = [1,2,3,4,5]\n",
    "pickle.dumps(d) #将内存数据变为str"
   ]
  },
  {
   "cell_type": "code",
   "execution_count": 124,
   "metadata": {
    "ExecuteTime": {
     "end_time": "2019-05-08T07:12:13.051747Z",
     "start_time": "2019-05-08T07:12:13.045847Z"
    }
   },
   "outputs": [],
   "source": [
    "f = open(\"dump.txt\",\"wb\")\n",
    "\n",
    "pickle.dump(d,f)  #内存写入文件\n",
    "f.close()  "
   ]
  },
  {
   "cell_type": "code",
   "execution_count": 125,
   "metadata": {
    "ExecuteTime": {
     "end_time": "2019-05-08T07:13:21.398060Z",
     "start_time": "2019-05-08T07:13:21.390105Z"
    }
   },
   "outputs": [
    {
     "data": {
      "text/plain": [
       "[1, 2, 3, 4, 5]"
      ]
     },
     "execution_count": 125,
     "metadata": {},
     "output_type": "execute_result"
    }
   ],
   "source": [
    "f = open(\"dump.txt\",\"rb\")\n",
    "\n",
    "c = pickle.load(f)  #pickle.loads(str)将dumps的str转换回内存。\n",
    "f.close()\n",
    "c"
   ]
  },
  {
   "cell_type": "markdown",
   "metadata": {},
   "source": [
    "### 序列化（JSON）\n",
    "> 如果我们要在不同的编程语言之间传递对象，就必须把对象序列化为标准格式，比如XML，但更好的方法是序列化为JSON，因为JSON表示出来就是一个字符串，可以被所有语言读取，也可以方便地存储到磁盘或者通过网络传输。JSON不仅是标准格式，并且比XML更快，而且可以直接在Web页面中读取，非常方便。"
   ]
  },
  {
   "cell_type": "markdown",
   "metadata": {},
   "source": [
    "|JSON类型|Python类型|\n",
    "|-------|----------|\n",
    "|{}|dict|\n",
    "|[]|list|\n",
    "|\"string\"|\"str\"或”unicode\"|\n",
    "|1234.56|int 或 float|\n",
    "|true/false|True/False|\n",
    "|null|None|"
   ]
  },
  {
   "cell_type": "markdown",
   "metadata": {},
   "source": [
    "但JSON 无法序列化一个类变量"
   ]
  },
  {
   "cell_type": "code",
   "execution_count": 130,
   "metadata": {
    "ExecuteTime": {
     "end_time": "2019-05-08T07:21:15.336018Z",
     "start_time": "2019-05-08T07:21:15.327782Z"
    },
    "scrolled": true
   },
   "outputs": [
    {
     "data": {
      "text/plain": [
       "'{\"name\": \"Bob\", \"age\": 20, \"score\": 99}'"
      ]
     },
     "execution_count": 130,
     "metadata": {},
     "output_type": "execute_result"
    }
   ],
   "source": [
    "import json\n",
    "\n",
    "d = {\"name\":\"Bob\",\"age\":20,\"score\":99}\n",
    "json.dumps(d)#dumps 返回为str,dump直接写入\n",
    "#loads(str),load(d,f)"
   ]
  },
  {
   "cell_type": "markdown",
   "metadata": {},
   "source": [
    "# 文件操作"
   ]
  },
  {
   "cell_type": "markdown",
   "metadata": {},
   "source": [
    "使用with open(\"./\",\"r\"）as f:"
   ]
  },
  {
   "cell_type": "markdown",
   "metadata": {},
   "source": [
    "|打开模式|意义|\n",
    "|------|---|\n",
    "|r|只读，指针在开头|\n",
    "|w|覆盖写，不存在则创建|\n",
    "|a|追加写，存在则指针在末尾，不存在，创建写|\n",
    "|x|写模式，新建一个文件，存在则报错|\n",
    "|t|文本模式（默认）|\n",
    "|-|-|\n",
    "|rb|以二进制只读，指针在开头||\n",
    "|wb|以二进制写入，覆盖写，不存在，则创建|\n",
    "|ab|以二进制追加写，存在，指针在末尾，不存在，则创建|\n",
    "|-|-|\n",
    "|r+|打开一个文件用于读写。文件指针将会放在文件的开头。文件存在会报错\n",
    "|w+|打开一个文件用于读写。如果该文件已存在则将其覆盖。如果该文件不存在，创建新文件。\n",
    "|a+|打开一个文件用于读写。如果该文件已存在，文件指针将会放在文件的结尾。文件打开时会是追加模式。如果该文件不存在，创建新文件用于读写。\n",
    "|-|-|\n",
    "|rb+|以二进制格式打开一个文件用于读写。文件指针将会放在文件的开头。文件存在会报错\n",
    "|wb+|以二进制格式打开一个文件用于读写。如果该文件已存在则将其覆盖。如果该文件不存在，创建新文件。\n",
    "|ab+|以二进制格式打开一个文件用于追加。如果该文件已存在，文件指针将会放在文件的结尾。如果该文件不存在，创建新文件用于读写。"
   ]
  },
  {
   "cell_type": "markdown",
   "metadata": {},
   "source": [
    "|操作|意义|\n",
    "|---|---|\n",
    "|<变量名> = open(<文件名>，<打开模式>）|打开文件|\n",
    "|<变量名>.close()| 关闭文件|\n",
    "|<变量名>.read(size= )|全部读入size大小,返回str|\n",
    "|<变量名>.readline(size= )|一行读取，读取前size|\n",
    "|<变量名>.readlines(hint= )|一次读取所有内容，返回list|\n",
    "|<变量名>.write(s)|写入s|\n",
    "|<变量名>.writelines(lines)|写入一行lines|\n",
    "|<变量名>.seek(offset)|指针位置，0开头，1当前，2结尾|\n",
    "|<变量名>.tell()|返回当前指针位置|\n",
    "|<变量名>.next()|返回下一行，并将文件操作标记移位到下一行|"
   ]
  },
  {
   "cell_type": "markdown",
   "metadata": {},
   "source": [
    "# 函数"
   ]
  },
  {
   "cell_type": "markdown",
   "metadata": {},
   "source": [
    "## 函数参数"
   ]
  },
  {
   "cell_type": "markdown",
   "metadata": {},
   "source": [
    "### 关键字参数"
   ]
  },
  {
   "cell_type": "markdown",
   "metadata": {},
   "source": [
    "在调用函数的时候传入的实参使用 命名符 = 参数 方式\n",
    "\n",
    "def func(name,age):\n",
    "    print(name,age)\n",
    "\n",
    "func(age = 18,name=\"Bob\")也就是带着形参一起传入"
   ]
  },
  {
   "cell_type": "code",
   "execution_count": 170,
   "metadata": {
    "ExecuteTime": {
     "end_time": "2019-05-09T02:42:28.597031Z",
     "start_time": "2019-05-09T02:42:28.581080Z"
    }
   },
   "outputs": [
    {
     "name": "stdout",
     "output_type": "stream",
     "text": [
      "Bob 18\n"
     ]
    }
   ],
   "source": [
    "def func(name,age):\n",
    "    print(name,age)\n",
    "\n",
    "func(age = 18,name=\"Bob\")"
   ]
  },
  {
   "cell_type": "markdown",
   "metadata": {},
   "source": [
    "### 默认参数"
   ]
  },
  {
   "cell_type": "markdown",
   "metadata": {},
   "source": [
    "在创建函数的时候就定义了参数\n",
    "\n",
    "def func(age,name = \"Bob\"): 默认参数放置到后面\n",
    "    print(name,age)\n",
    "    \n",
    "func(age)"
   ]
  },
  {
   "cell_type": "code",
   "execution_count": 173,
   "metadata": {
    "ExecuteTime": {
     "end_time": "2019-05-09T02:43:04.973554Z",
     "start_time": "2019-05-09T02:43:04.967751Z"
    }
   },
   "outputs": [
    {
     "name": "stdout",
     "output_type": "stream",
     "text": [
      "Bob 18\n"
     ]
    }
   ],
   "source": [
    "def func(age,name = \"Bob\"):\n",
    "    print(name,age)\n",
    "    \n",
    "func(18)"
   ]
  },
  {
   "cell_type": "markdown",
   "metadata": {},
   "source": [
    "### 不定长参数"
   ]
  },
  {
   "cell_type": "markdown",
   "metadata": {},
   "source": [
    "*args 不定长参数\n",
    "\n",
    "\\**kwargs 不定长命名参数"
   ]
  },
  {
   "cell_type": "code",
   "execution_count": 179,
   "metadata": {
    "ExecuteTime": {
     "end_time": "2019-05-09T02:53:27.463546Z",
     "start_time": "2019-05-09T02:53:27.455679Z"
    }
   },
   "outputs": [
    {
     "name": "stdout",
     "output_type": "stream",
     "text": [
      "1 2 (3, 4, 5, 6) {'C': 1, 'D': 2}\n"
     ]
    }
   ],
   "source": [
    "def func(a,b,*args,**k): ## 命名参数放最后\n",
    "    print(a,b,args,k)\n",
    "    \n",
    "func(1,2,3,4,5,6,C=1,D=2)"
   ]
  },
  {
   "cell_type": "markdown",
   "metadata": {},
   "source": [
    "## 匿名函数"
   ]
  },
  {
   "cell_type": "markdown",
   "metadata": {},
   "source": [
    "> 注意：lambda函数有自己的命名空间，但不能访问自有参数列表之外的或全局命名空间参数"
   ]
  },
  {
   "cell_type": "markdown",
   "metadata": {},
   "source": [
    "匿名函数 lambda\n",
    "\n",
    "lambda 参数 ：表达式"
   ]
  },
  {
   "cell_type": "code",
   "execution_count": 180,
   "metadata": {
    "ExecuteTime": {
     "end_time": "2019-05-09T02:54:56.662936Z",
     "start_time": "2019-05-09T02:54:56.655958Z"
    }
   },
   "outputs": [
    {
     "data": {
      "text/plain": [
       "4"
      ]
     },
     "execution_count": 180,
     "metadata": {},
     "output_type": "execute_result"
    }
   ],
   "source": [
    "x = lambda a : a + 1\n",
    "x(3)"
   ]
  },
  {
   "cell_type": "markdown",
   "metadata": {},
   "source": [
    "## 回调函数"
   ]
  },
  {
   "cell_type": "markdown",
   "metadata": {},
   "source": [
    "> 比较类似于递归"
   ]
  },
  {
   "cell_type": "code",
   "execution_count": 182,
   "metadata": {
    "ExecuteTime": {
     "end_time": "2019-05-09T03:01:34.712799Z",
     "start_time": "2019-05-09T03:01:34.702411Z"
    }
   },
   "outputs": [
    {
     "name": "stdout",
     "output_type": "stream",
     "text": [
      "3\n",
      "5\n"
     ]
    }
   ],
   "source": [
    "def double(x):\n",
    "    return x*2\n",
    "def quarduple(x):\n",
    "    return x*4\n",
    "\n",
    "#中间函数\n",
    "def get0ddNumber(k,getEvenNumber):\n",
    "    return 1 + getEvenNumber(k)\n",
    "\n",
    "def main():\n",
    "    k = 1\n",
    "    i = get0ddNumber(k,double)\n",
    "    print(i)\n",
    "    \n",
    "    i = get0ddNumber(k,quarduple)\n",
    "    print(i)\n",
    "    \n",
    "main()"
   ]
  },
  {
   "cell_type": "markdown",
   "metadata": {},
   "source": [
    "## 高阶函数"
   ]
  },
  {
   "cell_type": "markdown",
   "metadata": {},
   "source": [
    "### map"
   ]
  },
  {
   "cell_type": "code",
   "execution_count": 4,
   "metadata": {
    "ExecuteTime": {
     "end_time": "2019-05-10T09:20:19.995288Z",
     "start_time": "2019-05-10T09:20:19.988372Z"
    },
    "scrolled": true
   },
   "outputs": [
    {
     "data": {
      "text/plain": [
       "[1, 4, 9, 16, 25]"
      ]
     },
     "execution_count": 4,
     "metadata": {},
     "output_type": "execute_result"
    }
   ],
   "source": [
    "# map(fun,list)\n",
    "\n",
    "ls1 = [1,2,3,4,5]\n",
    "ls2 = [5,4,3,2,1]\n",
    "\n",
    "list(map(lambda x:x**2,ls1))"
   ]
  },
  {
   "cell_type": "markdown",
   "metadata": {},
   "source": [
    "### reduce"
   ]
  },
  {
   "cell_type": "code",
   "execution_count": 7,
   "metadata": {
    "ExecuteTime": {
     "end_time": "2019-05-10T09:22:50.362811Z",
     "start_time": "2019-05-10T09:22:50.355172Z"
    },
    "scrolled": true
   },
   "outputs": [
    {
     "data": {
      "text/plain": [
       "15"
      ]
     },
     "execution_count": 7,
     "metadata": {},
     "output_type": "execute_result"
    }
   ],
   "source": [
    "# reduce(fun,list)  \n",
    " \n",
    "from functools import reduce\n",
    "\n",
    "def func1(a,b):\n",
    "    return a+b\n",
    "\n",
    "reduce(func1,ls1) #将计算结果重新给到函数再计算下一个，ls1中的累加"
   ]
  },
  {
   "cell_type": "markdown",
   "metadata": {},
   "source": [
    "### filter"
   ]
  },
  {
   "cell_type": "code",
   "execution_count": 8,
   "metadata": {
    "ExecuteTime": {
     "end_time": "2019-05-10T09:23:29.851999Z",
     "start_time": "2019-05-10T09:23:29.845634Z"
    }
   },
   "outputs": [
    {
     "data": {
      "text/plain": [
       "[1, 2]"
      ]
     },
     "execution_count": 8,
     "metadata": {},
     "output_type": "execute_result"
    }
   ],
   "source": [
    "# filter(fun,ls) \n",
    "\n",
    "list(filter(lambda x:True if x < 3 else False ,ls1)) #做筛选"
   ]
  },
  {
   "cell_type": "markdown",
   "metadata": {},
   "source": [
    "# 面向对象"
   ]
  },
  {
   "cell_type": "markdown",
   "metadata": {},
   "source": [
    "## 类和对象"
   ]
  },
  {
   "cell_type": "markdown",
   "metadata": {},
   "source": [
    "类 相当于 一个整体的集合，对象相当于集合中的具体元素\n",
    "\n",
    "类就相当于制造飞机时的图纸，用它来进行创建的飞机就相当于对象"
   ]
  },
  {
   "cell_type": "markdown",
   "metadata": {},
   "source": [
    "具有相似的内部状态，和运动规律的实体集合，抽象"
   ]
  },
  {
   "cell_type": "markdown",
   "metadata": {},
   "source": [
    "## 类的设计"
   ]
  },
  {
   "cell_type": "markdown",
   "metadata": {},
   "source": [
    "* 类名--名字\n",
    "* 类属性--数据\n",
    "* 类方法--操作的方法"
   ]
  },
  {
   "cell_type": "markdown",
   "metadata": {},
   "source": [
    "## 定义类"
   ]
  },
  {
   "cell_type": "code",
   "execution_count": 17,
   "metadata": {
    "ExecuteTime": {
     "end_time": "2019-05-10T09:32:34.162557Z",
     "start_time": "2019-05-10T09:32:34.156538Z"
    }
   },
   "outputs": [],
   "source": [
    "class Student(): #定义类\n",
    "    \n",
    "    Info = \"还在学习读书学习的人群。\" #定义类属性\n",
    "    \n",
    "    def __init__(self,name,age,grade): #创建实例时的生成参数\n",
    "        self.name = name\n",
    "        self.age = age\n",
    "        self.grade = grade\n",
    "    \n",
    "    def dushu(self): #定义实例方法\n",
    "        print(\"Start reading\")\n",
    "        \n",
    "    def fangxue(): #若没有self ，则为类方法，只能由类名来操作\n",
    "        print(\"hhhhha\")\n",
    "        \n",
    "    def demo(self):\n",
    "        print(self.grade + 10) #__私有属性只能在内部调用"
   ]
  },
  {
   "cell_type": "code",
   "execution_count": 16,
   "metadata": {
    "ExecuteTime": {
     "end_time": "2019-05-10T09:29:06.861623Z",
     "start_time": "2019-05-10T09:29:06.853082Z"
    },
    "scrolled": false
   },
   "outputs": [
    {
     "name": "stdout",
     "output_type": "stream",
     "text": [
      "Start reading\n",
      "hhhhha\n",
      "16\n"
     ]
    },
    {
     "data": {
      "text/plain": [
       "6"
      ]
     },
     "execution_count": 16,
     "metadata": {},
     "output_type": "execute_result"
    }
   ],
   "source": [
    "S = Student(\"xiaoming\",15,6)  #创建对象，或者说是实例化类\n",
    "\n",
    "S.dushu()\n",
    "Student.fangxue()\n",
    "S.demo()\n",
    "S.grade"
   ]
  },
  {
   "cell_type": "markdown",
   "metadata": {},
   "source": [
    "## 类的魔术方法"
   ]
  },
  {
   "cell_type": "markdown",
   "metadata": {},
   "source": [
    "|方法|作用|\n",
    "|---|---|\n",
    "|\\__class\\__|\n",
    "|\\__delattr\\__|\n",
    "|\\__dict\\__|\n",
    "|\\__dir\\__|\n",
    "|\\__doc\\__|\n",
    "|\\__eq\\__|\n",
    "|\\__format\\__|\n",
    "|\\__ge\\__|\n",
    "|\\__getattribute\\__|\n",
    "|\\__gt\\__|\n",
    "|\\__hash\\__|\n",
    "|\\__init\\__|初始化对象属性，必须返回None|\n",
    "|\\__init_subclass\\__|\n",
    "|\\__le\\__|\n",
    "|\\__lt\\__|\n",
    "|\\__module\\__|\n",
    "|\\__ne\\__|\n",
    "|\\__new\\__| 真正的类构造方法，用于产生实例化对象，空白属性，必须返回一个对象|\n",
    "|\\__reduce\\__|\n",
    "|\\__reduce_ex\\__|\n",
    "|\\__repr\\__| 被控制台输出时默认调用返回一些信息|\n",
    "|\\__setattr\\__|\n",
    "|\\__sizeof\\__|\n",
    "|\\__str\\__| 被print默认调用，返回一些对象信息，必须return字符串，使用print(实例/类名）|\n",
    "|\\__subclasshook\\__|\n",
    "|\\__weakref\\__|"
   ]
  },
  {
   "cell_type": "markdown",
   "metadata": {},
   "source": [
    "## 类中的关键字"
   ]
  },
  {
   "cell_type": "markdown",
   "metadata": {},
   "source": [
    "* cls 指向类的指针，类方法需要使用cls 作为第一个形参\n",
    "\n",
    "\n",
    "* self 指向对象的指针，实例方法需要self 作为第一个形参"
   ]
  },
  {
   "cell_type": "markdown",
   "metadata": {},
   "source": [
    "## 类的装饰器"
   ]
  },
  {
   "cell_type": "markdown",
   "metadata": {},
   "source": [
    "* @staticmethod 类静态方法\n",
    "\n",
    "\n",
    "* @classmethod 类方法\n",
    "\n",
    "\n",
    "* @property 把函数调用伪装成对属性的访问，数据描述符属性的优先级高于实例名称空间中的同名成员。"
   ]
  },
  {
   "cell_type": "code",
   "execution_count": 7,
   "metadata": {
    "ExecuteTime": {
     "end_time": "2019-05-10T10:08:01.524325Z",
     "start_time": "2019-05-10T10:08:01.512953Z"
    }
   },
   "outputs": [
    {
     "name": "stdout",
     "output_type": "stream",
     "text": [
      "china\n",
      "china\n"
     ]
    }
   ],
   "source": [
    "# 第一个参数必须是类对象，一般以cls作为第一个参数（当然可以用其他名称的变量作为其第一个参数，但是大部分人都习惯以'cls'作为第一个参数\n",
    "# 的名字，就最好用'cls'了），能够通过实例对象和类对象去访问。\n",
    "\n",
    "class People(object):\n",
    "    country = 'china'\n",
    "\n",
    "    #类方法，用classmethod来进行修饰\n",
    "    @classmethod\n",
    "    def getCountry(cls):\n",
    "        return cls.country\n",
    "\n",
    "p = People()\n",
    "print (p.getCountry())    #可以用过实例对象引用\n",
    "print (People.getCountry())   #可以通过类对象引用"
   ]
  },
  {
   "cell_type": "code",
   "execution_count": 4,
   "metadata": {
    "ExecuteTime": {
     "end_time": "2019-05-10T10:07:06.575180Z",
     "start_time": "2019-05-10T10:07:06.556787Z"
    }
   },
   "outputs": [
    {
     "name": "stdout",
     "output_type": "stream",
     "text": [
      "china\n",
      "china\n",
      "japan\n",
      "japan\n"
     ]
    }
   ],
   "source": [
    "#类方法还有一个用途就是可以对类属性进行修改：\n",
    "class People(object):\n",
    "    country = 'china'\n",
    "\n",
    "    #类方法，用classmethod来进行修饰\n",
    "    @classmethod\n",
    "    def getCountry(cls):\n",
    "        return cls.country\n",
    "\n",
    "    @classmethod\n",
    "    def setCountry(cls,country):\n",
    "        cls.country = country\n",
    "\n",
    "\n",
    "p = People()\n",
    "print (p.getCountry())    #可以用过实例对象引用\n",
    "print (People.getCountry())    #可以通过类对象引用\n",
    "\n",
    "p.setCountry('japan')\n",
    "\n",
    "print (p.getCountry())\n",
    "print (People.getCountry())\n",
    "\n",
    "\n",
    "# 发现规律：\n",
    "# 结果显示在用类方法对类属性修改之后，通过类对象和实例对象访问都发生了改变"
   ]
  },
  {
   "cell_type": "code",
   "execution_count": 8,
   "metadata": {
    "ExecuteTime": {
     "end_time": "2019-05-10T10:08:24.945122Z",
     "start_time": "2019-05-10T10:08:24.938368Z"
    }
   },
   "outputs": [
    {
     "data": {
      "text/plain": [
       "'china'"
      ]
     },
     "execution_count": 8,
     "metadata": {},
     "output_type": "execute_result"
    }
   ],
   "source": [
    "class People(object):\n",
    "    country = 'china'\n",
    "\n",
    "    @staticmethod\n",
    "    #静态方法 静态方法不需要多定义参数\n",
    "    def getCountry():\n",
    "        return People.country\n",
    "People.getCountry()"
   ]
  },
  {
   "cell_type": "markdown",
   "metadata": {},
   "source": [
    "## 封装"
   ]
  },
  {
   "cell_type": "markdown",
   "metadata": {},
   "source": [
    "* 数据封装 --> 私有属性\n",
    "* 方法封装 --> 私有方法"
   ]
  },
  {
   "cell_type": "markdown",
   "metadata": {},
   "source": [
    "## 继承"
   ]
  },
  {
   "cell_type": "markdown",
   "metadata": {},
   "source": [
    "### 单继承"
   ]
  },
  {
   "cell_type": "markdown",
   "metadata": {},
   "source": [
    "class 类名（父类）\n",
    "\n",
    "继承父类的属性和方法"
   ]
  },
  {
   "cell_type": "markdown",
   "metadata": {},
   "source": [
    "### 多继承"
   ]
  },
  {
   "cell_type": "markdown",
   "metadata": {},
   "source": [
    "class 类名（父类1，父类2，）:\n",
    "\n",
    "继承多个父类的属性和方法，就近原则调用"
   ]
  },
  {
   "cell_type": "markdown",
   "metadata": {},
   "source": [
    "### 多态"
   ]
  },
  {
   "cell_type": "markdown",
   "metadata": {},
   "source": []
  },
  {
   "cell_type": "markdown",
   "metadata": {},
   "source": []
  },
  {
   "cell_type": "markdown",
   "metadata": {},
   "source": []
  },
  {
   "cell_type": "markdown",
   "metadata": {},
   "source": []
  },
  {
   "cell_type": "markdown",
   "metadata": {},
   "source": []
  },
  {
   "cell_type": "markdown",
   "metadata": {},
   "source": []
  },
  {
   "cell_type": "markdown",
   "metadata": {},
   "source": [
    "# Python 的器"
   ]
  },
  {
   "cell_type": "markdown",
   "metadata": {},
   "source": [
    "## 生成器（generator）"
   ]
  },
  {
   "cell_type": "markdown",
   "metadata": {},
   "source": [
    "生成器是一个迭代器，也就是一遍循环一遍计算的迭代器，成为生成器\n",
    "\n",
    "\n",
    "在循环的过程中生成，而非创建完整list"
   ]
  },
  {
   "cell_type": "code",
   "execution_count": 240,
   "metadata": {
    "ExecuteTime": {
     "end_time": "2019-05-09T05:59:12.411179Z",
     "start_time": "2019-05-09T05:59:12.398708Z"
    }
   },
   "outputs": [
    {
     "data": {
      "text/plain": [
       "1"
      ]
     },
     "execution_count": 240,
     "metadata": {},
     "output_type": "execute_result"
    },
    {
     "data": {
      "text/plain": [
       "2"
      ]
     },
     "execution_count": 240,
     "metadata": {},
     "output_type": "execute_result"
    },
    {
     "data": {
      "text/plain": [
       "3"
      ]
     },
     "execution_count": 240,
     "metadata": {},
     "output_type": "execute_result"
    }
   ],
   "source": [
    "# 写个生成器\n",
    "\n",
    "class gen():\n",
    "    \n",
    "    def __init__(self):\n",
    "        self.x = 0\n",
    "        \n",
    "    def nex(self):\n",
    "        self.x += 1\n",
    "        return self.x\n",
    "\n",
    "f = gen()\n",
    "f.nex()\n",
    "f.nex()\n",
    "f.nex()"
   ]
  },
  {
   "cell_type": "code",
   "execution_count": 29,
   "metadata": {
    "ExecuteTime": {
     "end_time": "2019-05-10T08:11:07.898701Z",
     "start_time": "2019-05-10T08:11:07.886779Z"
    },
    "scrolled": true
   },
   "outputs": [
    {
     "data": {
      "text/plain": [
       "generator"
      ]
     },
     "execution_count": 29,
     "metadata": {},
     "output_type": "execute_result"
    },
    {
     "data": {
      "text/plain": [
       "(0, 4, 16, 36)"
      ]
     },
     "execution_count": 29,
     "metadata": {},
     "output_type": "execute_result"
    }
   ],
   "source": [
    "# 直接从列表表达式生成\n",
    "\n",
    "g1 = (x**2 for x in range(10) if x%2 == 0 )\n",
    "type(g1)\n",
    "\n",
    "next(g1),next(g1),g1.__next__(),g1.__next__()"
   ]
  },
  {
   "cell_type": "code",
   "execution_count": 30,
   "metadata": {
    "ExecuteTime": {
     "end_time": "2019-05-10T08:12:59.799050Z",
     "start_time": "2019-05-10T08:12:59.792142Z"
    }
   },
   "outputs": [
    {
     "data": {
      "text/plain": [
       "('c', 'h')"
      ]
     },
     "execution_count": 30,
     "metadata": {},
     "output_type": "execute_result"
    }
   ],
   "source": [
    "# 函数生成，yeild关键字\n",
    "\n",
    "def yield_from_iter(iter_object):\n",
    "    yield from iter_object\n",
    "    \n",
    "y = yield_from_iter(\"china\")\n",
    "y.__next__(),next(y)"
   ]
  },
  {
   "cell_type": "markdown",
   "metadata": {},
   "source": [
    "## 迭代器 Iterator"
   ]
  },
  {
   "cell_type": "markdown",
   "metadata": {},
   "source": [
    "迭代器是可以记住遍历对象的位置，并从头开始访问，直到访问结束，只前进不后退"
   ]
  },
  {
   "cell_type": "markdown",
   "metadata": {
    "ExecuteTime": {
     "end_time": "2019-05-10T08:02:24.515188Z",
     "start_time": "2019-05-10T08:02:24.508699Z"
    }
   },
   "source": [
    "![](https://ws1.sinaimg.cn/large/006tNc79gy1g2wa4lo983j30uk0egtc3.jpg)"
   ]
  },
  {
   "cell_type": "code",
   "execution_count": 284,
   "metadata": {
    "ExecuteTime": {
     "end_time": "2019-05-09T06:22:13.656105Z",
     "start_time": "2019-05-09T06:22:13.649177Z"
    }
   },
   "outputs": [],
   "source": [
    "# 写个迭代器\n",
    "\n",
    "ls = [1,2,3,4]\n",
    "\n",
    "class di():\n",
    "    \n",
    "    def __init__(self,x):\n",
    "        self.x = x\n",
    "        self.y = 0\n",
    "        \n",
    "    def nex(self):\n",
    "        if self.y < len(self.x):\n",
    "            self.item = self.x[self.y]\n",
    "            self.y += 1\n",
    "            \n",
    "            return self.item\n",
    "        \n",
    "        else:\n",
    "            print(\"迭代结束！\")"
   ]
  },
  {
   "cell_type": "code",
   "execution_count": 286,
   "metadata": {
    "ExecuteTime": {
     "end_time": "2019-05-09T06:22:24.644236Z",
     "start_time": "2019-05-09T06:22:24.628511Z"
    }
   },
   "outputs": [
    {
     "data": {
      "text/plain": [
       "1"
      ]
     },
     "execution_count": 286,
     "metadata": {},
     "output_type": "execute_result"
    },
    {
     "data": {
      "text/plain": [
       "2"
      ]
     },
     "execution_count": 286,
     "metadata": {},
     "output_type": "execute_result"
    },
    {
     "data": {
      "text/plain": [
       "3"
      ]
     },
     "execution_count": 286,
     "metadata": {},
     "output_type": "execute_result"
    },
    {
     "data": {
      "text/plain": [
       "4"
      ]
     },
     "execution_count": 286,
     "metadata": {},
     "output_type": "execute_result"
    },
    {
     "name": "stdout",
     "output_type": "stream",
     "text": [
      "迭代结束！\n"
     ]
    }
   ],
   "source": [
    "f = di(ls)\n",
    "f.nex()\n",
    "f.nex()\n",
    "f.nex()\n",
    "f.nex()\n",
    "f.nex()"
   ]
  },
  {
   "cell_type": "markdown",
   "metadata": {},
   "source": [
    "### 可迭代对象"
   ]
  },
  {
   "cell_type": "markdown",
   "metadata": {},
   "source": [
    "* 可迭代数据结构 List、Tuple、Dict、Set、String\n",
    "* 生成器generator ，包括生成器和带yeild的迭代函数\n",
    "* 迭代器Iterator ，可以被next调用的迭代器\n",
    "* 可直接作用于for循环的对象，成为可迭代对象（iterable）"
   ]
  },
  {
   "cell_type": "code",
   "execution_count": 258,
   "metadata": {
    "ExecuteTime": {
     "end_time": "2019-05-09T06:07:32.014097Z",
     "start_time": "2019-05-09T06:07:32.005241Z"
    },
    "scrolled": true
   },
   "outputs": [
    {
     "name": "stdout",
     "output_type": "stream",
     "text": [
      "True\n",
      "True\n",
      "True\n",
      "False\n",
      "True\n"
     ]
    }
   ],
   "source": [
    "# 使用Iterable 查看是否为可迭代对象\n",
    "\n",
    "from collections.abc import Iterable\n",
    "a = isinstance([],Iterable)\n",
    "b = isinstance({},Iterable)\n",
    "c = isinstance('abc',Iterable)\n",
    "d = isinstance(100,Iterable)\n",
    "e = isinstance((x for x in range(10)),Iterable)\n",
    "\n",
    "print(a)\n",
    "print(b)\n",
    "print(c)\n",
    "print(d)\n",
    "print(e)"
   ]
  },
  {
   "cell_type": "code",
   "execution_count": 260,
   "metadata": {
    "ExecuteTime": {
     "end_time": "2019-05-09T06:08:32.255280Z",
     "start_time": "2019-05-09T06:08:32.243067Z"
    }
   },
   "outputs": [
    {
     "name": "stdout",
     "output_type": "stream",
     "text": [
      "True\n",
      "False\n",
      "False\n",
      "False\n",
      "True\n"
     ]
    }
   ],
   "source": [
    "#使用Iterator 查看是否为迭代器\n",
    "\n",
    "from collections.abc import Iterator\n",
    "a = isinstance(iter([]),Iterator)\n",
    "b = isinstance({},Iterator)\n",
    "c = isinstance('abc',Iterator)\n",
    "d = isinstance(100,Iterator)\n",
    "e = isinstance((x for x in range(10)),Iterator)\n",
    "\n",
    "print(a)\n",
    "print(b)\n",
    "print(c)\n",
    "print(d)\n",
    "print(e)"
   ]
  },
  {
   "cell_type": "markdown",
   "metadata": {},
   "source": [
    "### iter()函数"
   ]
  },
  {
   "cell_type": "markdown",
   "metadata": {
    "ExecuteTime": {
     "end_time": "2019-05-09T06:09:53.572852Z",
     "start_time": "2019-05-09T06:09:53.566549Z"
    }
   },
   "source": [
    "> 1.凡是可作用于 for 循环的对象都是 Iterable 类型；\n",
    ">\n",
    "> 2.凡是可作用于 next() 函数的对象都是 Iterator 类型\n",
    ">\n",
    "> 3.集合数据类型如 list 、 dict 、 str 等是 Iterable 但不是 Iterator ，\n",
    "不过可以通过 iter() 函数获得一个 Iterator 对象。"
   ]
  },
  {
   "cell_type": "code",
   "execution_count": 275,
   "metadata": {
    "ExecuteTime": {
     "end_time": "2019-05-09T06:18:55.911072Z",
     "start_time": "2019-05-09T06:18:55.907983Z"
    },
    "scrolled": true
   },
   "outputs": [],
   "source": [
    "'''\n",
    "iter(object,[sentinel])\n",
    "\n",
    "object 支持迭代的集合对象\n",
    "\n",
    "sentinel   如果传递了第二个参数，则参数 object 必须是一个可调用的对象（如，函数），\n",
    "此时，iter 创建了一个迭代器对象，每次调用这个迭代器对象的__next__()方法时，都会调用 object。\n",
    "'''"
   ]
  },
  {
   "cell_type": "code",
   "execution_count": 287,
   "metadata": {
    "ExecuteTime": {
     "end_time": "2019-05-09T06:22:45.366332Z",
     "start_time": "2019-05-09T06:22:45.361301Z"
    }
   },
   "outputs": [
    {
     "name": "stdout",
     "output_type": "stream",
     "text": [
      "a\n",
      "b\n",
      "c\n"
     ]
    }
   ],
   "source": [
    "for i in iter(\"abc\"):\n",
    "    print(i)"
   ]
  },
  {
   "cell_type": "markdown",
   "metadata": {},
   "source": [
    "## 装饰器"
   ]
  },
  {
   "cell_type": "markdown",
   "metadata": {},
   "source": [
    "### 闭包"
   ]
  },
  {
   "cell_type": "markdown",
   "metadata": {},
   "source": [
    "> 把一个函数当做参数，返回一个替代版的函数"
   ]
  },
  {
   "cell_type": "code",
   "execution_count": 291,
   "metadata": {
    "ExecuteTime": {
     "end_time": "2019-05-09T06:26:29.831539Z",
     "start_time": "2019-05-09T06:26:29.824299Z"
    }
   },
   "outputs": [
    {
     "name": "stdout",
     "output_type": "stream",
     "text": [
      "****装饰开始*****\n",
      "text\n",
      "****装饰结束*****\n"
     ]
    }
   ],
   "source": [
    "def fun():\n",
    "    print(\"text\")\n",
    "    \n",
    "#创建装饰器\n",
    "def outer(fun):\n",
    "    def inner():\n",
    "        print(\"****装饰开始*****\")\n",
    "        fun()\n",
    "        print(\"****装饰结束*****\")\n",
    "    return inner()\n",
    "\n",
    "outer(fun)"
   ]
  },
  {
   "cell_type": "markdown",
   "metadata": {},
   "source": [
    "### 装饰器的使用"
   ]
  },
  {
   "cell_type": "code",
   "execution_count": 294,
   "metadata": {
    "ExecuteTime": {
     "end_time": "2019-05-09T07:14:01.317752Z",
     "start_time": "2019-05-09T07:14:01.303748Z"
    },
    "scrolled": true
   },
   "outputs": [
    {
     "name": "stdout",
     "output_type": "stream",
     "text": [
      "****装饰开始*****\n",
      "test_1\n",
      "****装饰结束*****\n",
      "****装饰开始*****\n",
      "test_2\n",
      "****装饰结束*****\n",
      "****装饰开始*****\n",
      "test_3\n",
      "****装饰结束*****\n",
      "****装饰开始*****\n",
      "test_4\n",
      "****装饰结束*****\n"
     ]
    }
   ],
   "source": [
    "# 定义装饰器\n",
    "\n",
    "def ww(fun):\n",
    "    def inner():\n",
    "        print(\"****装饰开始*****\")\n",
    "        fun()\n",
    "        print(\"****装饰结束*****\")\n",
    "    return inner()\n",
    "\n",
    "@ww\n",
    "def f1():\n",
    "    print(\"test_1\")\n",
    "    \n",
    "@ww    \n",
    "def f2():\n",
    "    print(\"test_2\")\n",
    "    \n",
    "@ww\n",
    "def f3():\n",
    "    print(\"test_3\")\n",
    "    \n",
    "@ww    \n",
    "def f4():\n",
    "    print(\"test_4\")"
   ]
  }
 ],
 "metadata": {
  "kernelspec": {
   "display_name": "Python 3",
   "language": "python",
   "name": "python3"
  },
  "language_info": {
   "codemirror_mode": {
    "name": "ipython",
    "version": 3
   },
   "file_extension": ".py",
   "mimetype": "text/x-python",
   "name": "python",
   "nbconvert_exporter": "python",
   "pygments_lexer": "ipython3",
   "version": "3.7.2"
  },
  "toc": {
   "base_numbering": 1,
   "nav_menu": {},
   "number_sections": true,
   "sideBar": true,
   "skip_h1_title": false,
   "title_cell": "Table of Contents",
   "title_sidebar": "Contents",
   "toc_cell": false,
   "toc_position": {
    "height": "calc(100% - 180px)",
    "left": "10px",
    "top": "150px",
    "width": "384px"
   },
   "toc_section_display": true,
   "toc_window_display": true
  }
 },
 "nbformat": 4,
 "nbformat_minor": 2
}
